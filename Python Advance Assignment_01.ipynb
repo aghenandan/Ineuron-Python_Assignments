{
 "cells": [
  {
   "cell_type": "markdown",
   "id": "dbd5e443",
   "metadata": {},
   "source": [
    "### What is the purpose of Python's OOP?\n",
    "\n",
    "Ans:\n",
    "\n",
    "Object-oriented programming is a programming paradigm that provides a means of structuring programs so that properties and behaviors are bundled into individual objects. In other words, OOP models real-world entities as software objects that have some data associated with them and can perform certain functions.\n",
    "\n",
    "Another common programming paradigm is procedural programming, which structures a program like a recipe in that it provides a set of steps, in the form of functions and code blocks, that flow sequentially in order to complete a task.\n",
    "\n",
    "The key takeaway is that objects are at the center of object-oriented programming in Python, not only representing the data, as in procedural programming, but in the overall structure of the program as well."
   ]
  },
  {
   "cell_type": "markdown",
   "id": "35fc0a0b",
   "metadata": {},
   "source": [
    "### Where does an inheritance search look for an attribute?\n",
    "\n",
    "Ans:\n",
    "\n",
    "Python searches for an attribute in an upward tree of attributes. it first searches for the attribute in its instance and then looks in the class it is generated from, to all super classes listed in its class header"
   ]
  },
  {
   "cell_type": "markdown",
   "id": "b2f6d608",
   "metadata": {},
   "source": [
    "### How do you distinguish between a class object and an instance object?\n",
    "\n",
    "Ans:\n",
    "\n",
    "The class = the blue print. The Object is an actual thing that is built based on the 'blue print'. An instance is a virtual copy (but not a real copy) of the object.\n",
    "\n",
    "eg. A blueprint for a house design is like a class description. All the houses built from that blueprint are objects of that class. A given house is an instance."
   ]
  },
  {
   "cell_type": "markdown",
   "id": "7f0025c8",
   "metadata": {},
   "source": [
    "### What makes the first argument in a class’s method function special?\n",
    "\n",
    "Ans:\n",
    "\n",
    "The first argument of every class method, including init, is always a reference to the current instance of the class. By convention, this argument is always named self. In the init method, self refers to the newly created object; in other class methods, it refers to the instance whose method was called."
   ]
  },
  {
   "cell_type": "markdown",
   "id": "095bb0a2",
   "metadata": {},
   "source": [
    "### What is the purpose of the __init__ method?\n",
    "\n",
    "Ans:\n",
    "\n",
    "The __init__ function is called every time an object is created from a class. The __init__ method lets the class initialize the object's attributes and serves no other purpose. It is only used within classes."
   ]
  },
  {
   "cell_type": "markdown",
   "id": "16f29f68",
   "metadata": {},
   "source": [
    "### What is the process for creating a class instance?"
   ]
  },
  {
   "cell_type": "code",
   "execution_count": null,
   "id": "7018a9ad",
   "metadata": {},
   "outputs": [],
   "source": []
  }
 ],
 "metadata": {
  "kernelspec": {
   "display_name": "Python 3 (ipykernel)",
   "language": "python",
   "name": "python3"
  },
  "language_info": {
   "codemirror_mode": {
    "name": "ipython",
    "version": 3
   },
   "file_extension": ".py",
   "mimetype": "text/x-python",
   "name": "python",
   "nbconvert_exporter": "python",
   "pygments_lexer": "ipython3",
   "version": "3.10.2"
  },
  "toc": {
   "base_numbering": 1,
   "nav_menu": {},
   "number_sections": true,
   "sideBar": true,
   "skip_h1_title": false,
   "title_cell": "Table of Contents",
   "title_sidebar": "Contents",
   "toc_cell": false,
   "toc_position": {},
   "toc_section_display": true,
   "toc_window_display": false
  }
 },
 "nbformat": 4,
 "nbformat_minor": 5
}
