{
 "cells": [
  {
   "cell_type": "markdown",
   "id": "88e54fdf",
   "metadata": {},
   "source": [
    "### What is the concept of an abstract superclass?\n",
    "\n",
    "Ans:\n",
    "\n",
    "A class is called an Abstract class if it contains one or more abstract methods. \n",
    "\n",
    "An abstract method is a method that is declared, but contains no implementation. \n",
    "\n",
    "Abstract classes may not be instantiated, and its abstract methods must be implemented by its subclasses."
   ]
  },
  {
   "cell_type": "markdown",
   "id": "2fd300c6",
   "metadata": {},
   "source": [
    "### What happens when a class statement's top level contains a basic assignment statement?\n",
    "\n",
    "Ans:\n",
    "\n",
    "When a Class statement's top level contains a basic assignment statement, it is usually treated as a class attribute or class level variable."
   ]
  },
  {
   "cell_type": "markdown",
   "id": "b512f1bb",
   "metadata": {},
   "source": [
    "### Why does a class need to manually call a superclass's __init__ method?\n",
    "\n",
    "Ans:\n",
    "\n",
    "if a child class has __init__ method, then it will not inherit the __init__ method of the parent class. In other words, the __init__ method of the child class overrides the __init__ method of the parent class. So we have to manually call a parent superclass's __init__ using super() method"
   ]
  },
  {
   "cell_type": "markdown",
   "id": "a84eff58",
   "metadata": {},
   "source": [
    "### How can you augment, instead of completely replacing, an inherited method?\n",
    "\n",
    "Ans:\n",
    "\n",
    "super() method can be used to augment, instead of completely replacing, an inherited method."
   ]
  },
  {
   "cell_type": "markdown",
   "id": "f928adb3",
   "metadata": {},
   "source": [
    "### How is the local scope of a class different from that of a function?\n",
    "\n",
    "Ans:\n",
    "\n",
    "declaring a variable in a class outside of a function : all class functions can access it (basically a public variable). this is like a static variable and can be called using the class name. These variables are available to all functions, any functions can modify it and print it.\n",
    "\n",
    "declaring a variable inside a function inside a class : only that function can access it (its in that functions scope). if the variable is declared without self then it is accessible within that function only, kinda local variable. However if it declared using self like self.var= 'somevalue',, then it is accessible via any object but not via the class name."
   ]
  }
 ],
 "metadata": {
  "kernelspec": {
   "display_name": "Python 3 (ipykernel)",
   "language": "python",
   "name": "python3"
  },
  "language_info": {
   "codemirror_mode": {
    "name": "ipython",
    "version": 3
   },
   "file_extension": ".py",
   "mimetype": "text/x-python",
   "name": "python",
   "nbconvert_exporter": "python",
   "pygments_lexer": "ipython3",
   "version": "3.10.2"
  },
  "toc": {
   "base_numbering": 1,
   "nav_menu": {},
   "number_sections": true,
   "sideBar": true,
   "skip_h1_title": false,
   "title_cell": "Table of Contents",
   "title_sidebar": "Contents",
   "toc_cell": false,
   "toc_position": {},
   "toc_section_display": true,
   "toc_window_display": false
  }
 },
 "nbformat": 4,
 "nbformat_minor": 5
}
