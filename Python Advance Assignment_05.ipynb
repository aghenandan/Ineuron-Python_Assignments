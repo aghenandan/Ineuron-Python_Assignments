{
 "cells": [
  {
   "cell_type": "markdown",
   "id": "1e28a8e2",
   "metadata": {},
   "source": [
    "### What is the meaning of multiple inheritance?\n",
    "\n",
    "Ans:\n",
    "\n",
    "When a class is derived from more than one base class it is called multiple Inheritance. \n",
    "\n",
    "The derived class inherits all the features of the base case."
   ]
  },
  {
   "cell_type": "markdown",
   "id": "005c20ff",
   "metadata": {},
   "source": [
    "### What is the concept of delegation?\n",
    "\n",
    "Ans:\n",
    "\n",
    "Delegation provides a proxy object for any class thay you want on top of the main class. its like a wrapper to your class so that you can access limited resources of the main class.\n",
    "\n",
    "it Wraps the object of main class into a smaller object with limited access\n",
    "\n",
    "Simply Delegation means that you can include a instance of another class as an instance variable, and forward messages to the instance."
   ]
  },
  {
   "cell_type": "markdown",
   "id": "fac1c86c",
   "metadata": {},
   "source": [
    "### What is the concept of composition?\n",
    "\n",
    "Ans:\n",
    "\n",
    "Composition is an object oriented design concept that models a has a relationship. In composition, a class known as composite contains an object of another class known to as component. In other words, a composite class has a component of another class.\n",
    "\n",
    "In the concept of Composition, a class refers to one or more other classes by using instances of those classes as a instance variable. Irrespective of inheritence in this approach all the parent class members are not inherited into child class, but only required methods from a class are used by using class instances."
   ]
  },
  {
   "cell_type": "markdown",
   "id": "d2ca6caf",
   "metadata": {},
   "source": [
    "### What are bound methods and how do we use them?\n",
    "\n",
    "Ans:\n",
    "\n",
    "If a function is an attribute of class and it is accessed via the instances, they are called bound methods. \n",
    "\n",
    "A bound method is one that has self as its first argument. Since these are dependent on the instance of classes, these are also known as instance methods."
   ]
  },
  {
   "cell_type": "markdown",
   "id": "72cccbe3",
   "metadata": {},
   "source": [
    "### What is the purpose of pseudoprivate attributes?\n",
    "\n",
    "Ans:\n",
    "\n",
    "Pseudoprivate attributes are useful in larger frameworks or tools, both to avoid introducing new method names that might accidentally hide definitions elsewhere in the class tree and to reduce the chance of internal methods being replaced by names defined lower in the tree. \n",
    "\n",
    "If a method is intended for use only within a class that may be mixed into other classes, the double underscore prefix ensures that the method won't interfere with other names in the tree, especially in multiple-inheritance scenarios."
   ]
  }
 ],
 "metadata": {
  "kernelspec": {
   "display_name": "Python 3 (ipykernel)",
   "language": "python",
   "name": "python3"
  },
  "language_info": {
   "codemirror_mode": {
    "name": "ipython",
    "version": 3
   },
   "file_extension": ".py",
   "mimetype": "text/x-python",
   "name": "python",
   "nbconvert_exporter": "python",
   "pygments_lexer": "ipython3",
   "version": "3.10.2"
  },
  "toc": {
   "base_numbering": 1,
   "nav_menu": {},
   "number_sections": true,
   "sideBar": true,
   "skip_h1_title": false,
   "title_cell": "Table of Contents",
   "title_sidebar": "Contents",
   "toc_cell": false,
   "toc_position": {},
   "toc_section_display": true,
   "toc_window_display": false
  }
 },
 "nbformat": 4,
 "nbformat_minor": 5
}
