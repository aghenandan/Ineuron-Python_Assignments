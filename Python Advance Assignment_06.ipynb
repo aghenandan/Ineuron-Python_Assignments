{
 "cells": [
  {
   "cell_type": "markdown",
   "id": "fa64300e",
   "metadata": {},
   "source": [
    "### Describe three applications for exception processing.\n",
    "\n",
    "Ans:\n",
    "\n",
    "Exception Processing is used in Various Applications of which few examples are:\n",
    "\n",
    "Checking Appropriate use of input in an application\n",
    "\n",
    "Checking for Arithmetic exceptions in mathematical executions\n",
    "\n",
    "Checking File I/O exceptions during File handling"
   ]
  },
  {
   "cell_type": "markdown",
   "id": "f6bce6ee",
   "metadata": {},
   "source": [
    "### What happens if you don't do something extra to treat an exception?\n",
    "\n",
    "Ans:\n",
    "\n",
    "When an exception occurred, if you don't handle it, the program terminates abruptly and the code past the line that caused the exception will not get executed."
   ]
  },
  {
   "cell_type": "markdown",
   "id": "86da9903",
   "metadata": {},
   "source": [
    "### What are your options for recovering from an exception in your script?\n",
    "\n",
    "Ans:\n",
    "\n",
    "The except block is executed when an exception occurs within the try block. \n",
    "\n",
    "The optional else block is executed only if there were no exceptions after try and before finally . \n",
    "\n",
    "The finally block contains instructions that are always executed at the end, regardless of whether exceptions occurred in the try block."
   ]
  },
  {
   "cell_type": "markdown",
   "id": "a6460169",
   "metadata": {},
   "source": [
    "### Describe two methods for triggering exceptions in your script.\n",
    "\n",
    "Ans:\n",
    "\n",
    "raise and assert are two methods that can be used to trigger manual exceptions in your script.\n",
    "\n",
    "raise method triggers an exception if condition provided to it turns out to be True.\n",
    "\n",
    "assert will let the program to continue execution if condition provided to it turns out to be True else exception will be raised"
   ]
  },
  {
   "cell_type": "markdown",
   "id": "9fd7da3d",
   "metadata": {},
   "source": [
    "### Identify two methods for specifying actions to be executed at termination time, regardless of whether or not an exception exists.\n",
    "\n",
    "Ans:\n",
    "\n",
    "Python Provides else and finally blocks for specifying actions to be executed at termination time, regardless of whether an exceptions exists or not."
   ]
  }
 ],
 "metadata": {
  "kernelspec": {
   "display_name": "Python 3 (ipykernel)",
   "language": "python",
   "name": "python3"
  },
  "language_info": {
   "codemirror_mode": {
    "name": "ipython",
    "version": 3
   },
   "file_extension": ".py",
   "mimetype": "text/x-python",
   "name": "python",
   "nbconvert_exporter": "python",
   "pygments_lexer": "ipython3",
   "version": "3.10.2"
  },
  "toc": {
   "base_numbering": 1,
   "nav_menu": {},
   "number_sections": true,
   "sideBar": true,
   "skip_h1_title": false,
   "title_cell": "Table of Contents",
   "title_sidebar": "Contents",
   "toc_cell": false,
   "toc_position": {},
   "toc_section_display": true,
   "toc_window_display": false
  }
 },
 "nbformat": 4,
 "nbformat_minor": 5
}
