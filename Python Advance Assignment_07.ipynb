{
 "cells": [
  {
   "cell_type": "markdown",
   "id": "d7a493ac",
   "metadata": {},
   "source": [
    "### What is the purpose of the try statement?\n",
    "\n",
    "Ans:\n",
    "\n",
    " The try block is used to check some code for errors i.e the code inside the try block will execute when there is no error in the program."
   ]
  },
  {
   "cell_type": "markdown",
   "id": "3e747a27",
   "metadata": {},
   "source": [
    "### What are the two most popular try statement variations?\n",
    "\n",
    "Ans:\n",
    "\n",
    "try,except\n",
    "\n",
    "try,except,finally\n",
    "\n",
    "try,except,finally,else\n",
    "\n",
    "The try block is used to check code for exceptions during runtime. ie code inside try block will execute completely when there is no error in the program. Whereas the code inside except block will execute whenever the program encounters some error in the preceeding try block.\n",
    "\n",
    "Whereas the code enters the else block if and only if the try clause does not raise and exception. The code in the finally block will execute irrespective of exception."
   ]
  },
  {
   "cell_type": "markdown",
   "id": "e521f879",
   "metadata": {},
   "source": [
    "### What is the purpose of the raise statement?\n",
    "\n",
    "Ans:\n",
    "\n",
    "raise statement is used to raise exceptions or errors. \n",
    "\n",
    "The raise keyword raises an error and stops the control flow of the program. \n",
    "\n",
    "It is used to bring up the current exception in an exception handler so that it can be handled further up the call stack."
   ]
  },
  {
   "cell_type": "markdown",
   "id": "ffa7a122",
   "metadata": {},
   "source": [
    "### What does the assert statement do, and what other statement is it like?\n",
    "\n",
    "Ans:\n",
    "\n",
    "An assert statement checks whether a condition is true. \n",
    "\n",
    "If a condition evaluates to True, a program will keep running. \n",
    "\n",
    "If a condition is false, the program will return an AssertionError. At this point, the program will stop executing."
   ]
  },
  {
   "cell_type": "markdown",
   "id": "de28f684",
   "metadata": {},
   "source": [
    "### What is the purpose of the with/as argument, and what other statement is it like?\n",
    "\n",
    "Ans:\n",
    "\n",
    "with/as statement simplifies use of file handling in python. \n",
    "\n",
    "When we use a with statement for file reading, there is no need for programmer to explicitly takecare of activities like resource deallocation and file closing by using file.close() method. \n",
    "\n",
    "with statement itself ensures proper acquisition and release of resources. this avoids triggering of exceptions if file closing is unknowingly forgotten in the code execution."
   ]
  }
 ],
 "metadata": {
  "kernelspec": {
   "display_name": "Python 3 (ipykernel)",
   "language": "python",
   "name": "python3"
  },
  "language_info": {
   "codemirror_mode": {
    "name": "ipython",
    "version": 3
   },
   "file_extension": ".py",
   "mimetype": "text/x-python",
   "name": "python",
   "nbconvert_exporter": "python",
   "pygments_lexer": "ipython3",
   "version": "3.10.2"
  },
  "toc": {
   "base_numbering": 1,
   "nav_menu": {},
   "number_sections": true,
   "sideBar": true,
   "skip_h1_title": false,
   "title_cell": "Table of Contents",
   "title_sidebar": "Contents",
   "toc_cell": false,
   "toc_position": {},
   "toc_section_display": true,
   "toc_window_display": false
  }
 },
 "nbformat": 4,
 "nbformat_minor": 5
}
