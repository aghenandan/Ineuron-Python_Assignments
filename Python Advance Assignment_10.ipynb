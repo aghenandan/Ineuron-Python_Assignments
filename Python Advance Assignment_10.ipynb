{
 "cells": [
  {
   "cell_type": "markdown",
   "id": "3caeec20",
   "metadata": {},
   "source": [
    "### What is the difference between __getattr__ and __getattribute__?\n",
    "\n",
    "Ans:\n",
    "\n",
    "These two methods are implemented as methods of a class. \n",
    "\n",
    "__getattribute__ is always called. Essentially this method is used to find an attribute of a class. If it fails, it will raise an AttributeError. In case it fails, and class implements __getattr__, then __getattr__ is called right after. \n",
    "\n",
    "Therefore, the biggest difference is that __getattr__ is called for attributes that don’t actually exist on a class."
   ]
  },
  {
   "cell_type": "markdown",
   "id": "209ff7a1",
   "metadata": {},
   "source": [
    "### What is the difference between properties and descriptors?\n",
    "\n",
    "Ans:\n",
    "\n",
    "descriptors are a low-level mechanism that lets you hook into an object's attributes being accessed. \n",
    "\n",
    "Properties are a high-level application of this; that is, properties are implemented using descriptors. Or, better yet, properties are descriptors that are already provided in the standard library."
   ]
  },
  {
   "cell_type": "markdown",
   "id": "8c6c1e76",
   "metadata": {},
   "source": [
    "### What are the key differences in functionality between __getattr__ and __getattribute__, as well as properties and descriptors?\n",
    "\n",
    "Ans:\n",
    "\n",
    "__getattr__: Python will call this method whenever an attribute that hasn't already been defined is requested.\n",
    "\n",
    "__getattribute__ : This method will invoke before looking at the actual attributes on the object. Means,if we have __getattribute__ method in our class, python invokes this method for every attribute regardless whether it exists or not.\n",
    "\n",
    "Properties: With Properties we can bind getter, setter and delete functions together with an attribute name, using the built-in property function or @property decorator. When we do this, each reference to an attribute looks like simple, direct access, but involes the appropriate function of the object.\n",
    "\n",
    "Descriptor: With Descriptor we can bind getter, setter and delete functions into a seperate class. we then assign an object of this class to the attribute name in our main class. When we do this, each reference to an attribute looks like simple, direct access but invokes an appropriate function of descriptor object."
   ]
  }
 ],
 "metadata": {
  "kernelspec": {
   "display_name": "Python 3 (ipykernel)",
   "language": "python",
   "name": "python3"
  },
  "language_info": {
   "codemirror_mode": {
    "name": "ipython",
    "version": 3
   },
   "file_extension": ".py",
   "mimetype": "text/x-python",
   "name": "python",
   "nbconvert_exporter": "python",
   "pygments_lexer": "ipython3",
   "version": "3.10.2"
  },
  "toc": {
   "base_numbering": 1,
   "nav_menu": {},
   "number_sections": true,
   "sideBar": true,
   "skip_h1_title": false,
   "title_cell": "Table of Contents",
   "title_sidebar": "Contents",
   "toc_cell": false,
   "toc_position": {},
   "toc_section_display": true,
   "toc_window_display": false
  }
 },
 "nbformat": 4,
 "nbformat_minor": 5
}
