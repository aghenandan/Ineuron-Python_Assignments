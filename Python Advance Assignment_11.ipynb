{
 "cells": [
  {
   "cell_type": "markdown",
   "id": "cd90a078",
   "metadata": {},
   "source": [
    "### What is the concept of a metaclass?\n",
    "\n",
    "Ans:\n",
    "\n",
    "In object-oriented programming, a metaclass is a class whose instances are classes. \n",
    "\n",
    "Just as an ordinary class defines the behavior of certain objects, a metaclass defines the behavior of certain classes and their instances. "
   ]
  },
  {
   "cell_type": "markdown",
   "id": "bc68aa2d",
   "metadata": {},
   "source": [
    "### What is the best way to declare a class's metaclass?\n",
    "\n",
    "Ans:\n",
    "\n",
    "A way to declare a class’ metaclass is by using metaclass keyword in class definition."
   ]
  },
  {
   "cell_type": "markdown",
   "id": "12c48fe2",
   "metadata": {},
   "source": [
    "### How do class decorators overlap with metaclasses for handling classes?\n",
    "\n",
    "Ans:\n",
    "\n",
    "Decorators can be used to manage both instances and classes, and they intersect with metaclasses in the second of these roles. \n",
    "\n",
    "Decorators correspond to metaclass__init_methods in this role, but metaclasses have additional customization hooks. In addition to class initialization, metaclasses can perform arbitrary construction tasks that might be more difficult with decorators.\n",
    "\n",
    "Moreover, although decorators can manage both instances and classes, the converse is not as direct—metaclasses are designed to manage classes, and applying them to managing instances is less straightforward."
   ]
  },
  {
   "cell_type": "markdown",
   "id": "fcfe979f",
   "metadata": {},
   "source": [
    "### How do class decorators overlap with metaclasses for handling instances?\n",
    "\n",
    "Ans:\n",
    "\n",
    "Decorators can be used to manage both instances and classes, and they intersect with metaclasses in the second of these roles. \n",
    "\n",
    "Decorators correspond to metaclass__init_methods in this role, but metaclasses have additional customization hooks. In addition to class initialization, metaclasses can perform arbitrary construction tasks that might be more difficult with decorators.\n",
    "\n",
    "Moreover, although decorators can manage both instances and classes, the converse is not as direct—metaclasses are designed to manage classes, and applying them to managing instances is less straightforward\n"
   ]
  }
 ],
 "metadata": {
  "kernelspec": {
   "display_name": "Python 3 (ipykernel)",
   "language": "python",
   "name": "python3"
  },
  "language_info": {
   "codemirror_mode": {
    "name": "ipython",
    "version": 3
   },
   "file_extension": ".py",
   "mimetype": "text/x-python",
   "name": "python",
   "nbconvert_exporter": "python",
   "pygments_lexer": "ipython3",
   "version": "3.10.2"
  },
  "toc": {
   "base_numbering": 1,
   "nav_menu": {},
   "number_sections": true,
   "sideBar": true,
   "skip_h1_title": false,
   "title_cell": "Table of Contents",
   "title_sidebar": "Contents",
   "toc_cell": false,
   "toc_position": {},
   "toc_section_display": true,
   "toc_window_display": false
  }
 },
 "nbformat": 4,
 "nbformat_minor": 5
}
