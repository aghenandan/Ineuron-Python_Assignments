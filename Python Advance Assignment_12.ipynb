{
 "cells": [
  {
   "cell_type": "markdown",
   "id": "9d652b90",
   "metadata": {},
   "source": [
    "### Does assigning a value to a string's indexed character violate Python's string immutability?\n",
    "\n",
    "Ans:\n",
    "\n",
    "String’s indexed character cannot to be assigned a New value , as Strings are immutable."
   ]
  },
  {
   "cell_type": "markdown",
   "id": "b74fd68c",
   "metadata": {},
   "source": [
    "### Does using the += operator to concatenate strings violate Python's string immutability? Why or why not?\n",
    "\n",
    "Ans:\n",
    "\n",
    "+= operator is used to concatenate strings, it does not violate Python’s string immutability. Because doing so new creates a new association with data and variable"
   ]
  },
  {
   "cell_type": "markdown",
   "id": "c65cd14b",
   "metadata": {},
   "source": [
    "### In Python, how many different ways are there to index a character?\n",
    "\n",
    "Ans:\n",
    "\n",
    "Positive Indexing i.e. first index is 0 an so on\n",
    "\n",
    "Negative Indexing i.e. last letter is -1 and so on"
   ]
  },
  {
   "cell_type": "markdown",
   "id": "5a94dd02",
   "metadata": {},
   "source": [
    "### What is the relationship between indexing and slicing?\n",
    "\n",
    "Ans:\n",
    "\n",
    "“Indexing” means referring to an element of an iterable by its position within the iterable. \n",
    "\n",
    "“Slicing” means getting a subset of elements from an iterable based on their indices."
   ]
  },
  {
   "cell_type": "markdown",
   "id": "0ea16973",
   "metadata": {},
   "source": [
    "### What is an indexed character's exact data type? What is the data form of a slicing-generated substring?\n",
    "\n",
    "Ans:\n",
    "\n",
    "Indexed characters and sliced substrings have datatype String."
   ]
  },
  {
   "cell_type": "markdown",
   "id": "726f2abd",
   "metadata": {},
   "source": [
    "### What is the relationship between string and character \"types\" in Python?\n",
    "\n",
    "Ans:\n",
    "\n",
    "strings in Python are arrays of bytes representing unicode characters. However, Python does not have a character data type, a single character is simply a string with a length of 1. Square brackets can be used to access elements of the string."
   ]
  },
  {
   "cell_type": "markdown",
   "id": "0d882c1f",
   "metadata": {},
   "source": [
    "### Identify at least two operators and one method that allow you to combine one or more smaller strings to create a larger string.\n",
    "\n",
    "Ans:\n",
    "\n",
    "'+' and '*' are two of few operators that allow to combine one or more smaller strings to create a larger string"
   ]
  },
  {
   "cell_type": "markdown",
   "id": "9320d160",
   "metadata": {},
   "source": [
    "### What is the benefit of first checking the target string with in or not in before using the index method to find a substring?\n",
    "\n",
    "Ans:\n",
    "\n",
    "Checking the target string with in or not Operators before using the index method to find a substring just helps confirming availability of substring and thus avoid raising of ValueError."
   ]
  },
  {
   "cell_type": "markdown",
   "id": "395da7bb",
   "metadata": {},
   "source": [
    "### Which operators and built-in string methods produce simple Boolean (true/false) results?\n",
    "\n",
    "Ans:\n",
    "\n",
    "The String Operators and built-in methods to Produce Simple Boolean (True/False) Results are:\n",
    "\n",
    "in\n",
    "\n",
    "not\n",
    "\n",
    "<string>.isalpha()\n",
    "    \n",
    "<string>.isalnum()\n",
    "    \n",
    "<string>.isdecimal()\n",
    "    \n",
    "<string>.isdigit()\n",
    "    \n",
    "<string>.islower()\n",
    "    \n",
    "<string>.isnumeric()\n",
    "    \n",
    "<string>.isprintable()\n",
    "    \n",
    "<string>.isspace()\n",
    "    \n",
    "<string>.istitle()"
   ]
  }
 ],
 "metadata": {
  "kernelspec": {
   "display_name": "Python 3 (ipykernel)",
   "language": "python",
   "name": "python3"
  },
  "language_info": {
   "codemirror_mode": {
    "name": "ipython",
    "version": 3
   },
   "file_extension": ".py",
   "mimetype": "text/x-python",
   "name": "python",
   "nbconvert_exporter": "python",
   "pygments_lexer": "ipython3",
   "version": "3.10.2"
  },
  "toc": {
   "base_numbering": 1,
   "nav_menu": {},
   "number_sections": true,
   "sideBar": true,
   "skip_h1_title": false,
   "title_cell": "Table of Contents",
   "title_sidebar": "Contents",
   "toc_cell": false,
   "toc_position": {},
   "toc_section_display": true,
   "toc_window_display": false
  }
 },
 "nbformat": 4,
 "nbformat_minor": 5
}
