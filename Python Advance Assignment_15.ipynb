{
 "cells": [
  {
   "cell_type": "markdown",
   "id": "428fc068",
   "metadata": {},
   "source": [
    "### What are the new features added in Python 3.8 version?\n",
    "\n",
    "Ans:\n",
    "\n",
    "There is new syntax := that assigns values to variables as part of a larger expression. It is affectionately known as “the walrus operator” due to its resemblance to the eyes and tusks of a walrus.\n",
    "\n",
    "There is a new function parameter syntax / to indicate that some function parameters must be specified positionally and cannot be used as keyword arguments.\n",
    "\n",
    "The new PYTHONPYCACHEPREFIX setting (also available as -X pycache_prefix) configures the implicit bytecode cache to use a separate parallel filesystem tree, rather than the default __pycache__ subdirectories within each source directory.\n",
    "\n",
    "Added an = specifier to f-strings. An f-string such as f'{expr=}' will expand to the text of the expression, an equal sign, then the representation of the evaluated expression.\n",
    "\n",
    "The PEP adds an Audit Hook and Verified Open Hook. Both are available from Python and native code, allowing applications and frameworks written in pure Python code to take advantage of extra notifications, while also allowing embedders or system administrators to deploy builds of Python where auditing is always enabled.\n",
    "\n",
    "The PEP 587 adds a new C API to configure the Python Initialization providing finer control on the whole configuration and better error reporting.\n",
    "\n",
    "and so on..."
   ]
  },
  {
   "cell_type": "markdown",
   "id": "ae2bfcb4",
   "metadata": {},
   "source": [
    "### What is monkey patching in Python?\n",
    "\n",
    "Ans:\n",
    "\n",
    "Monkey-patching is a term that refers to modifying a class or module at a run time. \n",
    "\n",
    "In simple words, a class or module's work can be changed at the runtime. "
   ]
  },
  {
   "cell_type": "markdown",
   "id": "c3b4cf99",
   "metadata": {},
   "source": [
    "### What is the difference between a shallow copy and deep copy?\n",
    "\n",
    "Ans:\n",
    "\n",
    "A shallow copy constructs a new compound object and then (to the extent possible) inserts references into it to the objects found in the original. \n",
    "\n",
    "A deep copy constructs a new compound object and then, recursively, inserts copies into it of the objects found in the original."
   ]
  },
  {
   "cell_type": "markdown",
   "id": "077159bc",
   "metadata": {},
   "source": [
    "### What is the maximum possible length of an identifier?\n",
    "\n",
    "Ans:\n",
    "\n",
    "n Python, the highest possible length of an identifier is 79 characters."
   ]
  },
  {
   "cell_type": "markdown",
   "id": "7a45c3dc",
   "metadata": {},
   "source": [
    "### What is generator comprehension?\n",
    "\n",
    "Ans:\n",
    "\n",
    "A generator comprehension is a single-line specification for defining a generator in Python. \n",
    "\n",
    "It is absolutely essential to learn this syntax in order to write simple and readable code."
   ]
  }
 ],
 "metadata": {
  "kernelspec": {
   "display_name": "Python 3 (ipykernel)",
   "language": "python",
   "name": "python3"
  },
  "language_info": {
   "codemirror_mode": {
    "name": "ipython",
    "version": 3
   },
   "file_extension": ".py",
   "mimetype": "text/x-python",
   "name": "python",
   "nbconvert_exporter": "python",
   "pygments_lexer": "ipython3",
   "version": "3.10.2"
  },
  "toc": {
   "base_numbering": 1,
   "nav_menu": {},
   "number_sections": true,
   "sideBar": true,
   "skip_h1_title": false,
   "title_cell": "Table of Contents",
   "title_sidebar": "Contents",
   "toc_cell": false,
   "toc_position": {},
   "toc_section_display": true,
   "toc_window_display": false
  }
 },
 "nbformat": 4,
 "nbformat_minor": 5
}
