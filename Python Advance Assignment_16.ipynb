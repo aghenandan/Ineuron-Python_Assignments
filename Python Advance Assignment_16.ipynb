{
 "cells": [
  {
   "cell_type": "markdown",
   "id": "fdff94b1",
   "metadata": {},
   "source": [
    "### What is the benefit of regular expressions?\n",
    "\n",
    "Ans:\n",
    "\n",
    "A Regular Expression is used for identifying a search pattern in a text string. \n",
    "\n",
    "It also helps in finding out the correctness of the data and even operations such as finding, replacing and formatting the data is possible using Regular Expressions."
   ]
  },
  {
   "cell_type": "markdown",
   "id": "5f35e3df",
   "metadata": {},
   "source": [
    "### Describe the difference between the effects of \"(ab)c+\" and \"a(bc)+.\" Which of these, if any, is the unqualified pattern \"abc+\"?\n",
    "\n",
    "Ans:\n",
    "\n",
    "Both (ab)c+ and a(bc)+ are valid patterns. \n",
    "\n",
    "The difference between both these patterns is in (ab)c+ ab is group whereas in a(bc)+ bc is a group."
   ]
  },
  {
   "cell_type": "markdown",
   "id": "efd5b8d2",
   "metadata": {},
   "source": [
    "### How much do you need to use the following sentence while using regular expressions?\n",
    "\n",
    "import re\n",
    "\n",
    "Ans:\n",
    "\n",
    "import re statement always has to be imported before using regular expressions.\n"
   ]
  },
  {
   "cell_type": "markdown",
   "id": "ddd27a08",
   "metadata": {},
   "source": [
    "### Which characters have special significance in square brackets when expressing a range, and under what circumstances?\n",
    "\n",
    "Ans:\n",
    "\n",
    "The Characters .,*,?,^,or,(), have a special signiface when used with square brackets. They need not be be explicitly escaped by \\ as in case of pattern texts in a raw string."
   ]
  },
  {
   "cell_type": "markdown",
   "id": "3bafaef5",
   "metadata": {},
   "source": [
    "### How does compiling a regular-expression object benefit you?\n",
    "\n",
    "Ans:\n",
    "\n",
    "We can Combine a regular expression pattern into pattern Objects.Which can be used for pattern matching. it also helps to search a pattern again without rewritting it."
   ]
  },
  {
   "cell_type": "markdown",
   "id": "aefa2605",
   "metadata": {},
   "source": [
    "### What are some examples of how to use the match object returned by re.match and re.search?\n",
    "\n",
    "Ans:\n",
    "\n",
    "The re.search() and re.match() both are functions of re module in python. These functions are very efficient and fast for searching in strings. The function searches for some substring in a string and returns a match object if found, else it returns none.\n",
    "\n",
    "There is a difference between the use of both functions. Both return the first match of a substring found in the string, but re.match() searches only from the beginning of the string and return match object if found. But if a match of substring is found somewhere in the middle of the string, it returns none.\n",
    "\n",
    "While re.search() searches for the whole string even if the string contains multi-lines and tries to find a match of the substring in all the lines of string"
   ]
  },
  {
   "cell_type": "markdown",
   "id": "d88df9d5",
   "metadata": {},
   "source": [
    "### What is the difference between using a vertical bar (|) as an alteration and using square brackets as a character set?\n",
    "\n",
    "Ans:\n",
    "\n",
    "When | us used then patterns searches for or option. i.e <pattern_1>|<pattern_2> means it searches as <pattern_1>or<<pattern_2> in the searched string. the first occurance of matched string will be returned as the Match Object. Using Character set in square Brackets searches for all the character set in the square bracket and if match is found, it returns it."
   ]
  },
  {
   "cell_type": "markdown",
   "id": "9461b414",
   "metadata": {},
   "source": [
    "### In regular-expression search patterns, why is it necessary to use the raw-string indicator (r)? In   replacement strings?\n",
    "\n",
    "Ans:\n",
    "\n",
    "Raw Strings are used in the regular-expression search patterns, so that blackslashes donot have to be escaped."
   ]
  }
 ],
 "metadata": {
  "kernelspec": {
   "display_name": "Python 3 (ipykernel)",
   "language": "python",
   "name": "python3"
  },
  "language_info": {
   "codemirror_mode": {
    "name": "ipython",
    "version": 3
   },
   "file_extension": ".py",
   "mimetype": "text/x-python",
   "name": "python",
   "nbconvert_exporter": "python",
   "pygments_lexer": "ipython3",
   "version": "3.10.2"
  },
  "toc": {
   "base_numbering": 1,
   "nav_menu": {},
   "number_sections": true,
   "sideBar": true,
   "skip_h1_title": false,
   "title_cell": "Table of Contents",
   "title_sidebar": "Contents",
   "toc_cell": false,
   "toc_position": {},
   "toc_section_display": true,
   "toc_window_display": false
  }
 },
 "nbformat": 4,
 "nbformat_minor": 5
}
