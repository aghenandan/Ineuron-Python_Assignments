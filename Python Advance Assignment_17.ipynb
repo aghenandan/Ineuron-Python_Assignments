{
 "cells": [
  {
   "cell_type": "markdown",
   "id": "ec86432f",
   "metadata": {},
   "source": [
    "### Explain the difference between greedy and non-greedy syntax with visual terms in as few words as possible. What is the bare minimum effort required to transform a greedy pattern into a non-greedy one? What characters or characters can you introduce or change?\n",
    "\n",
    "Ans:\n",
    "\n",
    "The Main difference between Greedy and Non Greedy Match Syntax is The Greedy Match will try to match as many repetitions of the quantified pattern as possible Whereas The Non Greedy Match will try to match as few repetitions of the quantified pattern as possible."
   ]
  },
  {
   "cell_type": "code",
   "execution_count": 1,
   "id": "420341fc",
   "metadata": {
    "ExecuteTime": {
     "end_time": "2022-02-07T10:59:27.414232Z",
     "start_time": "2022-02-07T10:59:27.388047Z"
    }
   },
   "outputs": [
    {
     "name": "stdout",
     "output_type": "stream",
     "text": [
      "Greedy Match Syntax\n",
      "['vvvvvv', '']\n",
      "Non Greedy Syntax\n",
      "['', 'v', '', 'v', '', 'v', '', 'v', '', 'v', '', 'v', '']\n"
     ]
    }
   ],
   "source": [
    "import re\n",
    "print(\"Greedy Match Syntax\")\n",
    "print(re.findall(\"v*\", \"vvvvvv\")) \n",
    "print(\"Non Greedy Syntax\")\n",
    "print(re.findall(\"v*?\", \"vvvvvv\")) "
   ]
  },
  {
   "cell_type": "markdown",
   "id": "1d31d3d4",
   "metadata": {},
   "source": [
    "### When exactly does greedy versus non-greedy make a difference?  What if you're looking for a non-greedy match but the only one available is greedy?\n",
    "\n",
    "Ans:\n",
    "\n",
    "The Greedy Match will try to match as many repetitions of the quantified pattern as possible. \n",
    "\n",
    "The Non Greedy Match will try to match as few repetitions of the quantified pattern as possible. \n",
    "\n",
    "If only Non Greedy Match is available, we can use other filtering or pattern matching methods of regex and further identify the required pattern."
   ]
  },
  {
   "cell_type": "markdown",
   "id": "f705aaca",
   "metadata": {},
   "source": [
    "### In a simple match of a string, which looks only for one match and does not do any replacement, is the use of a nontagged group likely to make any practical difference?\n",
    "\n",
    "Ans:\n",
    "\n",
    "The Non Tagged Group will not make any diffrence in this case."
   ]
  },
  {
   "cell_type": "markdown",
   "id": "28049742",
   "metadata": {},
   "source": [
    "### Describe a scenario in which using a nontagged category would have a significant impact on the program's outcomes.\n",
    "\n",
    "Ans:\n",
    "\n",
    "Here in the below Code Snippet '.' decimal is not tagged or captured. It will be useful in scenarios where the separator of value in a string is of no use and we need to capture only the values."
   ]
  },
  {
   "cell_type": "code",
   "execution_count": 2,
   "id": "243e08c6",
   "metadata": {
    "ExecuteTime": {
     "end_time": "2022-02-07T11:02:22.060852Z",
     "start_time": "2022-02-07T11:02:22.018806Z"
    }
   },
   "outputs": [
    {
     "data": {
      "text/plain": [
       "('135', '456')"
      ]
     },
     "execution_count": 2,
     "metadata": {},
     "output_type": "execute_result"
    }
   ],
   "source": [
    "import re\n",
    "text='135.456'\n",
    "pattern=r'(\\d+)(?:.)(\\d+)'\n",
    "regobj=re.compile(pattern)\n",
    "matobj=regobj.search(text)\n",
    "matobj.groups()"
   ]
  },
  {
   "cell_type": "markdown",
   "id": "c9328d23",
   "metadata": {},
   "source": [
    "### Unlike a normal regex pattern, a look-ahead condition does not consume the characters it examines. Describe a situation in which this could make a difference in the results of your programme.\n",
    "\n",
    "Ans:\n",
    "\n",
    "While counting the number of multiple lines or mutiple sentences in a string, the positive look ahead makes a difference, without which we wont get the correct count of lines or sentences in a string."
   ]
  },
  {
   "cell_type": "markdown",
   "id": "4f67cecb",
   "metadata": {},
   "source": [
    "### In standard expressions, what is the difference between positive look-ahead and negative look-ahead?\n",
    "\n",
    "Ans:\n",
    "\n",
    "Positive Lookahead allows to add a condition for what follows. \n",
    "\n",
    "Negative Lookahead is similar, but it looks behind. That is, it allows to match a pattern only if there’s something before it."
   ]
  },
  {
   "cell_type": "markdown",
   "id": "c2da14ba",
   "metadata": {},
   "source": [
    "### What is the benefit of referring to groups by name rather than by number in a standard expression?\n",
    "\n",
    "Ans:\n",
    "\n",
    "Referring to groups by name rather than by number in a standard expression helps to keep the code clear and easy to understand."
   ]
  },
  {
   "cell_type": "markdown",
   "id": "435a5bb1",
   "metadata": {},
   "source": [
    "### Can you identify repeated items within a target string using named groups, as in \"The cow jumped over the moon\"?"
   ]
  },
  {
   "cell_type": "code",
   "execution_count": 3,
   "id": "131e580f",
   "metadata": {
    "ExecuteTime": {
     "end_time": "2022-02-07T11:04:48.879492Z",
     "start_time": "2022-02-07T11:04:48.867526Z"
    }
   },
   "outputs": [
    {
     "data": {
      "text/plain": [
       "['The', 'the']"
      ]
     },
     "execution_count": 3,
     "metadata": {},
     "output_type": "execute_result"
    }
   ],
   "source": [
    "import re\n",
    "text = \"The cow jumped over the moon\"\n",
    "regobj=re.compile(r'(?P<w1>The)',re.I)\n",
    "regobj.findall(text)"
   ]
  },
  {
   "cell_type": "markdown",
   "id": "2702d3ea",
   "metadata": {},
   "source": [
    "### When parsing a string, what is at least one thing that the Scanner interface does for you that the re.findall feature does not?\n",
    "\n",
    "Ans:\n",
    "\n",
    "re.findall() module is used to search for all occurrences that match a given pattern. \n",
    "\n",
    "In contrast, re.search() will only return the first occurrence that matches the specified pattern. \n",
    "\n",
    "re.findall() will iterate over all the lines of the file and will return all non-overlapping matches of pattern in a single step."
   ]
  },
  {
   "cell_type": "markdown",
   "id": "b2f57f88",
   "metadata": {},
   "source": [
    "### Does a scanner object have to be named scanner?\n",
    "\n",
    "Ans:\n",
    "\n",
    "It may have any name."
   ]
  }
 ],
 "metadata": {
  "kernelspec": {
   "display_name": "Python 3 (ipykernel)",
   "language": "python",
   "name": "python3"
  },
  "language_info": {
   "codemirror_mode": {
    "name": "ipython",
    "version": 3
   },
   "file_extension": ".py",
   "mimetype": "text/x-python",
   "name": "python",
   "nbconvert_exporter": "python",
   "pygments_lexer": "ipython3",
   "version": "3.10.2"
  },
  "toc": {
   "base_numbering": 1,
   "nav_menu": {},
   "number_sections": true,
   "sideBar": true,
   "skip_h1_title": false,
   "title_cell": "Table of Contents",
   "title_sidebar": "Contents",
   "toc_cell": false,
   "toc_position": {},
   "toc_section_display": true,
   "toc_window_display": false
  }
 },
 "nbformat": 4,
 "nbformat_minor": 5
}
