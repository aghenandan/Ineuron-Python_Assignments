{
 "cells": [
  {
   "cell_type": "markdown",
   "id": "019e8324",
   "metadata": {},
   "source": [
    "### Describe the differences between text and binary files in a single paragraph.\n",
    "\n",
    "Ans:\n",
    "\n",
    "The main difference between Binary file and text file is the format of contents within the the file.\n",
    "\n",
    "And second reason is the extension of the files.\n",
    "\n",
    "The extension of binary file will be .bin and that for text file will be .txt\n",
    "\n",
    "Binary file contains the data in the form of 0 and 1(series of binary values) and text files contains the data in the form of stream of characters.\n",
    "\n",
    "In general binary files are identified as executable files.But binary files are not in readable form as like text file.\n",
    "\n",
    "Binary files are more efficient. In terms of memory, storing values using numeric formats such as IEEE 754, rather than as text characters, tends to use less memory. \n",
    "\n",
    "In addition, binary formats also offer advantages in terms of speed of access."
   ]
  },
  {
   "cell_type": "markdown",
   "id": "d8d51fed",
   "metadata": {},
   "source": [
    "### What are some scenarios where using text files will be the better option? When would you like to use binary files instead of text files?\n",
    "\n",
    "Ans:\n",
    "\n",
    "Binary files are faster and easier for a program to read and write than are text files. As long as the file doesn’t need to be read by people or need to be ported to a different type of system, binary files are the best way to store program information. \n",
    "\n",
    "One most common example of binary file is image file is .PNG or .JPG. If one tries open these files using a text editor then, he/she may get unrecognizable characters, but when opened using the supporting image viewer, the file will be shown as a single image. This is because the file is in binary format and contains data in the form of sequence of bytes. When the text editor tries to read these bytes and tries to convert bits into characters, they get undesired special characters and display it to the user.\n",
    "\n",
    "Text can be read by people. It can be ported to a different type of system. Because of simple and standard format to store data, text files are one of the most used file formats for storing textual data and are supported in many applications.\n",
    "\n"
   ]
  },
  {
   "cell_type": "markdown",
   "id": "5bc522ed",
   "metadata": {},
   "source": [
    "### What are some of the issues with using binary operations to read and write a Python integer directly to disc?\n",
    "\n",
    "Ans:\n",
    "\n",
    "Issue arises as binary operations deal with raw data, One needs to identify how many bytes that would read or write."
   ]
  },
  {
   "cell_type": "markdown",
   "id": "28e9375f",
   "metadata": {},
   "source": [
    "### Describe a benefit of using the with keyword instead of explicitly opening a file.\n",
    "\n",
    "Ans:\n",
    "\n",
    "Using with means that the file will be closed as soon as we leave the block. \n",
    "\n",
    "This is beneficial because closing a file is something that can easily be forgotten and ties up resources that we no longer need."
   ]
  },
  {
   "cell_type": "markdown",
   "id": "654eed62",
   "metadata": {},
   "source": [
    "### Does Python have the trailing newline while reading a line of text? Does Python append a newline when you write a line of text?\n",
    "\n",
    "Ans:\n",
    "\n",
    "Yes, Python have the trailing newline while reading a line of text. \n",
    "\n",
    "When we write a newline of text, it has to be provided in python excpicitly."
   ]
  },
  {
   "cell_type": "markdown",
   "id": "560656ad",
   "metadata": {},
   "source": [
    "### What file operations enable for random-access operation?\n",
    "\n",
    "Ans:\n",
    "\n",
    "seek() and tell() functions enable random access operations."
   ]
  },
  {
   "cell_type": "markdown",
   "id": "0aaa389d",
   "metadata": {},
   "source": [
    "### When do you think you'll use the struct package the most?\n",
    "\n",
    "Ans:\n",
    "\n",
    "The struct module in Python is used to convert native Python data types such as strings and numbers into a string of bytes and vice versa. \n",
    "\n",
    "What this means is that users can parse binary files of data stored in C structs in Python."
   ]
  },
  {
   "cell_type": "markdown",
   "id": "46da62b2",
   "metadata": {},
   "source": [
    "### When is pickling the best option?\n",
    "\n",
    "Ans:\n",
    "\n",
    "The Python pickle module is a better choice for all the remaining use cases. \n",
    "\n",
    "If we don't need a human-readable format or a standard interoperable format, or if we need to serialize custom objects, then good to go with pickle ."
   ]
  },
  {
   "cell_type": "markdown",
   "id": "6c0ddb44",
   "metadata": {},
   "source": [
    "### When will it be best to use the shelve package?\n",
    "\n",
    "Ans:\n",
    "\n",
    "The shelve module implements persistent storage for arbitrary Python objects which can be pickled, using a dictionary-like API. \n",
    "\n",
    "The shelve module can be used as a simple persistent storage option for Python objects when a relational database is overkill."
   ]
  },
  {
   "cell_type": "markdown",
   "id": "e94b175f",
   "metadata": {},
   "source": [
    "### What is a special restriction when using the shelve package, as opposed to using other data dictionaries?\n",
    "\n",
    "Ans:\n",
    "\n",
    "The shelf dictionary has certain restrictions. Only string data type can be used as key in this special dictionary object, whereas any picklable Python object can be used as value."
   ]
  }
 ],
 "metadata": {
  "kernelspec": {
   "display_name": "Python 3 (ipykernel)",
   "language": "python",
   "name": "python3"
  },
  "language_info": {
   "codemirror_mode": {
    "name": "ipython",
    "version": 3
   },
   "file_extension": ".py",
   "mimetype": "text/x-python",
   "name": "python",
   "nbconvert_exporter": "python",
   "pygments_lexer": "ipython3",
   "version": "3.10.2"
  },
  "toc": {
   "base_numbering": 1,
   "nav_menu": {},
   "number_sections": true,
   "sideBar": true,
   "skip_h1_title": false,
   "title_cell": "Table of Contents",
   "title_sidebar": "Contents",
   "toc_cell": false,
   "toc_position": {},
   "toc_section_display": true,
   "toc_window_display": false
  }
 },
 "nbformat": 4,
 "nbformat_minor": 5
}
