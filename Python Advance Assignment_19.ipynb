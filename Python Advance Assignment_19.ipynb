{
 "cells": [
  {
   "cell_type": "markdown",
   "id": "f88415a0",
   "metadata": {},
   "source": [
    "### Define the relationship between a class and its instances. Is it a one-to-one or a one-to-many partnership, for example?\n",
    "\n",
    "Ans:\n",
    "\n",
    "A class is a set of entities, which are called the instances of the class. An entity can be an instance of many classes, which are called its types, and a class can be a type of many classes.\n",
    "\n",
    "Relationship between a class and its instances is a one to many partnership."
   ]
  },
  {
   "cell_type": "markdown",
   "id": "6f0381bc",
   "metadata": {},
   "source": [
    "### What kind of data is held only in an instance?\n",
    "\n",
    "Ans:\n",
    "\n",
    "Instance objects contains the Instance variables which are specific to that specific Instance object."
   ]
  },
  {
   "cell_type": "markdown",
   "id": "9181ce95",
   "metadata": {},
   "source": [
    "### What kind of knowledge is stored in a class?\n",
    "\n",
    "\n",
    "Ans: \n",
    "\n",
    "Class creates a user-defined data structure, which holds its own data members and member functions, which can be accessed and used by creating an instance of that class. \n",
    "\n",
    "A class is like a blueprint for an object."
   ]
  },
  {
   "cell_type": "markdown",
   "id": "bf0ac689",
   "metadata": {},
   "source": [
    "### What exactly is a method, and how is it different from a regular function?\n",
    "\n",
    "Ans:\n",
    "\n",
    "The methods with a class can be used to access the insatnce variables of its instance. So,the object's state can be modified by its method. \\\n",
    "\n",
    "Function can't access the attributes of an instance of a class or can't modify the state of the object."
   ]
  },
  {
   "cell_type": "markdown",
   "id": "b2fa09f8",
   "metadata": {},
   "source": [
    "### Is inheritance supported in Python, and if so, what is the syntax?\n",
    "\n",
    "Ans:\n",
    "\n",
    "Yes,Python supports inheritance. \n",
    "\n",
    "The Types of Inheritence Supported by Python are:\n",
    "\n",
    "Simple Inheritence\n",
    "\n",
    "Multiple Inheritence\n",
    "\n",
    "Multilevel lInheritence\n",
    "\n",
    "Hybrid Inheritence\n",
    "\n",
    "Hierracial Inheritence"
   ]
  },
  {
   "cell_type": "markdown",
   "id": "cfa52d08",
   "metadata": {},
   "source": [
    "### How much encapsulation (making instance or class variables private) does Python support?\n",
    "\n",
    "Ans:\n",
    "\n",
    "Encapsulation describes the idea of wrapping data and the methods that work on data within one unit. \n",
    "\n",
    "This puts restrictions on accessing variables and methods directly and can prevent the accidental modification of data. \n",
    "\n",
    "To prevent accidental change, an objects variable can only be changed by an objects method."
   ]
  },
  {
   "cell_type": "markdown",
   "id": "08f2dd2e",
   "metadata": {},
   "source": [
    "### How do you distinguish between a class variable and an instance variable?\n",
    "\n",
    "Ans:\n",
    "\n",
    "Class variables share the same value among all instances of the class. The value of instance variables can differ across each instance of a class. \n",
    "\n",
    "Class variables can only be assigned when a class has been defined. Instance variables, on the other hand, can be assigned or changed at any time.\n",
    "\n",
    "Both class variables and instance variables store a value in a program, just like any other Python variable.\n"
   ]
  },
  {
   "cell_type": "markdown",
   "id": "736dc7c7",
   "metadata": {},
   "source": [
    "### When, if ever, can self be included in a class's method definitions?\n",
    "\n",
    "Ans:\n",
    "\n",
    "The self keyword is used to represent an instance (object) of the given class. \n",
    "\n",
    "However, since the class is just a blueprint, self allows access to the attributes and methods of each object in python. This allows each object to have its own attributes and methods."
   ]
  },
  {
   "cell_type": "markdown",
   "id": "ccd4d841",
   "metadata": {},
   "source": [
    "### What is the difference between the _ _add_ _ and the _ _radd_ _ methods?\n",
    "\n",
    "Ans:\n",
    "\n",
    "__add__ magic method is used to add the attributes of the class instance. For example, let's say object1 is an instance of a class A and object2 is an instance of class B and both of these classes have an attribute called 'a', that holds an integer.\n",
    "\n",
    "radd() function performs the addition of the dataframe and other object element-wise. Other object could be a constant, series or a dataframe. The function essentially performs other + dataframe but with an additional support of fill_value, which fills all the missing value in one of the inputs."
   ]
  },
  {
   "cell_type": "markdown",
   "id": "945e1b06",
   "metadata": {},
   "source": [
    "### When is it necessary to use a reflection method? When do you not need it, even though you support the operation in question?\n",
    "\n",
    "Ans:\n",
    "\n",
    "reflection method is used when we need to write one recursive reverse function that will work for strings, lists, and any other sequence that supports slicing and concatenation. \n",
    "\n",
    "Since reflection allows code to perform operations that would be illegal in non-reflective code, such as accessing private fields and methods, the use of reflection can result in unexpected side-effects, which may render code dysfunctional and may destroy portability."
   ]
  },
  {
   "cell_type": "markdown",
   "id": "157029b9",
   "metadata": {},
   "source": [
    "### What is the _ _iadd_ _ method called?\n",
    "\n",
    "Ans:\n",
    "\n",
    "__iadd__(self, other) method returns a new object that represents the sum of two objects. It implements the addition operator + in Python. \n",
    "\n",
    "We call this a “Dunder Method” for “Double Underscore Method” (also called “magic method”)."
   ]
  },
  {
   "cell_type": "markdown",
   "id": "e73497af",
   "metadata": {},
   "source": [
    "### Is the _ _init_ _ method inherited by subclasses? What do you do if you need to customize its behavior within a subclass?\n",
    "\n",
    "Ans:\n",
    "\n",
    "Yes, __init__ method will be inherited by subclasses. if we want to customize its behaviour within a subclass we can use super() method."
   ]
  }
 ],
 "metadata": {
  "kernelspec": {
   "display_name": "Python 3 (ipykernel)",
   "language": "python",
   "name": "python3"
  },
  "language_info": {
   "codemirror_mode": {
    "name": "ipython",
    "version": 3
   },
   "file_extension": ".py",
   "mimetype": "text/x-python",
   "name": "python",
   "nbconvert_exporter": "python",
   "pygments_lexer": "ipython3",
   "version": "3.10.2"
  },
  "toc": {
   "base_numbering": 1,
   "nav_menu": {},
   "number_sections": true,
   "sideBar": true,
   "skip_h1_title": false,
   "title_cell": "Table of Contents",
   "title_sidebar": "Contents",
   "toc_cell": false,
   "toc_position": {},
   "toc_section_display": true,
   "toc_window_display": false
  }
 },
 "nbformat": 4,
 "nbformat_minor": 5
}
