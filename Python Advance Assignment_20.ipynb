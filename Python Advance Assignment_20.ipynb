{
 "cells": [
  {
   "cell_type": "markdown",
   "id": "a974924c",
   "metadata": {},
   "source": [
    "### Compare and contrast the float and Decimal classes' benefits and drawbacks.\n",
    "\n",
    "Ans:\n",
    "\n",
    "DECIMAL and FLOAT both are used to store numerical values.\n",
    "\n",
    "Float is Approximate-number data type, which means that not all values in the data type range can be represented exactly , it round up the values.\n",
    "\n",
    "where as Decimal is Fixed-Precision data type, which means that all the values in the data type range can be represented exactly with precision and scale, it doesn’t round up the values.\n",
    "\n",
    "Float is a single precision (32 bit) floating point data type and decimal is a 128-bit floating point data type.\n",
    "\n",
    "Floating point data type represent number values with fractional parts.\n",
    "\n",
    "Decimal accurately represent any number within the precision of the decimal format, whereas Float cannot accurately represent all numbers.\n",
    "\n",
    "Decimal used within financial applications that require a high degree of accuracy and easy to avoid rounding errors whereas Float used when you stores scientific numbers and for better performance.\n",
    "\n",
    "Performance of Decimals is slower than and float data types."
   ]
  },
  {
   "cell_type": "markdown",
   "id": "101f52d6",
   "metadata": {},
   "source": [
    "### Decimal('1.200') and Decimal('1.2') are two objects to consider. In what sense are these the same object? Are these just two ways of representing the exact same value, or do they correspond to different internal states?\n",
    "\n",
    "Ans:\n",
    "\n",
    "Both values are same but internal representation at storage Is different. \n",
    "\n",
    "Precision differs, Decimal('1.200') gives internally 1.200 and Decimal('1.2') gives 1.2."
   ]
  },
  {
   "cell_type": "markdown",
   "id": "41f00ab3",
   "metadata": {},
   "source": [
    "### What happens if the equality of Decimal('1.200') and Decimal('1.2') is checked?\n",
    "\n",
    "Ans:\n",
    "\n",
    "Both values are checked to be equal , they only differ in precision."
   ]
  },
  {
   "cell_type": "markdown",
   "id": "5c74c393",
   "metadata": {},
   "source": [
    "### Why is it preferable to start a Decimal object with a string rather than a floating-point value?\n",
    "\n",
    "Ans:\n",
    "\n",
    "Floating-point value is converted to Decimal format. Decimal can store float value with absolute precision. But when float value is given as Decimal object,it first has to be converted from floating point value which might already have rounding error.\n",
    "\n",
    "Hence it is preferable to start a Decimal object with a string."
   ]
  },
  {
   "cell_type": "markdown",
   "id": "8d8ea9db",
   "metadata": {},
   "source": [
    "### In an arithmetic phrase, how simple is it to combine Decimal objects with integers?\n",
    "\n",
    "Ans:\n",
    "\n",
    "We can do it with use of Decimal()."
   ]
  },
  {
   "cell_type": "markdown",
   "id": "4c1b6b11",
   "metadata": {},
   "source": [
    "### Can Decimal objects and floating-point values be combined easily?\n",
    "\n",
    "Ans:\n",
    "\n",
    "Arithmetic operfations like Adding,subtracting or multiplying a Decimal object by a floating-point value is generates an error.\n",
    "\n",
    "To do these operations, the floating point has to be converted to a Decimal."
   ]
  },
  {
   "cell_type": "markdown",
   "id": "c0c15e8f",
   "metadata": {},
   "source": [
    "### Using the Fraction class but not the Decimal class, give an example of a quantity that can be expressed with absolute precision.\n",
    "\n",
    "Ans:\n",
    "\n",
    "Value of 0.5 will be represented as ½."
   ]
  },
  {
   "cell_type": "markdown",
   "id": "0c27e923",
   "metadata": {},
   "source": [
    "### Describe a quantity that can be accurately expressed by the Decimal or Fraction classes but not by a floating-point value.\n",
    "\n",
    "Ans:\n",
    "\n",
    "Decimal numbers can be represented exactly, if you have enough space - just not by floating binary point numbers. If you use a floating decimal point type then plenty of values which can't be represented exactly in binary floating point can be exactly represented.\n",
    "\n",
    "In base 10, we can't express 1/3 exactly. It's 0.3333333... (recurring). The reason we can't represent 0.1 as a binary floating point number is for exactly the same reason. We can represent 3, and 9, and 27 exactly - but not 1/3, 1/9 or 1/27.\n",
    "\n",
    "Although 0.1 is usually used as the simplest example of an exact decimal number which can't be represented exactly in binary floating point, arguably 0.2 is a simpler example as it's 1/5 - and 5 is the prime that causes problems between decimal and binary."
   ]
  },
  {
   "cell_type": "markdown",
   "id": "399ce885",
   "metadata": {},
   "source": [
    "### Consider the following two fraction objects: Fraction(1, 2) and Fraction(1, 2). (5, 10). Is the internal state of these two objects the same? Why do you think that is?\n",
    "\n",
    "Ans:\n",
    "\n",
    "Both will be reduced to 1/2"
   ]
  },
  {
   "cell_type": "markdown",
   "id": "125da16e",
   "metadata": {},
   "source": [
    "### How do the Fraction class and the integer type (int) relate to each other? Containment or inheritance?\n",
    "\n",
    "Ans:\n",
    "\n",
    "Fraction class and integer type(int) are related in form of a container.It contains two ints, one the numerator and the other the denominator"
   ]
  }
 ],
 "metadata": {
  "kernelspec": {
   "display_name": "Python 3 (ipykernel)",
   "language": "python",
   "name": "python3"
  },
  "language_info": {
   "codemirror_mode": {
    "name": "ipython",
    "version": 3
   },
   "file_extension": ".py",
   "mimetype": "text/x-python",
   "name": "python",
   "nbconvert_exporter": "python",
   "pygments_lexer": "ipython3",
   "version": "3.10.2"
  },
  "toc": {
   "base_numbering": 1,
   "nav_menu": {},
   "number_sections": true,
   "sideBar": true,
   "skip_h1_title": false,
   "title_cell": "Table of Contents",
   "title_sidebar": "Contents",
   "toc_cell": false,
   "toc_position": {},
   "toc_section_display": true,
   "toc_window_display": false
  }
 },
 "nbformat": 4,
 "nbformat_minor": 5
}
