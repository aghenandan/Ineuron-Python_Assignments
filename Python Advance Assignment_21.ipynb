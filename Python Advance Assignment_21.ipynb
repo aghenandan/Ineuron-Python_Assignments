{
 "cells": [
  {
   "cell_type": "markdown",
   "id": "6ebdbed0",
   "metadata": {},
   "source": [
    "### What is a probability distribution, exactly? If the values are meant to be random, how can you predict them at all?\n",
    "\n",
    "Ans:\n",
    "\n",
    "A probability distribution is a statistical function that describes all the possible values and likelihoods that a random variable can take within a given range. \n",
    "\n",
    "This range will be bounded between the minimum and maximum possible values, but precisely where the possible value is likely to be plotted on the probability distribution depends on a number of factors. \n",
    "\n",
    "These factors include the distribution's mean (average), standard deviation, skewness, and kurtosis.\n",
    "\n",
    "Based on the previous data and the occurences of the random event, we can predict the outcome in terms of probabilities."
   ]
  },
  {
   "cell_type": "markdown",
   "id": "c8f68336",
   "metadata": {},
   "source": [
    "### Is there a distinction between true random numbers and pseudo-random numbers, if there is one? Why are the latter considered “good enough”?\n",
    "\n",
    "Ans:\n",
    "\n",
    "Random is “truly random” - completely unpredictable. What comes before gives you no indication of what will come next whatsoever. \n",
    "\n",
    "Pseudorandom sequences meet the statistical descriptions of randomness, but in fact arise from an algorithm, such that you can predict every single value. In fact, you simply compute the next value from the previous values in a well-determined way.\n",
    "\n",
    "Pseudorandom sequences are good enough because you can use them to test a system’s response to random input, but at the same time you can perfectly duplicate input sequences, for example to recreate error conditions and so on."
   ]
  },
  {
   "cell_type": "markdown",
   "id": "b8b2179b",
   "metadata": {},
   "source": [
    "### What are the two main factors that influence the behaviour of a \"normal\" probability distribution?\n",
    "\n",
    "Ans:\n",
    "\n",
    "The normal distribution is mainly influenced by two parameters, the mean and standard deviation. "
   ]
  },
  {
   "cell_type": "markdown",
   "id": "33858289",
   "metadata": {},
   "source": [
    "### Provide a real-life example of a normal distribution.\n",
    "\n",
    "Ans:\n",
    "\n",
    "The normal birth weight of a newborn range from 2.5 to 3.5 kg. The majority of newborns have normal birthweight whereas only a few percentage of newborns have a weight higher or lower than the normal. Hence, birth weight also follows the normal distribution curve."
   ]
  },
  {
   "cell_type": "markdown",
   "id": "1fa2ca2e",
   "metadata": {},
   "source": [
    "### In the short term, how can you expect a probability distribution to behave? What do you think will happen as the number of trials grows?\n",
    "\n",
    "Ans:\n",
    "\n",
    "Variance will decrease with number of trials\n"
   ]
  },
  {
   "cell_type": "markdown",
   "id": "f5f63b81",
   "metadata": {},
   "source": [
    "### What kind of object can be shuffled by using random.shuffle?\n",
    "\n",
    "Ans:\n",
    "\n",
    "shuffle() is an inbuilt method of the random module. It is used to shuffle a sequence (list). \n",
    "\n",
    "Shuffling means changing the position of the elements of the sequence. "
   ]
  },
  {
   "cell_type": "markdown",
   "id": "e87f2a26",
   "metadata": {},
   "source": [
    "### Describe the math package's general categories of functions.\n",
    "\n",
    "Ans:\n",
    "\n",
    "The Math package's general categories of functions are:\n",
    "\n",
    "Trigonometric functions\n",
    "\n",
    "Angular functions\n",
    "\n",
    "Quadratic functions\n",
    "\n",
    "Exponential functions\n",
    "\n",
    "Hyperbolic functions\n",
    "\n",
    "Periodic functions\n",
    "\n",
    "Arithmetic functions\n",
    "\n",
    "Logarithimic functions\n",
    "\n",
    "Conversions to Integer"
   ]
  },
  {
   "cell_type": "markdown",
   "id": "0f292428",
   "metadata": {},
   "source": [
    "### What is the relationship between exponentiation and logarithms?\n",
    "\n",
    "Ans:\n",
    "\n",
    "exponent: \n",
    "\n",
    "The power to which a number, symbol, or expression is to be raised. For example, the 3 in x3 . \n",
    "\n",
    "logarithm: \n",
    "\n",
    "The logarithm of a number is the exponent by which another fixed value, the base, has to be raised to produce that number.\n",
    "\n",
    "Logarithms are the \"opposite\" of exponentials, just as subtraction is the opposite of addition and division is the opposite of multiplication. Logs \"undo\" exponentials. Technically speaking, logs are the inverses of exponentials."
   ]
  },
  {
   "cell_type": "markdown",
   "id": "2a303c1d",
   "metadata": {},
   "source": [
    "### What are the three logarithmic functions that Python supports?\n",
    "\n",
    "Ans:\n",
    "\n",
    "Variants of Python log() Functions\n",
    "\n",
    "log2(x)\n",
    "\n",
    "log(x, Base)\n",
    "\n",
    "log10(x)\n",
    "\n",
    "log1p(x)"
   ]
  }
 ],
 "metadata": {
  "kernelspec": {
   "display_name": "Python 3 (ipykernel)",
   "language": "python",
   "name": "python3"
  },
  "language_info": {
   "codemirror_mode": {
    "name": "ipython",
    "version": 3
   },
   "file_extension": ".py",
   "mimetype": "text/x-python",
   "name": "python",
   "nbconvert_exporter": "python",
   "pygments_lexer": "ipython3",
   "version": "3.10.2"
  },
  "toc": {
   "base_numbering": 1,
   "nav_menu": {},
   "number_sections": true,
   "sideBar": true,
   "skip_h1_title": false,
   "title_cell": "Table of Contents",
   "title_sidebar": "Contents",
   "toc_cell": false,
   "toc_position": {},
   "toc_section_display": true,
   "toc_window_display": false
  }
 },
 "nbformat": 4,
 "nbformat_minor": 5
}
