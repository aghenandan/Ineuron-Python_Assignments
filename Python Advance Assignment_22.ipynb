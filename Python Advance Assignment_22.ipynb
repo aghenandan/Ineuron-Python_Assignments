{
 "cells": [
  {
   "cell_type": "markdown",
   "id": "408bb2c6",
   "metadata": {},
   "source": [
    "### What are the benefits of the built-in array package, if any?\n",
    "\n",
    "Ans:\n",
    "\n",
    "Python built-in Array will have a smaller size comparitively. This is because the type code of the array is fixed and the number of bytes of each item is also fixed. It loses some flexibility but has less overhead."
   ]
  },
  {
   "cell_type": "markdown",
   "id": "d4f20eb0",
   "metadata": {},
   "source": [
    "### What are some of the array package's limitations?\n",
    "\n",
    "Ans:\n",
    "\n",
    "it has to be defined with a Type Code.\n",
    "\n",
    "It can only contain elements with a certain type."
   ]
  },
  {
   "cell_type": "markdown",
   "id": "7a5f7d67",
   "metadata": {},
   "source": [
    "### Describe the main differences between the array and numpy packages.\n",
    "\n",
    "Ans:\n",
    "\n",
    "There are several important differences between NumPy arrays and the standard Python sequences:\n",
    "\n",
    "NumPy arrays have a fixed size at creation, unlike Python lists (which can grow dynamically). Changing the size of an ndarray will create a new array and delete the original.\n",
    "\n",
    "The elements in a NumPy array are all required to be of the same data type, and thus will be the same size in memory. The exception: one can have arrays of (Python, including NumPy) objects, thereby allowing for arrays of different sized elements.\n",
    "\n",
    "NumPy arrays facilitate advanced mathematical and other types of operations on large numbers of data. Typically, such operations are executed more efficiently and with less code than is possible using Python’s built-in sequences.\n",
    "\n",
    "A growing plethora of scientific and mathematical Python-based packages are using NumPy arrays; though these typically support Python-sequence input, they convert such input to NumPy arrays prior to processing, and they often output NumPy arrays. In other words, in order to efficiently use much (perhaps even most) of today’s scientific/mathematical Python-based software, just knowing how to use Python’s built-in sequence types is insufficient - one also needs to know how to use NumPy arrays."
   ]
  },
  {
   "cell_type": "markdown",
   "id": "291e8717",
   "metadata": {},
   "source": [
    "### Explain the distinctions between the empty, ones, and zeros functions.\n",
    "\n",
    "Ans:\n",
    "\n",
    "The zeros() function of NumPy creates a ndarray initialized with 0 values having shape and dtype as given as input.\n",
    "\n",
    "The ones() function of NumPy creates a ndarray initialized with 1 having shape and dtype as given as input.\n",
    "\n",
    "The empty() function of NumPy creates an uninitialized array having shape and dtype as given to the empty() function."
   ]
  },
  {
   "cell_type": "markdown",
   "id": "12925a5c",
   "metadata": {},
   "source": [
    "### In the fromfunction function, which is used to construct new arrays, what is the role of the callable argument?\n",
    "\n",
    "Ans:\n",
    "\n",
    "The callable argument in the fromfunction is called with N parameters, where N is the rank of shape. Each parameter represents the coordinates of the array varying along a specific axis. For example, if shape were (2, 2), then the parameters would be array([[0, 0], [1, 1]]) and array([[0, 1], [0, 1]])"
   ]
  },
  {
   "cell_type": "markdown",
   "id": "99721c9e",
   "metadata": {},
   "source": [
    "### What happens when a numpy array is combined with a single-value operand (a scalar, such as an int or a floating-point value) through addition, as in the expression A + n?\n",
    "\n",
    "Ans:\n",
    "\n",
    "This is usually called vectorization. Any arithmetic operations between equal-size arrays applies the operation elementwise.\n",
    "\n",
    "append(), concatenate(), and insert() can also be used to add an element to Numpy Array. "
   ]
  },
  {
   "cell_type": "markdown",
   "id": "6ae02903",
   "metadata": {},
   "source": [
    "### Can array-to-scalar operations use combined operation-assign operators (such as += or *=)? What is the outcome?\n",
    "\n",
    "Ans:\n",
    "\n",
    "It will carry out provided operation on all elements of array."
   ]
  },
  {
   "cell_type": "markdown",
   "id": "6d3e677c",
   "metadata": {},
   "source": [
    "### Does a numpy array contain fixed-length strings? What happens if you allocate a longer string to one of these arrays?\n",
    "\n",
    "Ans:\n",
    "\n",
    "The dtype of any numpy array containing string values is the maximum length of any string present in the array. Once set, it will only be able to store new string having length not more than the maximum length at the time of the creation. \n",
    "\n",
    "If we try to reassign some another string value having length greater than the maximum length of the existing elements, it simply discards all the values beyond the maximum length."
   ]
  },
  {
   "cell_type": "markdown",
   "id": "21c6542c",
   "metadata": {},
   "source": [
    "### What happens when you combine two numpy arrays using an operation like addition (+) or multiplication (*)? What are the conditions for combining two numpy arrays?\n",
    "\n",
    "Ans:\n",
    "\n",
    "It will simply add or multiply element to element at same position.\n",
    "\n"
   ]
  },
  {
   "cell_type": "markdown",
   "id": "af557fa1",
   "metadata": {},
   "source": [
    "### What is the best way to use a Boolean array to mask another array?\n",
    "\n",
    "Ans:\n",
    "\n",
    "Using masked_where() function: \n",
    "\n",
    "Pass the two array in the function as a parameter then use numpy.ma.masked_where() function in which pass the condition for masking and array to be masked. In this we are giving the condition for masking by using one array and masking the another array for that condition."
   ]
  },
  {
   "cell_type": "markdown",
   "id": "edccf1b5",
   "metadata": {},
   "source": [
    "### What are three different ways to get the standard deviation of a wide collection of data using both standard Python and its packages? Sort the three of them by how quickly they execute.\n",
    "\n",
    "Ans:\n",
    "\n",
    "The Python statistics module also provides functions to calculate the standard deviation. We can find pstdev() and stdev(). The first function takes the data of an entire population and returns its standard deviation. The second function takes data from a sample and returns an estimation of the population standard deviation."
   ]
  },
  {
   "cell_type": "markdown",
   "id": "ce379812",
   "metadata": {},
   "source": [
    "### What is the dimensionality of a Boolean mask-generated array?\n",
    "\n",
    "Ans:\n",
    "\n",
    "It will have same dimensionality as input array."
   ]
  }
 ],
 "metadata": {
  "kernelspec": {
   "display_name": "Python 3 (ipykernel)",
   "language": "python",
   "name": "python3"
  },
  "language_info": {
   "codemirror_mode": {
    "name": "ipython",
    "version": 3
   },
   "file_extension": ".py",
   "mimetype": "text/x-python",
   "name": "python",
   "nbconvert_exporter": "python",
   "pygments_lexer": "ipython3",
   "version": "3.10.2"
  },
  "toc": {
   "base_numbering": 1,
   "nav_menu": {},
   "number_sections": true,
   "sideBar": true,
   "skip_h1_title": false,
   "title_cell": "Table of Contents",
   "title_sidebar": "Contents",
   "toc_cell": false,
   "toc_position": {},
   "toc_section_display": true,
   "toc_window_display": false
  }
 },
 "nbformat": 4,
 "nbformat_minor": 5
}
