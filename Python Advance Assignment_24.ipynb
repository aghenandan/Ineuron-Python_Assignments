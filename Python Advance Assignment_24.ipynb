{
 "cells": [
  {
   "cell_type": "markdown",
   "id": "1b166a21",
   "metadata": {},
   "source": [
    "### Is it permissible to use several import statements to import the same module? What would the goal be? Can you think of a situation where it would be beneficial?\n",
    "\n",
    "Ans:\n",
    "\n",
    " Yes, it is permissible to use several import statements to import the same module. It is used in case when we have to import multiple functions from same module."
   ]
  },
  {
   "cell_type": "markdown",
   "id": "71471674",
   "metadata": {},
   "source": [
    "### What are some of a module's characteristics? (Name at least one.)\n",
    "\n",
    "Ans:\n",
    "\n",
    "Reusability : Working with modules makes the code reusable.\n",
    "\n",
    "Simplicity: Module focuses on a small proportion of the problem, rather than focusing on the entire problem.\n",
    "\n",
    "Scoping: A separate namespace is defined by a module that helps to avoid collisions between identifiers.\n",
    "\n",
    "The __name__ attribute returns the name of the module. The __doc__ attribute denotes the documentation string (docstring) line written in a module code. __file__ is an optional attribute which holds the name and path of the module file from which it is loaded. The __dict__ attribute will return a dictionary object of module attributes, functions and other definitions and their respective values."
   ]
  },
  {
   "cell_type": "markdown",
   "id": "6f41bed4",
   "metadata": {},
   "source": [
    "### Circular importing, such as when two modules import each other, can lead to dependencies and bugs that aren't visible. How can you go about creating a program that avoids mutual importing?\n",
    "\n",
    "Ans:\n",
    "\n",
    "Circular importing means importing the two modules in each other. If suppose we are wokring in MOD1.py file and it is importing some function say F2() from some other module say MOD2.PY file or we can do vice-versa. What will happen is: This will give an import error.\n",
    "\n",
    "This is because when we import F2() function from module MOD2.py, then this will execute MOD2.py file. And in MOD2.py file there is an another statement of importing MOD1.py module.\n",
    "\n",
    "This will result in endless loop. To avoid this error just do one thingWe can use if __name__ == '__main__'\n",
    "\n",
    "In the function, you can't directly refer to the function in the program. The addition of this sentence avoids the endless loop of the program ."
   ]
  },
  {
   "cell_type": "markdown",
   "id": "6a1ae8aa",
   "metadata": {},
   "source": [
    "### Why is  _ _all_ _ in Python?\n",
    "\n",
    "Ans:\n",
    "\n",
    "It provides list of all modules present in a library.\n",
    "\n"
   ]
  },
  {
   "cell_type": "markdown",
   "id": "5d8f42fb",
   "metadata": {},
   "source": [
    "### In what situation is it useful to refer to the _ _name_ _ attribute or the string '_ _main_ _'?\n",
    "\n",
    "Ans:\n",
    "\n",
    "During the time of execution of the code if we want to refer the module in which we are working on then we uses name attribute. In that case it will return the module in which we are working on. \n",
    "\n",
    "Suppose if that moudle is being imported from some other module then name will have the name of that moudle from where the current module has been imported. The current module in which we are working is refer to the string __main __."
   ]
  },
  {
   "cell_type": "markdown",
   "id": "1dd13468",
   "metadata": {},
   "source": [
    "### What are some of the benefits of attaching a program counter to the RPN interpreter application, which interprets an RPN script line by line?\n",
    "\n",
    "Ans:\n",
    "\n",
    "Reverse Polish Notation (RPN) is a way of writing expressions commonly found in calculators and Forth-like programming languages. In RPN, an expression is a list of instructions for manipulating data on a stack. The most basic instruction is to push a value onto the stack.\n",
    "\n",
    "RPN interpreters use operand stack for evaluation. And hence attaching a program counter to the RPN interpreter application makes it purely functional programming language with an ultra minimalist syntax that uses prefix notation to apply functions and operators within expressions."
   ]
  },
  {
   "cell_type": "markdown",
   "id": "395c904f",
   "metadata": {},
   "source": [
    "### What are the minimum expressions or statements (or both) that you'd need to render a basic programming language like RPN primitive but complete— that is, capable of carrying out any computerised task theoretically possible?\n",
    "\n",
    "Ans:\n",
    "\n",
    "Reverse Polish Notation was designed specifically to make computing easier with the more efficient use of a stack. So we can use a stack here to store numbers until they're used, and then each operand will use the top two values of the stack.\n",
    "\n",
    "Since the order of the numbers is still important for subtraction and division, we'll have to make sure that the two numbers are processed in their original order, which is the opposite order of the stack.\n",
    "\n",
    "After each successful operation, the result should be pushed back onto the stack until it's used. After iteration is complete, the remaining value in the stack will be our answer, so we should return stack[0].\n",
    "\n",
    "Time Complexity: O(N) where N is the length of tokens\n",
    "Space Complexity: O(N) for the length of the stack, up to N / 2 + 1 values\n",
    "or O(1) with the use of an in-place stack"
   ]
  }
 ],
 "metadata": {
  "kernelspec": {
   "display_name": "Python 3 (ipykernel)",
   "language": "python",
   "name": "python3"
  },
  "language_info": {
   "codemirror_mode": {
    "name": "ipython",
    "version": 3
   },
   "file_extension": ".py",
   "mimetype": "text/x-python",
   "name": "python",
   "nbconvert_exporter": "python",
   "pygments_lexer": "ipython3",
   "version": "3.10.2"
  },
  "toc": {
   "base_numbering": 1,
   "nav_menu": {},
   "number_sections": true,
   "sideBar": true,
   "skip_h1_title": false,
   "title_cell": "Table of Contents",
   "title_sidebar": "Contents",
   "toc_cell": false,
   "toc_position": {},
   "toc_section_display": true,
   "toc_window_display": false
  }
 },
 "nbformat": 4,
 "nbformat_minor": 5
}
