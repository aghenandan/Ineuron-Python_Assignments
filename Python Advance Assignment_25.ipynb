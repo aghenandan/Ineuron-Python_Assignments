{
 "cells": [
  {
   "cell_type": "markdown",
   "id": "47997eb6",
   "metadata": {},
   "source": [
    "### What is the distinction between a numpy array and a pandas data frame? Is there a way to convert between the two if there is?\n",
    "\n",
    "Ans:\n",
    "\n",
    "The essential difference is the presence of the index: while the Numpy Array has an implicitly defined integer index used to access the values, the Pandas Series has an explicitly defined index associated with the values.\n",
    "\n",
    "To convert an array to a dataframe with Python you need to 1) have your NumPy array (e.g., np_array), and 2) use the pd. DataFrame() constructor like this: df = pd. DataFrame(np_array, columns=['Column1', 'Column2']) . Remember, that each column in your NumPy array needs to be named with columns.\n",
    "\n",
    "To convert Pandas DataFrame to Numpy Array, use the function DataFrame. to_numpy() . to_numpy() is applied on this DataFrame and the method returns object of type Numpy ndarray. Usually the returned ndarray is 2-dimensional."
   ]
  },
  {
   "cell_type": "markdown",
   "id": "8d0df9eb",
   "metadata": {},
   "source": [
    "### What can go wrong when an user enters in a stock-ticker symbol, and how do you handle it?\n",
    "\n",
    "Ans:\n",
    "\n",
    "These wrong entries cost investors—in transaction fees and embarrassment—when they have to undo the trades."
   ]
  },
  {
   "cell_type": "markdown",
   "id": "d609237c",
   "metadata": {},
   "source": [
    "### Identify some of the plotting techniques that are used to produce a stock-market chart.\n",
    "\n",
    "Ans:\n",
    "\n",
    "Bar chart, Line Chart are used for plotting."
   ]
  },
  {
   "cell_type": "markdown",
   "id": "d366ff66",
   "metadata": {},
   "source": [
    "### Why is it essential to print a legend on a stock market chart?\n",
    "\n",
    "Ans:\n",
    "\n",
    "Legend will help comparison between different stocks, so will be essential on a stock market chart"
   ]
  },
  {
   "cell_type": "markdown",
   "id": "11d06ee5",
   "metadata": {},
   "source": [
    "### What is the best way to limit the length of a pandas data frame to less than a year?\n",
    "\n",
    "Ans:\n",
    "\n",
    "We can use start and end parameters for that. In start we write the date from where we are starting and at the end we write the end date. SO within this span we can restric the duration.Also we can use the parameters like periods for how much times we need the duration and we can also use the frequency parameter."
   ]
  },
  {
   "cell_type": "markdown",
   "id": "77972f47",
   "metadata": {},
   "source": [
    "### What is the definition of a 180-day moving average?\n",
    "\n",
    "Ans:\n",
    "\n",
    "The 180-day moving average is represented as a line on charts and represents the average price over the past 180 days. The moving average can give traders a sense regarding whether the trend is up or down, while also identifying potential support or resistance areas."
   ]
  },
  {
   "cell_type": "markdown",
   "id": "00e9d3c0",
   "metadata": {},
   "source": [
    "### Did the chapter's final example use \"indirect\" importing? If so, how exactly do you do it?\n",
    "\n",
    "Ans:\n",
    "\n",
    "a situation in which a company buys products from someone in another country using an intermediary (= a person or organization that arranges business agreements), or a product that is bought in this way.\n"
   ]
  }
 ],
 "metadata": {
  "kernelspec": {
   "display_name": "Python 3 (ipykernel)",
   "language": "python",
   "name": "python3"
  },
  "language_info": {
   "codemirror_mode": {
    "name": "ipython",
    "version": 3
   },
   "file_extension": ".py",
   "mimetype": "text/x-python",
   "name": "python",
   "nbconvert_exporter": "python",
   "pygments_lexer": "ipython3",
   "version": "3.10.2"
  },
  "toc": {
   "base_numbering": 1,
   "nav_menu": {},
   "number_sections": true,
   "sideBar": true,
   "skip_h1_title": false,
   "title_cell": "Table of Contents",
   "title_sidebar": "Contents",
   "toc_cell": false,
   "toc_position": {},
   "toc_section_display": true,
   "toc_window_display": false
  }
 },
 "nbformat": 4,
 "nbformat_minor": 5
}
