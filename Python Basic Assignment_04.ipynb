{
 "cells": [
  {
   "cell_type": "markdown",
   "id": "dfa0f871",
   "metadata": {},
   "source": [
    "### What exactly is []?\n",
    "\n",
    "Ans:\n",
    "\n",
    "Empty list."
   ]
  },
  {
   "cell_type": "markdown",
   "id": "0f40bb8b",
   "metadata": {},
   "source": [
    "### In a list of values stored in a variable called spam, how would you assign the value 'hello' as the third value? (Assume [2, 4, 6, 8, 10] are in spam.) Let's pretend the spam includes the list ['a', 'b', 'c', 'd'] for the next three queries."
   ]
  },
  {
   "cell_type": "code",
   "execution_count": 1,
   "id": "e1515aae",
   "metadata": {
    "ExecuteTime": {
     "end_time": "2022-02-01T05:22:51.858872Z",
     "start_time": "2022-02-01T05:22:51.843351Z"
    }
   },
   "outputs": [
    {
     "name": "stdout",
     "output_type": "stream",
     "text": [
      "[2, 4, 6, 8, 10]\n",
      "[2, 4, 'hello', 8, 10]\n"
     ]
    }
   ],
   "source": [
    "spam = [2,4,6,8,10]\n",
    "print(spam)\n",
    "spam[2] = 'hello'\n",
    "print(spam)"
   ]
  },
  {
   "cell_type": "markdown",
   "id": "997f594f",
   "metadata": {},
   "source": [
    "### What is the value of spam[int(int('3' * 2) / 11)]?"
   ]
  },
  {
   "cell_type": "code",
   "execution_count": 5,
   "id": "ccce3359",
   "metadata": {
    "ExecuteTime": {
     "end_time": "2022-02-01T05:25:37.403588Z",
     "start_time": "2022-02-01T05:25:37.388396Z"
    }
   },
   "outputs": [
    {
     "data": {
      "text/plain": [
       "'d'"
      ]
     },
     "execution_count": 5,
     "metadata": {},
     "output_type": "execute_result"
    }
   ],
   "source": [
    "spam = ['a','b','c','d']\n",
    "spam[int(int('3' * 2) / 11)]"
   ]
  },
  {
   "cell_type": "markdown",
   "id": "46ff0898",
   "metadata": {},
   "source": [
    "### What is the value of spam[-1]?"
   ]
  },
  {
   "cell_type": "code",
   "execution_count": 6,
   "id": "d4e0187e",
   "metadata": {
    "ExecuteTime": {
     "end_time": "2022-02-01T05:25:56.826839Z",
     "start_time": "2022-02-01T05:25:56.813225Z"
    }
   },
   "outputs": [
    {
     "data": {
      "text/plain": [
       "'d'"
      ]
     },
     "execution_count": 6,
     "metadata": {},
     "output_type": "execute_result"
    }
   ],
   "source": [
    "spam = ['a','b','c','d']\n",
    "spam[-1]"
   ]
  },
  {
   "cell_type": "markdown",
   "id": "0e48d59f",
   "metadata": {},
   "source": [
    "### What is the value of spam[:2]? Let's pretend bacon has the list [3.14, 'cat,' 11, 'cat,' True] for the next three questions."
   ]
  },
  {
   "cell_type": "code",
   "execution_count": 7,
   "id": "5a1babe7",
   "metadata": {
    "ExecuteTime": {
     "end_time": "2022-02-01T05:26:12.089966Z",
     "start_time": "2022-02-01T05:26:12.065967Z"
    }
   },
   "outputs": [
    {
     "data": {
      "text/plain": [
       "['a', 'b']"
      ]
     },
     "execution_count": 7,
     "metadata": {},
     "output_type": "execute_result"
    }
   ],
   "source": [
    "spam = ['a','b','c','d']\n",
    "spam[:2]"
   ]
  },
  {
   "cell_type": "markdown",
   "id": "e51a3e7a",
   "metadata": {},
   "source": [
    "### What is the value of bacon.index('cat')?"
   ]
  },
  {
   "cell_type": "code",
   "execution_count": 10,
   "id": "b85562d3",
   "metadata": {
    "ExecuteTime": {
     "end_time": "2022-02-01T05:27:28.753227Z",
     "start_time": "2022-02-01T05:27:28.742157Z"
    }
   },
   "outputs": [
    {
     "data": {
      "text/plain": [
       "1"
      ]
     },
     "execution_count": 10,
     "metadata": {},
     "output_type": "execute_result"
    }
   ],
   "source": [
    "bacon = [3.14, 'cat', 11, 'cat', True]\n",
    "bacon.index('cat')"
   ]
  },
  {
   "cell_type": "markdown",
   "id": "2faa10ff",
   "metadata": {},
   "source": [
    "### How does bacon.append(99) change the look of the list value in bacon?"
   ]
  },
  {
   "cell_type": "code",
   "execution_count": 11,
   "id": "a436047d",
   "metadata": {
    "ExecuteTime": {
     "end_time": "2022-02-01T05:28:21.150106Z",
     "start_time": "2022-02-01T05:28:21.136850Z"
    }
   },
   "outputs": [
    {
     "name": "stdout",
     "output_type": "stream",
     "text": [
      "[3.14, 'cat', 11, 'cat', True]\n",
      "[3.14, 'cat', 11, 'cat', True, 99]\n"
     ]
    }
   ],
   "source": [
    "bacon = [3.14, 'cat', 11, 'cat', True]\n",
    "print(bacon)\n",
    "bacon.append(99)\n",
    "print(bacon)"
   ]
  },
  {
   "cell_type": "markdown",
   "id": "fa67d1a4",
   "metadata": {},
   "source": [
    "### How does bacon.remove('cat') change the look of the list in bacon?"
   ]
  },
  {
   "cell_type": "code",
   "execution_count": 12,
   "id": "ff587491",
   "metadata": {
    "ExecuteTime": {
     "end_time": "2022-02-01T05:29:08.355172Z",
     "start_time": "2022-02-01T05:29:08.345903Z"
    }
   },
   "outputs": [
    {
     "name": "stdout",
     "output_type": "stream",
     "text": [
      "[3.14, 'cat', 11, 'cat', True]\n",
      "[3.14, 11, 'cat', True]\n"
     ]
    }
   ],
   "source": [
    "bacon = [3.14, 'cat', 11, 'cat', True]\n",
    "print(bacon)\n",
    "bacon.remove('cat')\n",
    "print(bacon)"
   ]
  },
  {
   "cell_type": "markdown",
   "id": "7d1e5665",
   "metadata": {},
   "source": [
    "### What are the list concatenation and list replication operators?\n",
    "\n",
    "Ans:\n",
    "\n",
    "The operator for list concatenation is +, while the operator for replication is *. "
   ]
  },
  {
   "cell_type": "code",
   "execution_count": 36,
   "id": "af317c23",
   "metadata": {
    "ExecuteTime": {
     "end_time": "2022-02-01T06:14:21.109981Z",
     "start_time": "2022-02-01T06:14:21.096123Z"
    }
   },
   "outputs": [
    {
     "name": "stdout",
     "output_type": "stream",
     "text": [
      "Concatenation\n",
      "\n",
      "full name\n",
      "\n",
      "Replication\n",
      "\n",
      "full full full \n"
     ]
    }
   ],
   "source": [
    "print(\"Concatenation\\n\")\n",
    "a = \"full \"\n",
    "b = \"name\"\n",
    "print(a + b)\n",
    "print(\"\\nReplication\\n\")\n",
    "print(a * 3)"
   ]
  },
  {
   "cell_type": "markdown",
   "id": "de8f7277",
   "metadata": {},
   "source": [
    "### What is difference between the list methods append() and insert()?\n",
    "\n",
    "Ans:\n",
    "\n",
    "append() --> adds value only to the end of a list\n",
    "\n",
    "insert() --> adds them anywhere in the list."
   ]
  },
  {
   "cell_type": "code",
   "execution_count": 18,
   "id": "7f7153bb",
   "metadata": {
    "ExecuteTime": {
     "end_time": "2022-02-01T05:37:23.957431Z",
     "start_time": "2022-02-01T05:37:23.951747Z"
    }
   },
   "outputs": [
    {
     "name": "stdout",
     "output_type": "stream",
     "text": [
      "[23, 12, 11, 45]\n"
     ]
    }
   ],
   "source": [
    "list1 = [23,12,11]\n",
    "list1.append(45)\n",
    "print(list1)"
   ]
  },
  {
   "cell_type": "code",
   "execution_count": 19,
   "id": "af519896",
   "metadata": {
    "ExecuteTime": {
     "end_time": "2022-02-01T05:37:32.527484Z",
     "start_time": "2022-02-01T05:37:32.513542Z"
    }
   },
   "outputs": [
    {
     "name": "stdout",
     "output_type": "stream",
     "text": [
      "[23, 12, 11, 45]\n",
      "[23, 12, 56, 11, 45]\n"
     ]
    }
   ],
   "source": [
    "print(list1)\n",
    "list1.insert(2,56)\n",
    "print(list1)"
   ]
  },
  {
   "cell_type": "markdown",
   "id": "741e4d51",
   "metadata": {},
   "source": [
    "### What are the two methods for removing items from a list?\n",
    "\n",
    "Ans:\n",
    "\n",
    "del and remove()"
   ]
  },
  {
   "cell_type": "code",
   "execution_count": 32,
   "id": "e07d6685",
   "metadata": {
    "ExecuteTime": {
     "end_time": "2022-02-01T06:11:36.775489Z",
     "start_time": "2022-02-01T06:11:36.761051Z"
    }
   },
   "outputs": [
    {
     "name": "stdout",
     "output_type": "stream",
     "text": [
      "['mon', 234, 'sat', 'jan', 45.7, [56, 78], 'name', ['wed', 78], 234]\n"
     ]
    },
    {
     "data": {
      "text/plain": [
       "['mon', 'jan', 45.7, [56, 78], 'name', ['wed', 78], 234]"
      ]
     },
     "execution_count": 32,
     "metadata": {},
     "output_type": "execute_result"
    }
   ],
   "source": [
    "#del --> deletes all the elements in range\n",
    "list2 = ['mon',234,'sat','jan',45.7,[56,78],'name',['wed',78],234]\n",
    "print(list2)\n",
    "del list2[1:3]\n",
    "list2"
   ]
  },
  {
   "cell_type": "code",
   "execution_count": 34,
   "id": "c4fee556",
   "metadata": {
    "ExecuteTime": {
     "end_time": "2022-02-01T06:11:48.633992Z",
     "start_time": "2022-02-01T06:11:48.626260Z"
    }
   },
   "outputs": [
    {
     "name": "stdout",
     "output_type": "stream",
     "text": [
      "['mon', 234, 'sat', 'jan', 45.7, [56, 78], 'name', ['wed', 78], 234]\n"
     ]
    },
    {
     "data": {
      "text/plain": [
       "['mon', 'sat', 'jan', 45.7, [56, 78], 'name', ['wed', 78], 234]"
      ]
     },
     "execution_count": 34,
     "metadata": {},
     "output_type": "execute_result"
    }
   ],
   "source": [
    "#remove --> delete the first occurrence of the element\n",
    "list2 = ['mon',234,'sat','jan',45.7,[56,78],'name',['wed',78],234]\n",
    "print(list2)\n",
    "list2.remove(234)\n",
    "list2"
   ]
  },
  {
   "cell_type": "markdown",
   "id": "a00412db",
   "metadata": {},
   "source": [
    "### Describe how list values and string values are identical.\n",
    "\n",
    "Ans:\n",
    "\n",
    "Both list values and string values are ordered collections of characters i.e both are sequences."
   ]
  },
  {
   "cell_type": "markdown",
   "id": "2cf96ac1",
   "metadata": {},
   "source": [
    "### What's the difference between tuples and lists?\n",
    "\n",
    "Ans:\n",
    "\n",
    "1. Lists are mutable. Tuples are immutable.\n",
    "\n",
    "2. Lists consume more memory. Tuple consume less memory as compared to the list.\n",
    "\n",
    "3. Lists have several built-in methods. Tuple does not have many built-in methods.\n",
    "\n",
    "4. Lists are time consuming compared to tuples.\n",
    "\n",
    "5. Changes and errors occur hardly in tuples."
   ]
  },
  {
   "cell_type": "markdown",
   "id": "2fea9d3d",
   "metadata": {},
   "source": [
    "### How do you type a tuple value that only contains the integer 42?"
   ]
  },
  {
   "cell_type": "code",
   "execution_count": 37,
   "id": "f21dfdee",
   "metadata": {
    "ExecuteTime": {
     "end_time": "2022-02-01T06:24:11.322892Z",
     "start_time": "2022-02-01T06:24:11.308993Z"
    }
   },
   "outputs": [
    {
     "name": "stdout",
     "output_type": "stream",
     "text": [
      "<class 'tuple'>\n",
      "<class 'int'>\n"
     ]
    }
   ],
   "source": [
    "tup = (42,)\n",
    "print(type(tup))\n",
    "tupp = (42)\n",
    "print(type(tupp))\n",
    "#That makes ',' mandatory otherwise it considers it as int type"
   ]
  },
  {
   "cell_type": "markdown",
   "id": "50514d72",
   "metadata": {},
   "source": [
    "### How do you get a list value's tuple form? How do you get a tuple value's list form?\n",
    "\n",
    "Ans:\n",
    "\n",
    "The tuple() function and list() function are used respectively."
   ]
  },
  {
   "cell_type": "code",
   "execution_count": 38,
   "id": "a0e0a156",
   "metadata": {
    "ExecuteTime": {
     "end_time": "2022-02-01T06:25:43.731591Z",
     "start_time": "2022-02-01T06:25:43.722891Z"
    }
   },
   "outputs": [
    {
     "name": "stdout",
     "output_type": "stream",
     "text": [
      "(23, 34, 12)\n",
      "[89, 67, 45]\n"
     ]
    }
   ],
   "source": [
    "lis = [23,34,12]\n",
    "print(tuple(lis))\n",
    "tuple1 = (89,67,45)\n",
    "print(list(tuple1))"
   ]
  },
  {
   "cell_type": "markdown",
   "id": "5e043726",
   "metadata": {},
   "source": [
    "### Variables that \"contain\" list values are not necessarily lists themselves. Instead, what do they contain?\n",
    "\n",
    "Ans:\n",
    "\n",
    "Variables always contain references rather than values."
   ]
  },
  {
   "cell_type": "markdown",
   "id": "ea30075b",
   "metadata": {},
   "source": [
    "### How do you distinguish between copy.copy() and copy.deepcopy()?"
   ]
  },
  {
   "cell_type": "code",
   "execution_count": 44,
   "id": "642cc590",
   "metadata": {
    "ExecuteTime": {
     "end_time": "2022-02-01T06:42:22.339726Z",
     "start_time": "2022-02-01T06:42:22.330488Z"
    }
   },
   "outputs": [
    {
     "name": "stdout",
     "output_type": "stream",
     "text": [
      "Before shallow copy\n",
      "\n",
      "[[1, 1, 1], [2, 'AA', 2], [3, 3, 3]]\n",
      "\n",
      "After shallow copy\n",
      "\n",
      "[[1, 1, 1], [2, 'AA', 2], [3, 3, 3]]\n",
      "\n",
      "Before deep copy\n",
      "\n",
      "[[11, 12, 17], ['BB', 62, 28], [93, 32, 23]]\n",
      "\n",
      "After deep copy\n",
      "\n",
      "[[1, 1, 1], [2, 'AA', 2], [3, 3, 3]]\n"
     ]
    }
   ],
   "source": [
    "#In shallow copy any changes made to the original affects both\n",
    "#In deep copy,changes to one doesnt affect another\n",
    "\n",
    "import copy\n",
    "\n",
    "#Shallow copy\n",
    "old_list = [[1, 1, 1], [2, 2, 2], [3, 3, 3]]\n",
    "new_list = copy.copy(old_list)\n",
    "old_list[1][1] = 'AA'\n",
    "\n",
    "#Deep copy\n",
    "old_list1 = [[11, 12, 17], [24, 62, 28], [93, 32, 23]]\n",
    "new_list1 = copy.deepcopy(old_list)\n",
    "old_list1[1][0] = 'BB'\n",
    "\n",
    "print(\"Before shallow copy\\n\")\n",
    "print(old_list)\n",
    "print(\"\\nAfter shallow copy\\n\")\n",
    "print(new_list)\n",
    "print(\"\\nBefore deep copy\\n\")\n",
    "print(old_list1)\n",
    "print(\"\\nAfter deep copy\\n\")\n",
    "print(new_list1)"
   ]
  },
  {
   "cell_type": "code",
   "execution_count": null,
   "id": "74f544cc",
   "metadata": {},
   "outputs": [],
   "source": []
  }
 ],
 "metadata": {
  "kernelspec": {
   "display_name": "Python 3 (ipykernel)",
   "language": "python",
   "name": "python3"
  },
  "language_info": {
   "codemirror_mode": {
    "name": "ipython",
    "version": 3
   },
   "file_extension": ".py",
   "mimetype": "text/x-python",
   "name": "python",
   "nbconvert_exporter": "python",
   "pygments_lexer": "ipython3",
   "version": "3.10.2"
  },
  "toc": {
   "base_numbering": 1,
   "nav_menu": {},
   "number_sections": true,
   "sideBar": true,
   "skip_h1_title": false,
   "title_cell": "Table of Contents",
   "title_sidebar": "Contents",
   "toc_cell": false,
   "toc_position": {},
   "toc_section_display": true,
   "toc_window_display": false
  }
 },
 "nbformat": 4,
 "nbformat_minor": 5
}
