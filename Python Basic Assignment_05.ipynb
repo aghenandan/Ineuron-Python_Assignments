{
 "cells": [
  {
   "cell_type": "markdown",
   "id": "2e74fdab",
   "metadata": {},
   "source": [
    "### What does an empty dictionary's code look like?\n",
    "\n",
    "Ans:\n",
    "\n",
    "An empty dictionary can be created by just placing two curly braces '{}'. "
   ]
  },
  {
   "cell_type": "markdown",
   "id": "3580403a",
   "metadata": {},
   "source": [
    "### What is the value of a dictionary value with the key 'foo' and the value 42?"
   ]
  },
  {
   "cell_type": "code",
   "execution_count": 1,
   "id": "d3f41671",
   "metadata": {
    "ExecuteTime": {
     "end_time": "2022-02-01T06:50:31.286906Z",
     "start_time": "2022-02-01T06:50:31.263497Z"
    }
   },
   "outputs": [
    {
     "name": "stdout",
     "output_type": "stream",
     "text": [
      "{'foo': 42}\n"
     ]
    },
    {
     "data": {
      "text/plain": [
       "dict_values([42])"
      ]
     },
     "execution_count": 1,
     "metadata": {},
     "output_type": "execute_result"
    }
   ],
   "source": [
    "dict = {\"foo\": 42}\n",
    "print(dict)\n",
    "dict.values()"
   ]
  },
  {
   "cell_type": "markdown",
   "id": "55e2ca42",
   "metadata": {},
   "source": [
    "### What is the most significant distinction between a dictionary and a list?\n",
    "\n",
    "Ans:\n",
    "\n",
    "Items in dictionaries are accessed via keys and not via their position.\n",
    "\n",
    "So, dictionaries are unordered key-value-pairs whereas a list is an ordered sequence of objects."
   ]
  },
  {
   "cell_type": "markdown",
   "id": "27380db8",
   "metadata": {},
   "source": [
    "### What happens if you try to access spam['foo'] if spam is {'bar': 100}?\n",
    "\n",
    "Ans:\n",
    "\n",
    "Returns Key error."
   ]
  },
  {
   "cell_type": "code",
   "execution_count": 2,
   "id": "1d3a709f",
   "metadata": {
    "ExecuteTime": {
     "end_time": "2022-02-01T06:53:14.577774Z",
     "start_time": "2022-02-01T06:53:14.076391Z"
    }
   },
   "outputs": [
    {
     "ename": "KeyError",
     "evalue": "'foo'",
     "output_type": "error",
     "traceback": [
      "\u001b[1;31m---------------------------------------------------------------------------\u001b[0m",
      "\u001b[1;31mKeyError\u001b[0m                                  Traceback (most recent call last)",
      "\u001b[1;32m~\\AppData\\Local\\Temp/ipykernel_5268/364692274.py\u001b[0m in \u001b[0;36m<module>\u001b[1;34m\u001b[0m\n\u001b[0;32m      1\u001b[0m \u001b[0mspam\u001b[0m \u001b[1;33m=\u001b[0m \u001b[1;33m{\u001b[0m\u001b[1;34m\"bar\"\u001b[0m\u001b[1;33m:\u001b[0m \u001b[1;36m100\u001b[0m\u001b[1;33m}\u001b[0m\u001b[1;33m\u001b[0m\u001b[1;33m\u001b[0m\u001b[0m\n\u001b[1;32m----> 2\u001b[1;33m \u001b[0mspam\u001b[0m\u001b[1;33m[\u001b[0m\u001b[1;34m\"foo\"\u001b[0m\u001b[1;33m]\u001b[0m\u001b[1;33m\u001b[0m\u001b[1;33m\u001b[0m\u001b[0m\n\u001b[0m",
      "\u001b[1;31mKeyError\u001b[0m: 'foo'"
     ]
    }
   ],
   "source": [
    "spam = {\"bar\": 100}\n",
    "spam[\"foo\"]"
   ]
  },
  {
   "cell_type": "markdown",
   "id": "9e024c35",
   "metadata": {},
   "source": [
    "### If a dictionary is stored in spam, what is the difference between the expressions 'cat' in spam and 'cat' in spam.keys()?\n",
    "\n",
    "Ans:\n",
    "\n",
    "No difference. It just checks whether 'cat' is present in dictionary as a key."
   ]
  },
  {
   "cell_type": "markdown",
   "id": "6a25af30",
   "metadata": {},
   "source": [
    "### If a dictionary is stored in spam, what is the difference between the expressions 'cat' in spam and 'cat' in spam.values()?\n",
    "\n",
    "Ans:\n",
    "\n",
    "'cat' in spam checks whether there is a 'cat' key in the dictionary, while 'cat' in spam.values() checks whether there is a value 'cat' in any one of the keys in spam."
   ]
  },
  {
   "cell_type": "markdown",
   "id": "04a15d06",
   "metadata": {},
   "source": [
    "### What is a shortcut for the following code?\n",
    "\n",
    "if 'color' not in spam:\n",
    "\n",
    "spam['color'] = 'black'\n",
    "\n",
    "Ans:\n",
    "\n",
    "setdefault() method is used to do this in one line of code. \n",
    "\n",
    "It can be written as\n",
    "\n",
    "spam.setdefault('color', 'black')\n"
   ]
  },
  {
   "cell_type": "markdown",
   "id": "6249c211",
   "metadata": {},
   "source": [
    "### How do you \"pretty print\" dictionary values using which module and function?\n",
    "\n",
    "Ans:\n",
    "\n",
    "pprint is the Python module that provides the capability to pretty print Python data types to be more readable. This module also supports pretty-printing dictionary.\n",
    "\n",
    "Within the pprint module there is a function with the same name pprint(), which is the function used to pretty-print the given string or object."
   ]
  },
  {
   "cell_type": "code",
   "execution_count": null,
   "id": "60a6e6c2",
   "metadata": {},
   "outputs": [],
   "source": []
  }
 ],
 "metadata": {
  "kernelspec": {
   "display_name": "Python 3 (ipykernel)",
   "language": "python",
   "name": "python3"
  },
  "language_info": {
   "codemirror_mode": {
    "name": "ipython",
    "version": 3
   },
   "file_extension": ".py",
   "mimetype": "text/x-python",
   "name": "python",
   "nbconvert_exporter": "python",
   "pygments_lexer": "ipython3",
   "version": "3.10.2"
  },
  "toc": {
   "base_numbering": 1,
   "nav_menu": {},
   "number_sections": true,
   "sideBar": true,
   "skip_h1_title": false,
   "title_cell": "Table of Contents",
   "title_sidebar": "Contents",
   "toc_cell": false,
   "toc_position": {},
   "toc_section_display": true,
   "toc_window_display": false
  }
 },
 "nbformat": 4,
 "nbformat_minor": 5
}
