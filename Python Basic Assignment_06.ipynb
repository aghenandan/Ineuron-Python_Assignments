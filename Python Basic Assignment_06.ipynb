{
 "cells": [
  {
   "cell_type": "markdown",
   "id": "f6b11b04",
   "metadata": {},
   "source": [
    "### What are escape characters, and how do you use them?\n",
    "\n",
    "Ans:\n",
    "\n",
    "In Python strings, the backslash \"\\\" is a special character, also called the \"escape\" character. \n",
    "\n",
    "It is used in representing certain whitespace characters: \"\\t\" is a tab, \"\\n\" is a newline, and \"\\r\" is a carriage return."
   ]
  },
  {
   "cell_type": "markdown",
   "id": "e2268dbd",
   "metadata": {},
   "source": [
    "### What do the escape characters n and t stand for?\n",
    "\n",
    "Ans:\n",
    "\n",
    "\\n means new line \n",
    "\n",
    "\\t means tab"
   ]
  },
  {
   "cell_type": "markdown",
   "id": "318926c0",
   "metadata": {},
   "source": [
    "### What is the way to include backslash characters in a string?\n",
    "\n",
    "Ans:\n",
    "\n",
    "Use \"\\\\\" within the string literal to represent a single backslash."
   ]
  },
  {
   "cell_type": "markdown",
   "id": "2d10fb0e",
   "metadata": {},
   "source": [
    "### The string \"Howl's Moving Castle\" is a correct value. Why isn't the single quote character in the word Howl's not escaped a problem?\n",
    "\n",
    "Ans:\n",
    "\n",
    "The string \"Howl's Moving Castle\" escaped the problem because it is wrapped inside double quotes. \n",
    "\n",
    "if its wrapped inside single quotes then we have to use escape character \\' to show single quote in the final output."
   ]
  },
  {
   "cell_type": "code",
   "execution_count": 1,
   "id": "5e57f1ab",
   "metadata": {
    "ExecuteTime": {
     "end_time": "2022-02-01T07:32:26.326055Z",
     "start_time": "2022-02-01T07:32:26.307477Z"
    }
   },
   "outputs": [
    {
     "data": {
      "text/plain": [
       "\"Howl's Moving Castle\""
      ]
     },
     "execution_count": 1,
     "metadata": {},
     "output_type": "execute_result"
    }
   ],
   "source": [
    "\"Howl's Moving Castle\""
   ]
  },
  {
   "cell_type": "code",
   "execution_count": 2,
   "id": "ce612a2e",
   "metadata": {
    "ExecuteTime": {
     "end_time": "2022-02-01T07:32:44.604072Z",
     "start_time": "2022-02-01T07:32:44.595512Z"
    }
   },
   "outputs": [
    {
     "ename": "SyntaxError",
     "evalue": "unterminated string literal (detected at line 1) (Temp/ipykernel_22100/2057793136.py, line 1)",
     "output_type": "error",
     "traceback": [
      "\u001b[1;36m  File \u001b[1;32m\"C:\\Users\\91995\\AppData\\Local\\Temp/ipykernel_22100/2057793136.py\"\u001b[1;36m, line \u001b[1;32m1\u001b[0m\n\u001b[1;33m    'Howl's Moving Castle'\u001b[0m\n\u001b[1;37m                         ^\u001b[0m\n\u001b[1;31mSyntaxError\u001b[0m\u001b[1;31m:\u001b[0m unterminated string literal (detected at line 1)\n"
     ]
    }
   ],
   "source": [
    "'Howl's Moving Castle'"
   ]
  },
  {
   "cell_type": "code",
   "execution_count": 3,
   "id": "2b8c44cd",
   "metadata": {
    "ExecuteTime": {
     "end_time": "2022-02-01T07:33:00.973394Z",
     "start_time": "2022-02-01T07:33:00.964274Z"
    }
   },
   "outputs": [
    {
     "data": {
      "text/plain": [
       "\"Howl's Moving Castle\""
      ]
     },
     "execution_count": 3,
     "metadata": {},
     "output_type": "execute_result"
    }
   ],
   "source": [
    "'Howl\\'s Moving Castle'"
   ]
  },
  {
   "cell_type": "markdown",
   "id": "1c3a7685",
   "metadata": {},
   "source": [
    "### How do you write a string of newlines if you don't want to use the n character?\n",
    "\n",
    "Ans:\n",
    "\n",
    "Either by using multiline string i.e enclosing within three single quotes or\n",
    "\n",
    "by using print() to create next line."
   ]
  },
  {
   "cell_type": "markdown",
   "id": "4ecbb7a7",
   "metadata": {},
   "source": [
    "### What are the values of the given expressions?\n",
    "\n",
    "'Hello, world!'[1]\n",
    "\n",
    "'Hello, world!'[0:5]\n",
    "\n",
    "'Hello, world!'[:5]\n",
    "\n",
    "'Hello, world!'[3:]\n"
   ]
  },
  {
   "cell_type": "code",
   "execution_count": 5,
   "id": "cac81ec1",
   "metadata": {
    "ExecuteTime": {
     "end_time": "2022-02-01T07:40:48.812802Z",
     "start_time": "2022-02-01T07:40:48.806685Z"
    }
   },
   "outputs": [
    {
     "data": {
      "text/plain": [
       "'e'"
      ]
     },
     "execution_count": 5,
     "metadata": {},
     "output_type": "execute_result"
    }
   ],
   "source": [
    "'Hello, world!'[1]"
   ]
  },
  {
   "cell_type": "code",
   "execution_count": 6,
   "id": "9763677a",
   "metadata": {
    "ExecuteTime": {
     "end_time": "2022-02-01T07:41:06.397437Z",
     "start_time": "2022-02-01T07:41:06.388267Z"
    }
   },
   "outputs": [
    {
     "data": {
      "text/plain": [
       "'Hello'"
      ]
     },
     "execution_count": 6,
     "metadata": {},
     "output_type": "execute_result"
    }
   ],
   "source": [
    "'Hello, world!'[0:5]"
   ]
  },
  {
   "cell_type": "code",
   "execution_count": 7,
   "id": "577cb995",
   "metadata": {
    "ExecuteTime": {
     "end_time": "2022-02-01T07:41:25.185491Z",
     "start_time": "2022-02-01T07:41:25.174491Z"
    }
   },
   "outputs": [
    {
     "data": {
      "text/plain": [
       "'Hello'"
      ]
     },
     "execution_count": 7,
     "metadata": {},
     "output_type": "execute_result"
    }
   ],
   "source": [
    "'Hello, world!'[:5]"
   ]
  },
  {
   "cell_type": "code",
   "execution_count": 8,
   "id": "7cbb345b",
   "metadata": {
    "ExecuteTime": {
     "end_time": "2022-02-01T07:41:29.455545Z",
     "start_time": "2022-02-01T07:41:29.442325Z"
    }
   },
   "outputs": [
    {
     "data": {
      "text/plain": [
       "'lo, world!'"
      ]
     },
     "execution_count": 8,
     "metadata": {},
     "output_type": "execute_result"
    }
   ],
   "source": [
    "'Hello, world!'[3:]"
   ]
  },
  {
   "cell_type": "markdown",
   "id": "f3ddc4de",
   "metadata": {},
   "source": [
    "### What are the values of the following expressions?\n",
    "\n",
    "'Hello'.upper()\n",
    "\n",
    "'Hello'.upper().isupper()\n",
    "\n",
    "'Hello'.upper().lower()"
   ]
  },
  {
   "cell_type": "code",
   "execution_count": 9,
   "id": "05c8fb42",
   "metadata": {
    "ExecuteTime": {
     "end_time": "2022-02-01T07:41:41.618311Z",
     "start_time": "2022-02-01T07:41:41.597116Z"
    }
   },
   "outputs": [
    {
     "data": {
      "text/plain": [
       "'HELLO'"
      ]
     },
     "execution_count": 9,
     "metadata": {},
     "output_type": "execute_result"
    }
   ],
   "source": [
    "'Hello'.upper()"
   ]
  },
  {
   "cell_type": "code",
   "execution_count": 10,
   "id": "21289a4b",
   "metadata": {
    "ExecuteTime": {
     "end_time": "2022-02-01T07:41:54.370648Z",
     "start_time": "2022-02-01T07:41:54.340313Z"
    }
   },
   "outputs": [
    {
     "data": {
      "text/plain": [
       "True"
      ]
     },
     "execution_count": 10,
     "metadata": {},
     "output_type": "execute_result"
    }
   ],
   "source": [
    "'Hello'.upper().isupper()"
   ]
  },
  {
   "cell_type": "code",
   "execution_count": 11,
   "id": "dab0c03d",
   "metadata": {
    "ExecuteTime": {
     "end_time": "2022-02-01T07:42:05.867822Z",
     "start_time": "2022-02-01T07:42:05.850499Z"
    }
   },
   "outputs": [
    {
     "data": {
      "text/plain": [
       "'hello'"
      ]
     },
     "execution_count": 11,
     "metadata": {},
     "output_type": "execute_result"
    }
   ],
   "source": [
    "'Hello'.upper().lower()"
   ]
  },
  {
   "cell_type": "markdown",
   "id": "3263e0d3",
   "metadata": {},
   "source": [
    "### What are the values of the following expressions?\n",
    "\n",
    "'Remember, remember, the fifth of July.'.split()\n",
    "\n",
    "'-'.join('There can only one.'.split())\n"
   ]
  },
  {
   "cell_type": "code",
   "execution_count": 12,
   "id": "87be62f6",
   "metadata": {
    "ExecuteTime": {
     "end_time": "2022-02-01T07:42:15.973233Z",
     "start_time": "2022-02-01T07:42:15.954386Z"
    }
   },
   "outputs": [
    {
     "data": {
      "text/plain": [
       "['Remember,', 'remember,', 'the', 'fifth', 'of', 'July.']"
      ]
     },
     "execution_count": 12,
     "metadata": {},
     "output_type": "execute_result"
    }
   ],
   "source": [
    "'Remember, remember, the fifth of July.'.split()"
   ]
  },
  {
   "cell_type": "code",
   "execution_count": 13,
   "id": "7f90d27f",
   "metadata": {
    "ExecuteTime": {
     "end_time": "2022-02-01T07:42:27.882252Z",
     "start_time": "2022-02-01T07:42:27.859015Z"
    }
   },
   "outputs": [
    {
     "data": {
      "text/plain": [
       "'There-can-only-one.'"
      ]
     },
     "execution_count": 13,
     "metadata": {},
     "output_type": "execute_result"
    }
   ],
   "source": [
    "'-'.join('There can only one.'.split())"
   ]
  },
  {
   "cell_type": "markdown",
   "id": "4e2ba8dc",
   "metadata": {},
   "source": [
    "### What are the methods for right-justifying, left-justifying, and centering a string?\n",
    "\n",
    "Ans:\n",
    "\n",
    "The rjust(),ljust(),center() string methods"
   ]
  },
  {
   "cell_type": "code",
   "execution_count": 15,
   "id": "23c39056",
   "metadata": {
    "ExecuteTime": {
     "end_time": "2022-02-01T07:51:00.456023Z",
     "start_time": "2022-02-01T07:51:00.431173Z"
    }
   },
   "outputs": [
    {
     "name": "stdout",
     "output_type": "stream",
     "text": [
      "Original String\n",
      " I love Python\n",
      "\n",
      "Right String Alignment\n",
      "\n",
      "-------I love Python\n",
      "\n",
      "Left String Alignment\n",
      "\n",
      "I love Python-------\n",
      "\n",
      "Center String Alignment\n",
      "\n",
      "----I love Python----\n"
     ]
    }
   ],
   "source": [
    "str = \"I love Python\"\n",
    "print(\"Original String\\n\",str)\n",
    "print(\"\\nRight String Alignment\\n\")\n",
    "print(str.rjust(20,'-'))\n",
    "print(\"\\nLeft String Alignment\\n\")\n",
    "print(str.ljust(20,'-'))\n",
    "print(\"\\nCenter String Alignment\\n\")\n",
    "print(str.center(21,'-'))"
   ]
  },
  {
   "cell_type": "markdown",
   "id": "8abc736d",
   "metadata": {},
   "source": [
    "### What is the best way to remove whitespace characters from the start or end?\n",
    "\n",
    "Ans:\n",
    "\n",
    "strip() method is the best way to remove whitespace characters from the start and end of the original string."
   ]
  },
  {
   "cell_type": "code",
   "execution_count": 19,
   "id": "9bbc542d",
   "metadata": {
    "ExecuteTime": {
     "end_time": "2022-02-01T08:32:26.477114Z",
     "start_time": "2022-02-01T08:32:26.465822Z"
    }
   },
   "outputs": [
    {
     "name": "stdout",
     "output_type": "stream",
     "text": [
      "Original String\n",
      "    I love Python   \n",
      "\n",
      "Stripping spaces from left:\n",
      "\n",
      "I love Python   \n",
      "\n",
      "Stripping spaces from right:\n",
      "\n",
      "   I love Python\n",
      "\n",
      "Stripping spaces from both left and right:\n",
      "\n",
      "I love Python\n"
     ]
    }
   ],
   "source": [
    "str = \"   I love Python   \"\n",
    "print(\"Original String\\n\",str)\n",
    "print(\"\\nStripping spaces from left:\\n\")\n",
    "print ( str.lstrip(' ') )\n",
    "print(\"\\nStripping spaces from right:\\n\")\n",
    "print ( str.rstrip(' ') )\n",
    "print(\"\\nStripping spaces from both left and right:\\n\")\n",
    "print ( str.strip(' ') )"
   ]
  }
 ],
 "metadata": {
  "kernelspec": {
   "display_name": "Python 3 (ipykernel)",
   "language": "python",
   "name": "python3"
  },
  "language_info": {
   "codemirror_mode": {
    "name": "ipython",
    "version": 3
   },
   "file_extension": ".py",
   "mimetype": "text/x-python",
   "name": "python",
   "nbconvert_exporter": "python",
   "pygments_lexer": "ipython3",
   "version": "3.10.2"
  },
  "toc": {
   "base_numbering": 1,
   "nav_menu": {},
   "number_sections": true,
   "sideBar": true,
   "skip_h1_title": false,
   "title_cell": "Table of Contents",
   "title_sidebar": "Contents",
   "toc_cell": false,
   "toc_position": {},
   "toc_section_display": true,
   "toc_window_display": false
  }
 },
 "nbformat": 4,
 "nbformat_minor": 5
}
