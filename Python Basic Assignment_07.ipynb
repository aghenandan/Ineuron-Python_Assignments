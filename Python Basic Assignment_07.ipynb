{
 "cells": [
  {
   "cell_type": "markdown",
   "id": "1ae46dfc",
   "metadata": {
    "ExecuteTime": {
     "end_time": "2022-01-30T04:44:21.770381Z",
     "start_time": "2022-01-30T04:44:21.751866Z"
    }
   },
   "source": [
    "### What is the name of the feature responsible for generating Regex objects?\n",
    "\n",
    "Ans:\n",
    "\n",
    "The re.compile() function returns Regex objects."
   ]
  },
  {
   "cell_type": "markdown",
   "id": "6d3cb0f2",
   "metadata": {},
   "source": [
    "### Why do raw strings often appear in Regex objects?\n",
    "\n",
    "Ans:\n",
    "\n",
    "Raw strings are used so that backslashes do not have to be escaped."
   ]
  },
  {
   "cell_type": "markdown",
   "id": "3b5efe36",
   "metadata": {},
   "source": [
    "### What is the return value of the search() method?\n",
    "\n",
    "Ans:\n",
    "\n",
    "The search() method returns Match objects.\n"
   ]
  },
  {
   "cell_type": "markdown",
   "id": "3bc10360",
   "metadata": {},
   "source": [
    "### From a Match item, how do you get the actual strings that match the pattern?\n",
    "\n",
    "Ans:\n",
    "\n",
    "The group() method returns the actual strings of the matched text."
   ]
  },
  {
   "cell_type": "markdown",
   "id": "c0c23c96",
   "metadata": {},
   "source": [
    "### In the regex which created from the r'(\\d\\d\\d)-(\\d\\d\\d-\\d\\d\\d\\d)', what does group zero cover? Group 2? Group 1?\n",
    "\n",
    "Ans:\n",
    "\n",
    "Group 0 covers the entire match.\n",
    "\n",
    "Group 1 covers the first set of parentheses.\n",
    "\n",
    "Group 2 covers the second set of parentheses."
   ]
  },
  {
   "cell_type": "markdown",
   "id": "f2e29206",
   "metadata": {},
   "source": [
    "### In standard expression syntax, parentheses and intervals have distinct meanings. How can you tell a regex that you want it to fit real parentheses and periods?\n",
    "\n",
    "Ans:\n",
    "\n",
    "Periods and parentheses can be escaped with a backslash: \n",
    "\n",
    "\n"
   ]
  },
  {
   "cell_type": "code",
   "execution_count": 2,
   "id": "ea993c0f",
   "metadata": {
    "ExecuteTime": {
     "end_time": "2022-02-01T15:38:47.606808Z",
     "start_time": "2022-02-01T15:38:47.593843Z"
    }
   },
   "outputs": [],
   "source": [
    "#'\\.'   '\\(' and '\\)'"
   ]
  },
  {
   "cell_type": "markdown",
   "id": "7b2ae276",
   "metadata": {},
   "source": [
    "### The findall() method returns a string list or a list of string tuples. What causes it to return one of the two options?\n",
    "\n",
    "Ans:\n",
    "\n",
    "If the regex has no groups, a list of strings is returned. \n",
    "\n",
    "If the regex has groups, a list of tuples of strings is returned."
   ]
  },
  {
   "cell_type": "markdown",
   "id": "b914ec51",
   "metadata": {},
   "source": [
    "### In standard expressions, what does the | character mean?\n",
    "\n",
    "Ans:\n",
    "\n",
    "The | character signifies matching \"either, or\" between two groups."
   ]
  },
  {
   "cell_type": "markdown",
   "id": "bcb73255",
   "metadata": {},
   "source": [
    "### In regular expressions, what does the ? character stand for?\n",
    "\n",
    "Ans:\n",
    "\n",
    "The ? character can either mean \"match zero or one of the preceding group\" or be used to signify nongreedy matching."
   ]
  },
  {
   "cell_type": "markdown",
   "id": "164a0a68",
   "metadata": {},
   "source": [
    "### In regular expressions, what is the difference between the + and * characters?\n",
    "\n",
    "Ans:\n",
    "\n",
    "The + matches one or more. \n",
    "\n",
    "The * matches zero or more."
   ]
  },
  {
   "cell_type": "markdown",
   "id": "8625a269",
   "metadata": {},
   "source": [
    "### What is the difference between {4} and {4,5} in regular expression?\n",
    "\n",
    "Ans:\n",
    "\n",
    "The {4} matches exactly three instances of the preceding group. \n",
    "\n",
    "The {4,5} matches between three and five instances."
   ]
  },
  {
   "cell_type": "markdown",
   "id": "0bced8c6",
   "metadata": {},
   "source": [
    "### What do you mean by the \\d, \\w, and \\s shorthand character classes signify in regular expressions?\n",
    "\n",
    "Ans:\n",
    "\n",
    "The \\d, \\w, and \\s shorthand character classes match a single digit, word, or space character, respectively."
   ]
  },
  {
   "cell_type": "markdown",
   "id": "b88a4f1a",
   "metadata": {},
   "source": [
    "### What do means by \\D, \\W, and \\S shorthand character classes signify in regular expressions?\n",
    "\n",
    "Ans:\n",
    "\n",
    "The \\D, \\W, and \\S shorthand character classes match a single character that is not a digit, word, or space character, respectively."
   ]
  },
  {
   "cell_type": "markdown",
   "id": "3e463c88",
   "metadata": {},
   "source": [
    "### What is the difference between .*? and .*?\n",
    "\n",
    "Ans:\n",
    "\n",
    "(.*?) matches any character (.) any number of times (*), as few times as possible to make the regex match (?). \n",
    "\n",
    "(.*)? captures a group zero or one times (?). That group consists of a run of any length (*) of any character (.). This also will match anything, but it will capture the first line, since the dot matches anything except a newline."
   ]
  },
  {
   "cell_type": "markdown",
   "id": "5519882a",
   "metadata": {},
   "source": [
    "### What is the syntax for matching both numbers and lowercase letters with a character class?\n",
    "\n",
    "Ans:\n",
    "\n",
    "Either [0-9a-z] or [a-z0-9]"
   ]
  },
  {
   "cell_type": "markdown",
   "id": "8abc7025",
   "metadata": {},
   "source": [
    "### What is the procedure for making a normal expression in regax case insensitive?\n",
    "\n",
    "Ans:\n",
    "\n",
    "Passing re.I or re.IGNORECASE as the second argument to re.compile() will make the matching case insensitive."
   ]
  },
  {
   "cell_type": "markdown",
   "id": "54e00db2",
   "metadata": {},
   "source": [
    "### What does the . character normally match? What does it match if re.DOTALL is passed as 2nd argument in re.compile()?\n",
    "\n",
    "Ans:\n",
    "\n",
    "The . character normally matches any character except the newline character. \n",
    "\n",
    "If re.DOTALL is passed as the second argument to re.compile(), then the dot will also match newline characters."
   ]
  },
  {
   "cell_type": "markdown",
   "id": "7249283b",
   "metadata": {},
   "source": [
    "### If numReg = re.compile(r'\\d+'), what will numRegex.sub('X', '11 drummers, 10 pipers, five rings, 4 hen') return?\n",
    "\n",
    "Ans:\n",
    "\n",
    "'X drummers, X pipers, five rings, X hens'"
   ]
  },
  {
   "cell_type": "code",
   "execution_count": null,
   "id": "c224fe91",
   "metadata": {},
   "outputs": [],
   "source": []
  },
  {
   "cell_type": "markdown",
   "id": "eb745578",
   "metadata": {},
   "source": [
    "### What does passing re.VERBOSE as the 2nd argument to re.compile() allow to do?\n",
    "\n",
    "Ans:\n",
    "\n",
    "The re.VERBOSE argument allows you to add whitespace and comments to the string passed to re.compile()."
   ]
  },
  {
   "cell_type": "markdown",
   "id": "4e6eb9bc",
   "metadata": {},
   "source": [
    "### How would you write a regex that match a number with comma for every three digits? It must match the given following:\n",
    "\n",
    "'42'\n",
    "\n",
    "'1,234'\n",
    "\n",
    "'6,368,745'\n",
    "\n",
    "but not the following:\n",
    "\n",
    "'12,34,567' (which has only two digits between the commas)\n",
    "\n",
    "'1234' (which lacks commas)\n",
    "\n",
    "\n",
    "Ans:\n",
    "\n",
    "re.compile(r'^\\d{1,3}(,\\d{3})*$') will create this regex, \n",
    "\n",
    "but other regex strings can produce a similar regular expression.\n"
   ]
  },
  {
   "cell_type": "markdown",
   "id": "15eefdd8",
   "metadata": {},
   "source": [
    "### How would you write a regex that matches the full name of someone whose last name is Watanabe? You can assume that the first name that comes before it will always be one word that begins with a capital letter. The regex must match the following:\n",
    "\n",
    "'Haruto Watanabe'\n",
    "\n",
    "'Alice Watanabe'\n",
    "\n",
    "'RoboCop Watanabe'\n",
    "\n",
    "but not the following:\n",
    "    \n",
    "'haruto Watanabe' (where the first name is not capitalized)\n",
    "\n",
    "'Mr. Watanabe' (where the preceding word has a nonletter character)\n",
    "\n",
    "'Watanabe' (which has no first name)\n",
    "\n",
    "'Haruto watanabe' (where Watanabe is not capitalized)\n",
    "\n",
    "Ans:\n",
    "\n",
    "re.compile(r'[A-Z][a-z]*\\hWatanabe')\n",
    "\n"
   ]
  },
  {
   "cell_type": "markdown",
   "id": "06859509",
   "metadata": {},
   "source": [
    "### How would you write a regex that matches a sentence where the first word is either Alice, Bob, or Carol; the second word is either eats, pets, or throws; the third word is apples, cats, or baseballs; and the sentence ends with a period? This regex should be case-insensitive. It must match the following:\n",
    "\n",
    "'Alice eats apples.'\n",
    "\n",
    "'Bob pets cats.'\n",
    "\n",
    "'Carol throws baseballs.'\n",
    "\n",
    "'Alice throws Apples.'\n",
    "\n",
    "'BOB EATS CATS.'\n",
    "\n",
    "but not the following:\n",
    "    \n",
    "'RoboCop eats apples.'\n",
    "\n",
    "'ALICE THROWS FOOTBALLS.'\n",
    "\n",
    "'Carol eats 7 cats.'\n",
    "\n",
    "\n",
    "Ans:\n",
    "\n",
    "\n",
    "re.compile(r'(Alice|Bob|Carol)\\s(eats|pets|throws)\\s(apples|cats|baseballs)\\.', re.IGNORECASE)\n"
   ]
  }
 ],
 "metadata": {
  "kernelspec": {
   "display_name": "Python 3 (ipykernel)",
   "language": "python",
   "name": "python3"
  },
  "language_info": {
   "codemirror_mode": {
    "name": "ipython",
    "version": 3
   },
   "file_extension": ".py",
   "mimetype": "text/x-python",
   "name": "python",
   "nbconvert_exporter": "python",
   "pygments_lexer": "ipython3",
   "version": "3.10.2"
  },
  "toc": {
   "base_numbering": 1,
   "nav_menu": {},
   "number_sections": true,
   "sideBar": true,
   "skip_h1_title": false,
   "title_cell": "Table of Contents",
   "title_sidebar": "Contents",
   "toc_cell": false,
   "toc_position": {},
   "toc_section_display": true,
   "toc_window_display": false
  }
 },
 "nbformat": 4,
 "nbformat_minor": 5
}
