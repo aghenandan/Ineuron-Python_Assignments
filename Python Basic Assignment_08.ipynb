{
 "cells": [
  {
   "cell_type": "markdown",
   "id": "11bd3f10",
   "metadata": {},
   "source": [
    "### Is the Python Standard Library included with PyInputPlus?\n",
    "\n",
    "Ans:\n",
    "\n",
    "No"
   ]
  },
  {
   "cell_type": "markdown",
   "id": "f1ffba4a",
   "metadata": {},
   "source": [
    "### Why is PyInputPlus commonly imported with import pyinputplus as pypi?\n",
    "\n",
    "Ans:\n",
    "\n",
    "PyInputPlus is commonly imported with import pyinputplus as pypi so that you can enter a shorter name when calling the module's functions."
   ]
  },
  {
   "cell_type": "markdown",
   "id": "587f2f25",
   "metadata": {},
   "source": [
    "### How do you distinguish between inputInt() and inputFloat()?\n",
    "\n",
    "Ans:\n",
    "\n",
    "inputInt() : Accepts an integer value. This also takes additional parameters ‘min’, ‘max’, ‘greaterThan’ and ‘lessThan’  for bounds. Returns an int.\n",
    "\n",
    "inputFloat() : Accepts a floating-point numeric value. Also takes additional ‘min’, ‘max’, ‘greaterThan’ and ‘lessThan’  parameters. Returns a float."
   ]
  },
  {
   "cell_type": "markdown",
   "id": "2c0ce226",
   "metadata": {},
   "source": [
    "### Using PyInputPlus, how do you ensure that the user enters a whole number between 0 and 99?\n",
    "\n",
    "Ans:\n",
    "\n",
    "Using inputNum() function that takes additional parameters ‘min’, ‘max’, ‘greaterThan’ and ‘lessThan’ for bounds. "
   ]
  },
  {
   "cell_type": "markdown",
   "id": "84dbe4ef",
   "metadata": {},
   "source": [
    "### What is transferred to the keyword arguments allowRegexes and blockRegexes?\n",
    "\n",
    "Ans:\n",
    "\n",
    "The allowRegexes and blockRegexes keyword arguments take a list of regular expression strings to determine what the PyInputPlus function will accept or reject as valid input."
   ]
  },
  {
   "cell_type": "markdown",
   "id": "456abcf4",
   "metadata": {},
   "source": [
    "### If a blank input is entered three times, what does inputStr(limit=3) do?\n",
    "\n",
    "Ans:\n",
    "\n",
    "inputStr() raises a TimeoutException exception. \n",
    "\n",
    "If the user answers incorrectly more than 3 times, it raises a RetryLimitException exception."
   ]
  },
  {
   "cell_type": "markdown",
   "id": "9c7088e1",
   "metadata": {},
   "source": [
    "### If blank input is entered three times, what does inputStr(limit=3, default='hello') do?\n",
    "\n",
    "Ans:\n",
    "\n",
    "Returns the 'Hello' instead of raising an exception\n"
   ]
  }
 ],
 "metadata": {
  "kernelspec": {
   "display_name": "Python 3 (ipykernel)",
   "language": "python",
   "name": "python3"
  },
  "language_info": {
   "codemirror_mode": {
    "name": "ipython",
    "version": 3
   },
   "file_extension": ".py",
   "mimetype": "text/x-python",
   "name": "python",
   "nbconvert_exporter": "python",
   "pygments_lexer": "ipython3",
   "version": "3.10.2"
  },
  "toc": {
   "base_numbering": 1,
   "nav_menu": {},
   "number_sections": true,
   "sideBar": true,
   "skip_h1_title": false,
   "title_cell": "Table of Contents",
   "title_sidebar": "Contents",
   "toc_cell": false,
   "toc_position": {},
   "toc_section_display": true,
   "toc_window_display": false
  }
 },
 "nbformat": 4,
 "nbformat_minor": 5
}
