{
 "cells": [
  {
   "cell_type": "markdown",
   "id": "9f7cd177",
   "metadata": {},
   "source": [
    "### To what does a relative path refer?\n",
    "\n",
    "Ans:\n",
    "\n",
    "relative filepath refers to the given path either from the current working directory or from the given directory."
   ]
  },
  {
   "cell_type": "markdown",
   "id": "f4238958",
   "metadata": {},
   "source": [
    "### What does an absolute path start with your operating system?\n",
    "\n",
    "Ans:\n",
    "\n",
    "Absolute path starts at the home directory of our computer such as / or C:\\ and will end with the file or directory that we wish to access. \n",
    "\n",
    "Absolute paths also ensure that Python can find the exact file on our computer."
   ]
  },
  {
   "cell_type": "markdown",
   "id": "007b3bc8",
   "metadata": {},
   "source": [
    "### What do the functions os.getcwd() and os.chdir() do?\n",
    "\n",
    "Ans:\n",
    "\n",
    "getcwd(): This function Allows to see the Current Working Directory(CWD).\n",
    "\n",
    "chdir(\"path-to-dir\"): This function allows to set the current working directory to a path of our choice.i.e change directory."
   ]
  },
  {
   "cell_type": "markdown",
   "id": "4a374d83",
   "metadata": {},
   "source": [
    "### What are the . and .. folders?\n",
    "\n",
    "Ans:\n",
    "\n",
    "The . folder is the current folder, and .. is the parent folder."
   ]
  },
  {
   "cell_type": "markdown",
   "id": "bf1072cb",
   "metadata": {},
   "source": [
    "### In C:\\bacon\\eggs\\spam.txt, which part is the dir name, and which part is the base name?\n",
    "\n",
    "Ans:\n",
    "\n",
    "C:\\bacon\\eggs is the dir name, while spam.txt is the base name."
   ]
  },
  {
   "cell_type": "markdown",
   "id": "7379d0e8",
   "metadata": {},
   "source": [
    "### What are the three “mode” arguments that can be passed to the open() function?\n",
    "\n",
    "Ans:\n",
    "\n",
    "The string 'r' for read mode, 'w' for write mode, and 'a' for append mode"
   ]
  },
  {
   "cell_type": "markdown",
   "id": "738335a5",
   "metadata": {},
   "source": [
    "### What happens if an existing file is opened in write mode?\n",
    "\n",
    "Ans:\n",
    "\n",
    "An existing file opened in write mode is erased and completely overwritten."
   ]
  },
  {
   "cell_type": "markdown",
   "id": "4b69fd8d",
   "metadata": {},
   "source": [
    "### How do you tell the difference between read() and readlines()?\n",
    "\n",
    "Ans:\n",
    "\n",
    "The read() method returns the file's entire contents as a single string value. \n",
    "\n",
    "The readlines() method returns a list of strings, where each string is a line from the file's contents."
   ]
  },
  {
   "cell_type": "markdown",
   "id": "f8c55b18",
   "metadata": {},
   "source": [
    "### What data structure does a shelf value resemble?\n",
    "\n",
    "Ans:\n",
    "\n",
    "A shelf value resembles a dictionary value; it has keys and values, along with keys() and values() methods that work similarly to the dictionary methods of the same names."
   ]
  }
 ],
 "metadata": {
  "kernelspec": {
   "display_name": "Python 3 (ipykernel)",
   "language": "python",
   "name": "python3"
  },
  "language_info": {
   "codemirror_mode": {
    "name": "ipython",
    "version": 3
   },
   "file_extension": ".py",
   "mimetype": "text/x-python",
   "name": "python",
   "nbconvert_exporter": "python",
   "pygments_lexer": "ipython3",
   "version": "3.10.2"
  },
  "toc": {
   "base_numbering": 1,
   "nav_menu": {},
   "number_sections": true,
   "sideBar": true,
   "skip_h1_title": false,
   "title_cell": "Table of Contents",
   "title_sidebar": "Contents",
   "toc_cell": false,
   "toc_position": {},
   "toc_section_display": true,
   "toc_window_display": false
  }
 },
 "nbformat": 4,
 "nbformat_minor": 5
}
