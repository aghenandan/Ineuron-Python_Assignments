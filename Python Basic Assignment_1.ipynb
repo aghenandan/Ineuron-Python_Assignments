{
 "cells": [
  {
   "cell_type": "raw",
   "id": "924334f5",
   "metadata": {},
   "source": [
    "1. In the below elements which of them are values or an expression? eg:- values can be integer or string and expressions will be mathematical operators.\n",
    "* \n",
    "'hello'\n",
    "-87.8\n",
    "- \n",
    "/ \n",
    "+\t\n",
    "6 \n",
    "\n",
    "Ans:\n",
    "* --> Expression (Mathematical Operator)\n",
    "'hello' --> Value (String)\n",
    "-87.8 --> Value (Float)\n",
    "- --> Expression (Mathematical Operator)\n",
    "/ --> Expression (Mathematical Operator)\n",
    "+ --> Expression (Mathematical Operator)\n",
    "6 --> Value (Integer)\n"
   ]
  },
  {
   "cell_type": "raw",
   "id": "9ea87530",
   "metadata": {
    "ExecuteTime": {
     "end_time": "2022-01-27T10:54:35.956949Z",
     "start_time": "2022-01-27T10:54:35.946951Z"
    }
   },
   "source": [
    "2. What is the difference between string and variable?\n",
    "\n",
    "Ans:\n",
    "String: 1. Anything enclosed within quotes (' or \").\n",
    "        2. Immutable i.e cannot be changed.\n",
    "        3. Can be assigned to a variable.\n",
    "Variable: 1. Used to store data.\n",
    "          2. Can be changed even during program execution.\n",
    "          3. Stores almost all data types and structures.\n",
    "          4. A variable name can only contain alpha-numeric characters and underscores. \n",
    "             A variable name must start with a letter or the underscore character and cannot start with a number."
   ]
  },
  {
   "cell_type": "raw",
   "id": "fdd8b764",
   "metadata": {},
   "source": [
    "3. Describe three different data types.\n",
    "\n",
    "Ans:\n",
    "  1. String (Text type)\n",
    "     Enclosed within quotes.\n",
    "     Immutable.\n",
    "     eg : \"String\", \"#12-8\"\n",
    "  2. Integer, Float, Complex (Numeric Type)\n",
    "     int --> 23, 67\n",
    "     float --> 2.76, .9, .3e7\n",
    "  3. bool (Boolean type)\n",
    "     True(1),False(0)   "
   ]
  },
  {
   "cell_type": "raw",
   "id": "2a00f619",
   "metadata": {},
   "source": [
    "4. What is an expression made up of? What do all expressions do?\n",
    "\n",
    "Ans:\n",
    "  An expression is made up of values, variables, operators that can evaluate or represent a value as per the precedence of its operators.\n",
    "  Expressions are used mostly to compute and write or return a value."
   ]
  },
  {
   "cell_type": "raw",
   "id": "fdbdd7b3",
   "metadata": {},
   "source": [
    "5. This assignment statements, like spam = 10. What is the difference between an expression and a statement?\n",
    "\n",
    "Ans:\n",
    "  An Expression always evaluates to a value. Every expression can’t be a statement.\n",
    "  Statements represent an action or command e.g print statements, assignment statements. Every statement can be an       expression."
   ]
  },
  {
   "cell_type": "raw",
   "id": "c56f9f05",
   "metadata": {},
   "source": [
    "6. After running the following code, what does the variable bacon contain?\n",
    "bacon = 22\n",
    "bacon + 1\n",
    "\n",
    "Ans:\n",
    "Variable bacon contains 22 as the operation was not saved."
   ]
  },
  {
   "cell_type": "code",
   "execution_count": 2,
   "id": "bf452626",
   "metadata": {
    "ExecuteTime": {
     "end_time": "2022-01-27T11:42:56.202530Z",
     "start_time": "2022-01-27T11:42:56.185270Z"
    }
   },
   "outputs": [
    {
     "data": {
      "text/plain": [
       "23"
      ]
     },
     "execution_count": 2,
     "metadata": {},
     "output_type": "execute_result"
    }
   ],
   "source": [
    "bacon = 22\n",
    "bacon + 1"
   ]
  },
  {
   "cell_type": "code",
   "execution_count": 3,
   "id": "f4e04f6b",
   "metadata": {
    "ExecuteTime": {
     "end_time": "2022-01-27T11:43:01.735048Z",
     "start_time": "2022-01-27T11:43:01.727844Z"
    }
   },
   "outputs": [
    {
     "data": {
      "text/plain": [
       "22"
      ]
     },
     "execution_count": 3,
     "metadata": {},
     "output_type": "execute_result"
    }
   ],
   "source": [
    "bacon"
   ]
  },
  {
   "cell_type": "raw",
   "id": "0872d7db",
   "metadata": {},
   "source": [
    "7. What should the values of the following two terms be?\n",
    "'spam' + 'spamspam'\n",
    "'spam' * 3\n",
    "\n",
    "Ans:\n",
    "Both the operations give the same output --> 'spamspamspam'"
   ]
  },
  {
   "cell_type": "code",
   "execution_count": 4,
   "id": "e741b2b5",
   "metadata": {
    "ExecuteTime": {
     "end_time": "2022-01-27T11:45:22.326592Z",
     "start_time": "2022-01-27T11:45:22.306465Z"
    }
   },
   "outputs": [
    {
     "data": {
      "text/plain": [
       "'spamspamspam'"
      ]
     },
     "execution_count": 4,
     "metadata": {},
     "output_type": "execute_result"
    }
   ],
   "source": [
    "'spam' + \"spamspam\""
   ]
  },
  {
   "cell_type": "code",
   "execution_count": 5,
   "id": "f32d3a33",
   "metadata": {
    "ExecuteTime": {
     "end_time": "2022-01-27T11:45:36.200255Z",
     "start_time": "2022-01-27T11:45:36.194369Z"
    }
   },
   "outputs": [
    {
     "data": {
      "text/plain": [
       "'spamspamspam'"
      ]
     },
     "execution_count": 5,
     "metadata": {},
     "output_type": "execute_result"
    }
   ],
   "source": [
    "'spam' * 3"
   ]
  },
  {
   "cell_type": "raw",
   "id": "30cca228",
   "metadata": {},
   "source": [
    "8. Why is eggs a valid variable name while 100 is invalid?\n",
    "\n",
    "Ans:\n",
    "A variable name can start with either alphabets or underscore and cannot start with a number.\n",
    "So \"100\" is invalid."
   ]
  },
  {
   "cell_type": "raw",
   "id": "a87d0e9a",
   "metadata": {},
   "source": [
    "9. What three functions can be used to get the integer, floating-point number, or string version of a value?\n",
    "\n",
    "Ans:\n",
    "int(),float(),str()"
   ]
  },
  {
   "cell_type": "raw",
   "id": "61ec54ab",
   "metadata": {
    "ExecuteTime": {
     "end_time": "2022-01-27T12:13:07.795437Z",
     "start_time": "2022-01-27T12:13:07.775466Z"
    }
   },
   "source": [
    "10. Why does this expression cause an error? How can you fix it?\n",
    "'I have eaten ' + 99 + ' burritos.'\n",
    "\n",
    "Ans:\n",
    "Concatenation of a string with integer is not possible. It can be fixed with typecasting.\n",
    "Either change the type of string to integer or integer to string.\n",
    "eg: 'I have eaten ' + str(99) + ' burritos'"
   ]
  },
  {
   "cell_type": "code",
   "execution_count": 7,
   "id": "5ebf7e02",
   "metadata": {
    "ExecuteTime": {
     "end_time": "2022-01-27T12:13:19.951821Z",
     "start_time": "2022-01-27T12:13:19.932829Z"
    }
   },
   "outputs": [
    {
     "data": {
      "text/plain": [
       "'I have eaten 99 burritos'"
      ]
     },
     "execution_count": 7,
     "metadata": {},
     "output_type": "execute_result"
    }
   ],
   "source": [
    "'I have eaten ' + str(99) + ' burritos'"
   ]
  },
  {
   "cell_type": "code",
   "execution_count": null,
   "id": "0ceb3995",
   "metadata": {},
   "outputs": [],
   "source": []
  }
 ],
 "metadata": {
  "kernelspec": {
   "display_name": "Python 3 (ipykernel)",
   "language": "python",
   "name": "python3"
  },
  "language_info": {
   "codemirror_mode": {
    "name": "ipython",
    "version": 3
   },
   "file_extension": ".py",
   "mimetype": "text/x-python",
   "name": "python",
   "nbconvert_exporter": "python",
   "pygments_lexer": "ipython3",
   "version": "3.10.2"
  },
  "toc": {
   "base_numbering": 1,
   "nav_menu": {},
   "number_sections": true,
   "sideBar": true,
   "skip_h1_title": false,
   "title_cell": "Table of Contents",
   "title_sidebar": "Contents",
   "toc_cell": false,
   "toc_position": {},
   "toc_section_display": true,
   "toc_window_display": false
  }
 },
 "nbformat": 4,
 "nbformat_minor": 5
}
