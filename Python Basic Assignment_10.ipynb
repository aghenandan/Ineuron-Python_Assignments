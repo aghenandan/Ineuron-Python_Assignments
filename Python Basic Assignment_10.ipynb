{
 "cells": [
  {
   "cell_type": "markdown",
   "id": "55ecef96",
   "metadata": {},
   "source": [
    "### How do you distinguish between shutil.copy() and shutil.copytree()?\n",
    "\n",
    "Ans:\n",
    "\n",
    "The shutil.copy() function will copy a single file\n",
    "\n",
    "shutil.copytree() will copy an entire folder, along with all its contents."
   ]
  },
  {
   "cell_type": "markdown",
   "id": "d15f344f",
   "metadata": {},
   "source": [
    "### What function is used to rename files??\n",
    "\n",
    "Ans:\n",
    "\n",
    "The shutil.move() function is used for renaming files, as well as moving them."
   ]
  },
  {
   "cell_type": "markdown",
   "id": "68e50a5e",
   "metadata": {},
   "source": [
    "### What is the difference between the delete functions in the send2trash and shutil modules?\n",
    "\n",
    "Ans:\n",
    "\n",
    "send2trash functions will move a file or folder to the recycle bin\n",
    "\n",
    "shutil functions will permanently delete files and folders."
   ]
  },
  {
   "cell_type": "markdown",
   "id": "543515c7",
   "metadata": {},
   "source": [
    "### ZipFile objects have a close() method just like File objects’ close() method. What ZipFile method is equivalent to File objects’ open() method?\n",
    "\n",
    "Ans:\n",
    "\n",
    "The zipfile.ZipFile() function is equivalent to the open() function; \n",
    "\n",
    "the first argument is the filename, and the second argument is the mode to open the ZIP file in (read, write, or append)."
   ]
  },
  {
   "cell_type": "markdown",
   "id": "f85af132",
   "metadata": {},
   "source": [
    "### Create a programme that searches a folder tree for files with a certain file extension (such as .pdf or .jpg). Copy these files from whatever location they are in to a new folder.\n",
    "\n",
    "\n",
    "\n"
   ]
  },
  {
   "cell_type": "code",
   "execution_count": 5,
   "id": "bdbe75e7",
   "metadata": {
    "ExecuteTime": {
     "end_time": "2022-02-01T16:59:51.252681Z",
     "start_time": "2022-02-01T16:59:51.202097Z"
    }
   },
   "outputs": [
    {
     "name": "stdout",
     "output_type": "stream",
     "text": [
      "Looking in C:\\Users\\91995\\randomfolder for files with extensions of .php, .ipynb\n",
      "Coping C:\\Users\\91995\\randomfolder\\FSDS Day 15_OOPS.ipynb to C:\\Users\\91995\\selectiveFolder\n",
      "Coping C:\\Users\\91995\\randomfolder\\FSDS_Day 01_Python Basics.ipynb to C:\\Users\\91995\\selectiveFolder\n",
      "Coping C:\\Users\\91995\\randomfolder\\FSDS_Day 02_Strings List.ipynb to C:\\Users\\91995\\selectiveFolder\n",
      "Coping C:\\Users\\91995\\randomfolder\\FSDS_Day 03_Tuples Set Dict.ipynb to C:\\Users\\91995\\selectiveFolder\n",
      "Coping C:\\Users\\91995\\randomfolder\\FSDS_Day 04_Loops.ipynb to C:\\Users\\91995\\selectiveFolder\n",
      "Coping C:\\Users\\91995\\randomfolder\\FSDS_Day 05.ipynb to C:\\Users\\91995\\selectiveFolder\n",
      "Coping C:\\Users\\91995\\randomfolder\\FSDS_Day 06.ipynb to C:\\Users\\91995\\selectiveFolder\n",
      "Coping C:\\Users\\91995\\randomfolder\\FSDS_Day 07_Functions.ipynb to C:\\Users\\91995\\selectiveFolder\n",
      "Coping C:\\Users\\91995\\randomfolder\\FSDS_Day 08_Functions_2.ipynb to C:\\Users\\91995\\selectiveFolder\n",
      "Coping C:\\Users\\91995\\randomfolder\\FSDS_Day 09.ipynb to C:\\Users\\91995\\selectiveFolder\n",
      "Coping C:\\Users\\91995\\randomfolder\\FSDS_Day 12_Modules.ipynb to C:\\Users\\91995\\selectiveFolder\n",
      "Coping C:\\Users\\91995\\randomfolder\\FSDS_Day 13_OOPS.ipynb to C:\\Users\\91995\\selectiveFolder\n",
      "Coping C:\\Users\\91995\\randomfolder\\FSDS_Day 14_OOPS.ipynb to C:\\Users\\91995\\selectiveFolder\n"
     ]
    }
   ],
   "source": [
    "import os, shutil\n",
    "\n",
    "def selectiveCopy(folder, extensions, destFolder):\n",
    "    folder = os.path.abspath(folder)\n",
    "    destFolder = os.path.abspath(destFolder)\n",
    "    print('Looking in', folder, 'for files with extensions of', ', '.join(extensions))\n",
    "    for foldername, subfolders, filenames in os.walk(folder):\n",
    "        for filename in filenames:\n",
    "            name, extension = os.path.splitext(filename)\n",
    "            if extension in extensions:\n",
    "                fileAbsPath = foldername + os.path.sep + filename\n",
    "                print('Coping', fileAbsPath, 'to', destFolder)\n",
    "                shutil.copy(fileAbsPath, destFolder)\n",
    "\n",
    "extensions = ['.php', '.ipynb']\n",
    "folder = 'randomfolder'\n",
    "destFolder = 'selectiveFolder'\n",
    "selectiveCopy(folder, extensions, destFolder)"
   ]
  }
 ],
 "metadata": {
  "kernelspec": {
   "display_name": "Python 3 (ipykernel)",
   "language": "python",
   "name": "python3"
  },
  "language_info": {
   "codemirror_mode": {
    "name": "ipython",
    "version": 3
   },
   "file_extension": ".py",
   "mimetype": "text/x-python",
   "name": "python",
   "nbconvert_exporter": "python",
   "pygments_lexer": "ipython3",
   "version": "3.10.2"
  },
  "toc": {
   "base_numbering": 1,
   "nav_menu": {},
   "number_sections": true,
   "sideBar": true,
   "skip_h1_title": false,
   "title_cell": "Table of Contents",
   "title_sidebar": "Contents",
   "toc_cell": false,
   "toc_position": {},
   "toc_section_display": true,
   "toc_window_display": false
  }
 },
 "nbformat": 4,
 "nbformat_minor": 5
}
