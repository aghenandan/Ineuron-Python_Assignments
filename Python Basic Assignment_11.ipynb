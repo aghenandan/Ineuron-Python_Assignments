{
 "cells": [
  {
   "cell_type": "markdown",
   "id": "2becc126",
   "metadata": {},
   "source": [
    "### Create an assert statement that throws an AssertionError if the variable spam is a negative integer.\n",
    "\n",
    "Ans:\n",
    "\n",
    "assert spam < 0, 'The spam variable is a negative integer.'"
   ]
  },
  {
   "cell_type": "markdown",
   "id": "02d8a6a7",
   "metadata": {},
   "source": [
    "### Write an assert statement that triggers an AssertionError if the variables eggs and bacon contain strings that are the same as each other, even if their cases are different (that is, 'hello' and 'hello' are considered the same, and 'goodbye' and 'GOODbye' are also considered the same).\n",
    "\n",
    "Ans:\n",
    "\n",
    "assert eggs.lower() != bacon.lower(), 'The eggs and bacon variables are the same!' or assert eggs.upper() != bacon.upper(), 'The eggs and bacon variables are the same!'"
   ]
  },
  {
   "cell_type": "markdown",
   "id": "773dc532",
   "metadata": {},
   "source": [
    "### Create an assert statement that throws an AssertionError every time.\n",
    "\n",
    "Ans:\n",
    "\n",
    "assert False, 'The assertion always triggers.'"
   ]
  },
  {
   "cell_type": "markdown",
   "id": "367e8ea1",
   "metadata": {},
   "source": [
    "###  What are the two lines that must be present in your software in order to call logging.debug()?\n",
    "\n",
    "Ans:\n",
    "\n",
    "To be able to call logging.debug(), you must have these two lines at the start ofyour program:\n",
    "\n",
    "import logging\n",
    "\n",
    "logging.basicConfig(level=logging.DEBUG, format=' %(asctime)s -\n",
    "%(levelname)s - %(message)s')"
   ]
  },
  {
   "cell_type": "markdown",
   "id": "5aeacbd3",
   "metadata": {},
   "source": [
    "### What are the two lines that your program must have in order to have logging.debug() send a logging message to a file named programLog.txt?\n",
    "\n",
    "Ans:\n",
    "\n",
    "To be able to send logging message to a file named programLog.txt with logging.debug(), you must have these two lines at the start of your:\n",
    "\n",
    "import logging\n",
    "\n",
    "   logging.basicConfig(filename='programLog.txt', level=logging.DEBUG,\n",
    "format=' %(asctime)s - %(levelname)s - %(message)s')"
   ]
  },
  {
   "cell_type": "markdown",
   "id": "825d3f1a",
   "metadata": {},
   "source": [
    "### What are the five levels of logging?\n",
    "\n",
    "Ans:\n",
    "\n",
    "DEBUG, INFO, WARNING, ERROR, and CRITICAL"
   ]
  },
  {
   "cell_type": "markdown",
   "id": "15926814",
   "metadata": {},
   "source": [
    "### What line of code would you add to your software to disable all logging messages?\n",
    "\n",
    "Ans:\n",
    "\n",
    "logging.disable(logging.CRITICAL)"
   ]
  },
  {
   "cell_type": "markdown",
   "id": "ff65e735",
   "metadata": {},
   "source": [
    "### Why is using logging messages better than using print() to display the same message?\n",
    "\n",
    "Ans:\n",
    "\n",
    "We can disable logging messages without removing the logging function calls. \n",
    "\n",
    "We can selectively disable lower-level logging messages. \n",
    "\n",
    "We can create logging messages. \n",
    "\n",
    "Logging messages provides a timestamp."
   ]
  },
  {
   "cell_type": "markdown",
   "id": "0b3d790a",
   "metadata": {},
   "source": [
    "### What are the differences between the Step Over, Step In, and Step Out buttons in the debugger?\n",
    "\n",
    "Ans:\n",
    "\n",
    "The Step button will move the debugger into a function call. \n",
    "\n",
    "The Over button will quickly execute the function call without stepping into it. \n",
    "\n",
    "The Out button will quickly execute the rest of the code until it steps out of the function it currently is in."
   ]
  },
  {
   "cell_type": "markdown",
   "id": "9b0690f4",
   "metadata": {},
   "source": [
    "### After you click Continue, when will the debugger stop ?\n",
    "\n",
    "Ans:\n",
    "\n",
    "After clicking Continue, the debugger will stop when it has reached the end of the program or a line with a breakpoint."
   ]
  },
  {
   "cell_type": "markdown",
   "id": "c070f6bf",
   "metadata": {},
   "source": [
    "### What is the concept of a breakpoint?\n",
    "\n",
    "An"
   ]
  },
  {
   "cell_type": "code",
   "execution_count": null,
   "id": "a19ae6a2",
   "metadata": {},
   "outputs": [],
   "source": []
  }
 ],
 "metadata": {
  "kernelspec": {
   "display_name": "Python 3 (ipykernel)",
   "language": "python",
   "name": "python3"
  },
  "language_info": {
   "codemirror_mode": {
    "name": "ipython",
    "version": 3
   },
   "file_extension": ".py",
   "mimetype": "text/x-python",
   "name": "python",
   "nbconvert_exporter": "python",
   "pygments_lexer": "ipython3",
   "version": "3.10.2"
  },
  "toc": {
   "base_numbering": 1,
   "nav_menu": {},
   "number_sections": true,
   "sideBar": true,
   "skip_h1_title": false,
   "title_cell": "Table of Contents",
   "title_sidebar": "Contents",
   "toc_cell": false,
   "toc_position": {},
   "toc_section_display": true,
   "toc_window_display": false
  }
 },
 "nbformat": 4,
 "nbformat_minor": 5
}
