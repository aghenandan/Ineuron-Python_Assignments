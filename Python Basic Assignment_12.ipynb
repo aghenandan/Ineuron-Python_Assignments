{
 "cells": [
  {
   "cell_type": "markdown",
   "id": "1c790b49",
   "metadata": {},
   "source": [
    "### In what modes should the PdfFileReader() and PdfFileWriter() File objects will be opened?\n",
    "\n",
    "Ans:\n",
    "\n",
    "Read-binary ('rb') for PdfFileReader() \n",
    "\n",
    "write-binary ('wb') for PdfFileWriter()"
   ]
  },
  {
   "cell_type": "markdown",
   "id": "89785562",
   "metadata": {},
   "source": [
    "### From a PdfFileReader object, how do you get a Page object for page 5?\n",
    "\n",
    "Ans:\n",
    "\n",
    "Calling getPage(4) will return a Page object for About this Book, since page 0 is the first page."
   ]
  },
  {
   "cell_type": "markdown",
   "id": "adff9303",
   "metadata": {},
   "source": [
    "### What PdfFileReader variable stores the number of pages in the PDF document?\n",
    "\n",
    "Ans:\n",
    "\n",
    "The numPages variable stores an integer of the number of pages in the PdfFileReader object."
   ]
  },
  {
   "cell_type": "markdown",
   "id": "7f9fa1d8",
   "metadata": {},
   "source": [
    "### If a PdfFileReader object’s PDF is encrypted with the password swordfish, what must you do before you can obtain Page objects from it?\n",
    "\n",
    "Ans:\n",
    "\n",
    "Call decrypt('swordfish')"
   ]
  },
  {
   "cell_type": "markdown",
   "id": "faa16bc7",
   "metadata": {},
   "source": [
    "### What methods do you use to rotate a page?\n",
    "\n",
    "Ans:\n",
    "\n",
    "We use rotateClockwise and rotateCounterClockwise method to rotate the page clockwise by 90-degrees"
   ]
  },
  {
   "cell_type": "markdown",
   "id": "06a0a08a",
   "metadata": {},
   "source": [
    "### What is the difference between a Run object and a Paragraph object?\n",
    "\n",
    "Ans:\n",
    "\n",
    "A document contains multiple paragraphs. A paragraph begins on a new line and contains multiple runs. \n",
    "\n",
    "Runs are contiguous groups of characters within the a paragraph."
   ]
  },
  {
   "cell_type": "markdown",
   "id": "433f6e62",
   "metadata": {},
   "source": [
    "### How do you obtain a list of Paragraph objects for a Document object that’s stored in a variable named doc?\n",
    "\n",
    "Ans:\n",
    "\n",
    "docx.Document(docx=None),Return a Document object loaded from docx, where docx can be either a path to a .docx file (a string) or a file-like object. If docx is missing or None, the built-in default document “template” is loaded."
   ]
  },
  {
   "cell_type": "markdown",
   "id": "7f9acf34",
   "metadata": {},
   "source": [
    "### What type of object has bold, underline, italic, strike, and outline variables?\n",
    "\n",
    "Ans:\n",
    "\n",
    "Run object has bold, underline, italic, strike, and outline variables.\n",
    "\n",
    "The text in a Word document is more than just a string. It has font, size, color, and other styling information associated with it. A style in Word is a collection of these attributes. \n",
    "\n",
    "A Run object is a contiguous run of text with the same style. A new Run object is needed whenever the text style changes."
   ]
  },
  {
   "cell_type": "markdown",
   "id": "bc01f524",
   "metadata": {},
   "source": [
    "### What is the difference between False, True, and None for the bold variable?\n",
    "\n",
    "Ans:\n",
    "\n",
    "Style Set to Bold\n",
    "\n",
    "bold = True \n",
    "\n",
    "\n",
    "Style Not Set to Bold\n",
    "\n",
    "bold = False\n",
    "\n",
    "\n",
    "Style is Not Applicable\n",
    "\n",
    "bold = None "
   ]
  },
  {
   "cell_type": "markdown",
   "id": "cb5a4e3a",
   "metadata": {},
   "source": [
    "### How do you create a Document object for a new Word document?\n",
    "\n",
    "Ans:\n",
    "\n",
    "Call the docx.Document() function."
   ]
  },
  {
   "cell_type": "markdown",
   "id": "062a75bb",
   "metadata": {},
   "source": [
    "### How do you add a paragraph with the text 'Hello, there!' to a Document object stored in a variable named doc?\n",
    "\n",
    "Ans:\n",
    "\n",
    "doc.add_paragraph('Hello there!')"
   ]
  },
  {
   "cell_type": "markdown",
   "id": "e10692de",
   "metadata": {},
   "source": [
    "### What integers represent the levels of headings available in Word documents?\n",
    "\n",
    "Ans:\n",
    "\n",
    "The levels for a heading in a word document can be specified by using the level attribute inside the add_heading method. \n",
    "\n",
    "There are a total of 5 levels statring for 0 t0 4. where level 0 makes a headline with the horizontal line below the text, whereas the heading level 1 is the main heading. \n",
    "\n",
    "Similarly, the other headings are sub-heading with their's font-sizes in decreasing order."
   ]
  }
 ],
 "metadata": {
  "kernelspec": {
   "display_name": "Python 3 (ipykernel)",
   "language": "python",
   "name": "python3"
  },
  "language_info": {
   "codemirror_mode": {
    "name": "ipython",
    "version": 3
   },
   "file_extension": ".py",
   "mimetype": "text/x-python",
   "name": "python",
   "nbconvert_exporter": "python",
   "pygments_lexer": "ipython3",
   "version": "3.10.2"
  },
  "toc": {
   "base_numbering": 1,
   "nav_menu": {},
   "number_sections": true,
   "sideBar": true,
   "skip_h1_title": false,
   "title_cell": "Table of Contents",
   "title_sidebar": "Contents",
   "toc_cell": false,
   "toc_position": {},
   "toc_section_display": true,
   "toc_window_display": false
  }
 },
 "nbformat": 4,
 "nbformat_minor": 5
}
