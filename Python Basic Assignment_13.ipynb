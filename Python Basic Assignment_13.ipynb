{
 "cells": [
  {
   "cell_type": "markdown",
   "id": "4aae8de4",
   "metadata": {},
   "source": [
    "### What advantages do Excel spreadsheets have over CSV spreadsheets?\n",
    "\n",
    "Ans:\n",
    "\n",
    "In Excel, \n",
    "\n",
    "spreadsheets can have values of data types other than strings; \n",
    "\n",
    "cells can have different fonts, sizes, or color settings; \n",
    "\n",
    "cells can have varying widths and heights; \n",
    "\n",
    "adjacent cells can be merged; \n",
    "\n",
    "embedding images and charts."
   ]
  },
  {
   "cell_type": "markdown",
   "id": "a551238f",
   "metadata": {},
   "source": [
    "### What do you pass to csv.reader() and csv.writer() to create reader and writer objects?\n",
    "\n",
    "Ans:\n",
    "\n",
    "we pass a File object, obtained from a call to open()."
   ]
  },
  {
   "cell_type": "markdown",
   "id": "3a9ec7f6",
   "metadata": {},
   "source": [
    "### What modes do File objects for reader and writer objects need to be opened in?\n",
    "\n",
    "Ans:\n",
    "\n",
    "File objects need to be opened in \n",
    "\n",
    "read-binary ('rb') for Reader objects &\n",
    "\n",
    "write-binary ('wb') for Writer objects."
   ]
  },
  {
   "cell_type": "markdown",
   "id": "9c27d404",
   "metadata": {},
   "source": [
    "### What method takes a list argument and writes it to a CSV file?\n",
    "\n",
    "Ans:\n",
    "\n",
    "The writerow() method"
   ]
  },
  {
   "cell_type": "markdown",
   "id": "eb4a63f3",
   "metadata": {},
   "source": [
    "### What do the keyword arguments delimiter and line terminator do?\n",
    "\n",
    "Ans:\n",
    "\n",
    "The delimiter argument changes the string used to separate cells in a row. \n",
    "\n",
    "The lineterminator argument changes the string used to separate rows."
   ]
  },
  {
   "cell_type": "markdown",
   "id": "141f14ac",
   "metadata": {},
   "source": [
    "### What function takes a string of JSON data and returns a Python data structure?\n",
    "\n",
    "Ans:\n",
    "\n",
    "json.loads()"
   ]
  },
  {
   "cell_type": "markdown",
   "id": "91c99f67",
   "metadata": {},
   "source": [
    "### What function takes a Python data structure and returns a string of JSON data?\n",
    "\n",
    "Ans:\n",
    "\n",
    "json.dumps()"
   ]
  }
 ],
 "metadata": {
  "kernelspec": {
   "display_name": "Python 3 (ipykernel)",
   "language": "python",
   "name": "python3"
  },
  "language_info": {
   "codemirror_mode": {
    "name": "ipython",
    "version": 3
   },
   "file_extension": ".py",
   "mimetype": "text/x-python",
   "name": "python",
   "nbconvert_exporter": "python",
   "pygments_lexer": "ipython3",
   "version": "3.10.2"
  },
  "toc": {
   "base_numbering": 1,
   "nav_menu": {},
   "number_sections": true,
   "sideBar": true,
   "skip_h1_title": false,
   "title_cell": "Table of Contents",
   "title_sidebar": "Contents",
   "toc_cell": false,
   "toc_position": {},
   "toc_section_display": true,
   "toc_window_display": false
  }
 },
 "nbformat": 4,
 "nbformat_minor": 5
}
