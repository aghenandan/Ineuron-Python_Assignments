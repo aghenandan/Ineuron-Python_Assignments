{
 "cells": [
  {
   "cell_type": "markdown",
   "id": "0ab8c37e",
   "metadata": {},
   "source": [
    "### What does RGBA stand for?\n",
    "\n",
    "Ans:\n",
    "\n",
    "An RGBA value is a group of numbers that specify the amount of red, green, blue, and alpha (or transparency) in a color. "
   ]
  },
  {
   "cell_type": "markdown",
   "id": "8e41a02a",
   "metadata": {},
   "source": [
    "### From the Pillow module, how do you get the RGBA value of any images?\n",
    "\n",
    "Ans:\n",
    "\n",
    "ImageColor.getcolor() function --> It takes a color name string as its first argument, and the string 'RGBA' as its second argument, and it returns an RGBA tuple."
   ]
  },
  {
   "cell_type": "markdown",
   "id": "4695da82",
   "metadata": {},
   "source": [
    "### What is a box tuple, and how does it work?\n",
    "\n",
    "Ans:\n",
    "\n",
    "box tuple argument means Pillow is expecting a tuple of four integer coordinates that represent a rectangular region in an image. The four integers are, in order, as follows:\n",
    "\n",
    "Left The x-coordinate of the leftmost edge of the box.\n",
    "\n",
    "Top The y-coordinate of the top edge of the box.\n",
    "\n",
    "Right The x-coordinate of one pixel to the right of the rightmost edge of the box. This integer must be greater than the left integer.\n",
    "\n",
    "Bottom The y-coordinate of one pixel lower than the bottom edge of the box. This integer must be greater than the top integer."
   ]
  },
  {
   "cell_type": "markdown",
   "id": "2ae5aaa0",
   "metadata": {},
   "source": [
    "### Use your image and load in notebook then, How can you find out the width and height of an Image object?\n",
    "\n",
    "Ans:\n",
    "\n",
    "imageObj.size is a tuple of two integers, the width and the height."
   ]
  },
  {
   "cell_type": "markdown",
   "id": "9dc89b35",
   "metadata": {},
   "source": [
    "### What method would you call to get Image object for a 100×100 image, excluding the lower-left quarter of it?\n",
    "\n",
    "Ans:\n",
    "\n",
    "imageObj.crop((0, 50, 50, 50)). \n",
    "\n",
    "pass a box tuple to crop(), not four separate integer arguments."
   ]
  },
  {
   "cell_type": "markdown",
   "id": "4ac9bf0b",
   "metadata": {},
   "source": [
    "### After making changes to an Image object, how could you save it as an image file?\n",
    "\n",
    "Ans:\n",
    "\n",
    "Call the imageObj.save('new_filename.png') method of the Image object."
   ]
  },
  {
   "cell_type": "markdown",
   "id": "29c7f14d",
   "metadata": {},
   "source": [
    "### What module contains Pillow’s shape-drawing code?\n",
    "\n",
    "Ans:\n",
    "\n",
    "The ImageDraw module contains code to draw on images."
   ]
  },
  {
   "cell_type": "markdown",
   "id": "1fe9eb93",
   "metadata": {},
   "source": [
    "### Image objects do not have drawing methods. What kind of object does? How do you get this kind of object?\n",
    "\n",
    "Ans:\n",
    "\n",
    "ImageDraw objects have shape-drawing methods such as point(), line(), or rectangle(). \n",
    "\n",
    "They are returned by passing the Image object to the ImageDraw.Draw() function."
   ]
  }
 ],
 "metadata": {
  "kernelspec": {
   "display_name": "Python 3 (ipykernel)",
   "language": "python",
   "name": "python3"
  },
  "language_info": {
   "codemirror_mode": {
    "name": "ipython",
    "version": 3
   },
   "file_extension": ".py",
   "mimetype": "text/x-python",
   "name": "python",
   "nbconvert_exporter": "python",
   "pygments_lexer": "ipython3",
   "version": "3.10.2"
  },
  "toc": {
   "base_numbering": 1,
   "nav_menu": {},
   "number_sections": true,
   "sideBar": true,
   "skip_h1_title": false,
   "title_cell": "Table of Contents",
   "title_sidebar": "Contents",
   "toc_cell": false,
   "toc_position": {},
   "toc_section_display": true,
   "toc_window_display": false
  }
 },
 "nbformat": 4,
 "nbformat_minor": 5
}
