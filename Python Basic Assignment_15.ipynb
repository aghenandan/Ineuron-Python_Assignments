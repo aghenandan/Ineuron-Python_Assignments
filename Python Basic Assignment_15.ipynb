{
 "cells": [
  {
   "cell_type": "markdown",
   "id": "35b6fe0a",
   "metadata": {},
   "source": [
    "### How many seconds are in an hour? Use the interactive interpreter as a calculator and multiply the number of seconds in a minute (60) by the number of minutes in an hour (also 60).\n",
    "\n",
    "sol. 60 "
   ]
  },
  {
   "cell_type": "code",
   "execution_count": 1,
   "id": "a02cf1f2",
   "metadata": {
    "ExecuteTime": {
     "end_time": "2022-02-02T03:50:56.975280Z",
     "start_time": "2022-02-02T03:50:56.962414Z"
    }
   },
   "outputs": [
    {
     "name": "stdout",
     "output_type": "stream",
     "text": [
      "3600\n"
     ]
    }
   ],
   "source": [
    "print(60*60)"
   ]
  },
  {
   "cell_type": "markdown",
   "id": "a6fc9570",
   "metadata": {},
   "source": [
    "###  Assign the result from the previous task (seconds in an hour) to a variable called seconds_per_hour."
   ]
  },
  {
   "cell_type": "code",
   "execution_count": 2,
   "id": "c6b10859",
   "metadata": {
    "ExecuteTime": {
     "end_time": "2022-02-02T03:51:19.478738Z",
     "start_time": "2022-02-02T03:51:19.471172Z"
    }
   },
   "outputs": [
    {
     "name": "stdout",
     "output_type": "stream",
     "text": [
      "3600\n"
     ]
    }
   ],
   "source": [
    "seconds_per_hour = 60*60\n",
    "print(seconds_per_hour)"
   ]
  },
  {
   "cell_type": "markdown",
   "id": "215e2100",
   "metadata": {},
   "source": [
    "### How many seconds do you think there are in a day? Make use of the variables seconds per hour and minutes per hour."
   ]
  },
  {
   "cell_type": "code",
   "execution_count": 5,
   "id": "12ffac06",
   "metadata": {
    "ExecuteTime": {
     "end_time": "2022-02-02T03:56:55.187690Z",
     "start_time": "2022-02-02T03:56:55.175903Z"
    }
   },
   "outputs": [
    {
     "name": "stdout",
     "output_type": "stream",
     "text": [
      "86400\n"
     ]
    }
   ],
   "source": [
    "minutes_per_hour = 60\n",
    "seconds_per_hour = minutes_per_hour * 60\n",
    "print(seconds_per_hour*24)\n"
   ]
  },
  {
   "cell_type": "markdown",
   "id": "fcf70ad4",
   "metadata": {},
   "source": [
    "### Calculate seconds per day again, but this time save the result in a variable called seconds_per_day"
   ]
  },
  {
   "cell_type": "code",
   "execution_count": 4,
   "id": "2fe6a834",
   "metadata": {
    "ExecuteTime": {
     "end_time": "2022-02-02T03:56:32.137700Z",
     "start_time": "2022-02-02T03:56:32.133698Z"
    }
   },
   "outputs": [
    {
     "name": "stdout",
     "output_type": "stream",
     "text": [
      "86400\n"
     ]
    }
   ],
   "source": [
    "seconds_per_day = seconds_per_hour*24\n",
    "print(seconds_per_day)"
   ]
  },
  {
   "cell_type": "markdown",
   "id": "a229ecf5",
   "metadata": {},
   "source": [
    "### Divide seconds_per_day by seconds_per_hour. Use floating-point (/) division."
   ]
  },
  {
   "cell_type": "code",
   "execution_count": 7,
   "id": "8172d73a",
   "metadata": {
    "ExecuteTime": {
     "end_time": "2022-02-02T03:58:03.520780Z",
     "start_time": "2022-02-02T03:58:03.514973Z"
    }
   },
   "outputs": [
    {
     "name": "stdout",
     "output_type": "stream",
     "text": [
      "24.0\n"
     ]
    }
   ],
   "source": [
    "result1 = seconds_per_day / seconds_per_hour\n",
    "print(result1)"
   ]
  },
  {
   "cell_type": "markdown",
   "id": "59e854c0",
   "metadata": {},
   "source": [
    "### Divide seconds_per_day by seconds_per_hour, using integer (//) division. Did this number agree with the floating-point value from the previous question, aside from the final .0?"
   ]
  },
  {
   "cell_type": "code",
   "execution_count": 9,
   "id": "485be1eb",
   "metadata": {
    "ExecuteTime": {
     "end_time": "2022-02-02T03:59:28.844580Z",
     "start_time": "2022-02-02T03:59:28.823922Z"
    }
   },
   "outputs": [
    {
     "name": "stdout",
     "output_type": "stream",
     "text": [
      "24\n",
      "This number agrees with the floating-point value from the previous question, aside from the final .0\n"
     ]
    }
   ],
   "source": [
    "result2 = seconds_per_day // seconds_per_hour\n",
    "print(result2)\n",
    "print(\"This number agrees with the floating-point value from the previous question, aside from the final .0\")"
   ]
  },
  {
   "cell_type": "markdown",
   "id": "0da4acdb",
   "metadata": {},
   "source": [
    "### Write a generator, genPrimes, that returns the sequence of prime numbers on successive calls to its next() method: 2, 3, 5, 7, 11, ..."
   ]
  },
  {
   "cell_type": "code",
   "execution_count": 18,
   "id": "29d5f2ef",
   "metadata": {
    "ExecuteTime": {
     "end_time": "2022-02-02T04:04:33.200135Z",
     "start_time": "2022-02-02T04:04:33.181611Z"
    }
   },
   "outputs": [
    {
     "name": "stdout",
     "output_type": "stream",
     "text": [
      "2\n",
      "3\n",
      "5\n",
      "7\n",
      "11\n"
     ]
    }
   ],
   "source": [
    "def genPrimes():\n",
    "    n = 0\n",
    "    while True:\n",
    "        if n == 2 or n == 3 :\n",
    "            yield n\n",
    "        elif ((n-1)%6 == 0 or (n+1)%6 == 0) and n !=1:\n",
    "            yield n\n",
    "        n += 1\n",
    "        \n",
    "output = genPrimes()\n",
    "for ele in range(5):\n",
    "    print(next(output))"
   ]
  }
 ],
 "metadata": {
  "kernelspec": {
   "display_name": "Python 3 (ipykernel)",
   "language": "python",
   "name": "python3"
  },
  "language_info": {
   "codemirror_mode": {
    "name": "ipython",
    "version": 3
   },
   "file_extension": ".py",
   "mimetype": "text/x-python",
   "name": "python",
   "nbconvert_exporter": "python",
   "pygments_lexer": "ipython3",
   "version": "3.10.2"
  },
  "toc": {
   "base_numbering": 1,
   "nav_menu": {},
   "number_sections": true,
   "sideBar": true,
   "skip_h1_title": false,
   "title_cell": "Table of Contents",
   "title_sidebar": "Contents",
   "toc_cell": false,
   "toc_position": {},
   "toc_section_display": true,
   "toc_window_display": false
  }
 },
 "nbformat": 4,
 "nbformat_minor": 5
}
