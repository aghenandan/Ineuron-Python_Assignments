{
 "cells": [
  {
   "cell_type": "markdown",
   "id": "807547b9",
   "metadata": {},
   "source": [
    "### Create a list called years_list, starting with the year of your birth, and each year thereafter until the year of your fifth birthday. For example, if you were born in 1980. the list would be years_list = [1980, 1981, 1982, 1983, 1984, 1985]."
   ]
  },
  {
   "cell_type": "code",
   "execution_count": 1,
   "id": "25ee7be7",
   "metadata": {
    "ExecuteTime": {
     "end_time": "2022-02-02T04:08:48.133682Z",
     "start_time": "2022-02-02T04:08:48.129832Z"
    }
   },
   "outputs": [],
   "source": [
    "years_list = [1981, 1982, 1983, 1984, 1985, 1986]"
   ]
  },
  {
   "cell_type": "markdown",
   "id": "57517a4d",
   "metadata": {},
   "source": [
    "### In which year in years_list was your third birthday? Remember, you were 0 years of age for your first year."
   ]
  },
  {
   "cell_type": "code",
   "execution_count": 3,
   "id": "d0179097",
   "metadata": {
    "ExecuteTime": {
     "end_time": "2022-02-02T04:11:54.237626Z",
     "start_time": "2022-02-02T04:11:54.222988Z"
    }
   },
   "outputs": [
    {
     "data": {
      "text/plain": [
       "1984"
      ]
     },
     "execution_count": 3,
     "metadata": {},
     "output_type": "execute_result"
    }
   ],
   "source": [
    "years_list[3]"
   ]
  },
  {
   "cell_type": "markdown",
   "id": "411b6834",
   "metadata": {},
   "source": [
    "### In the years list, which year were you the oldest?"
   ]
  },
  {
   "cell_type": "code",
   "execution_count": 4,
   "id": "39b51045",
   "metadata": {
    "ExecuteTime": {
     "end_time": "2022-02-02T04:12:14.214218Z",
     "start_time": "2022-02-02T04:12:14.206903Z"
    }
   },
   "outputs": [
    {
     "data": {
      "text/plain": [
       "1986"
      ]
     },
     "execution_count": 4,
     "metadata": {},
     "output_type": "execute_result"
    }
   ],
   "source": [
    "years_list[5]"
   ]
  },
  {
   "cell_type": "markdown",
   "id": "14c00c34",
   "metadata": {},
   "source": [
    "### Make a list called things with these three strings as elements: \"mozzarella\", \"cinderella\", \"salmonella\"."
   ]
  },
  {
   "cell_type": "code",
   "execution_count": 22,
   "id": "09c8b397",
   "metadata": {
    "ExecuteTime": {
     "end_time": "2022-02-02T04:24:10.497878Z",
     "start_time": "2022-02-02T04:24:10.479637Z"
    }
   },
   "outputs": [
    {
     "data": {
      "text/plain": [
       "['mozzarella', 'cinderella', 'salmonella']"
      ]
     },
     "execution_count": 22,
     "metadata": {},
     "output_type": "execute_result"
    }
   ],
   "source": [
    "things = list(['mozzarella', 'cinderella','salmonella'])\n",
    "things"
   ]
  },
  {
   "cell_type": "markdown",
   "id": "60731233",
   "metadata": {},
   "source": [
    "### Capitalize the element in things that refers to a person and then print the list. Did it change the element in the list?"
   ]
  },
  {
   "cell_type": "code",
   "execution_count": 23,
   "id": "c1709095",
   "metadata": {
    "ExecuteTime": {
     "end_time": "2022-02-02T04:24:13.086827Z",
     "start_time": "2022-02-02T04:24:13.063757Z"
    }
   },
   "outputs": [
    {
     "data": {
      "text/plain": [
       "['mozzarella', 'cinderella', 'salmonella']"
      ]
     },
     "execution_count": 23,
     "metadata": {},
     "output_type": "execute_result"
    }
   ],
   "source": [
    "things"
   ]
  },
  {
   "cell_type": "code",
   "execution_count": 25,
   "id": "78b7f026",
   "metadata": {
    "ExecuteTime": {
     "end_time": "2022-02-02T04:24:38.440758Z",
     "start_time": "2022-02-02T04:24:38.424739Z"
    }
   },
   "outputs": [
    {
     "name": "stdout",
     "output_type": "stream",
     "text": [
      "['mozzarella', 'Cinderella', 'salmonella']\n"
     ]
    }
   ],
   "source": [
    "for i in range(len(things)):\n",
    "    if things[i] == 'cinderella':\n",
    "        things[i] = things[i].title()\n",
    "    else:\n",
    "        continue\n",
    "\n",
    "print(things)"
   ]
  },
  {
   "cell_type": "code",
   "execution_count": 26,
   "id": "f2f14002",
   "metadata": {
    "ExecuteTime": {
     "end_time": "2022-02-02T04:25:18.613622Z",
     "start_time": "2022-02-02T04:25:18.603126Z"
    }
   },
   "outputs": [
    {
     "name": "stdout",
     "output_type": "stream",
     "text": [
      "Yes, It changed the element in the list\n"
     ]
    }
   ],
   "source": [
    "print(\"Yes, It changed the element in the list\")"
   ]
  },
  {
   "cell_type": "markdown",
   "id": "483f03cf",
   "metadata": {},
   "source": [
    "### Make a surprise list with the elements \"Groucho,\" \"Chico,\" and \"Harpo.\""
   ]
  },
  {
   "cell_type": "code",
   "execution_count": 27,
   "id": "58e1479e",
   "metadata": {
    "ExecuteTime": {
     "end_time": "2022-02-02T04:25:54.698669Z",
     "start_time": "2022-02-02T04:25:54.683699Z"
    }
   },
   "outputs": [
    {
     "data": {
      "text/plain": [
       "['Groucho', 'Chico', 'Harpo']"
      ]
     },
     "execution_count": 27,
     "metadata": {},
     "output_type": "execute_result"
    }
   ],
   "source": [
    "surprise_list = [\"Groucho\", \"Chico\", \"Harpo\"]\n",
    "surprise_list"
   ]
  },
  {
   "cell_type": "markdown",
   "id": "75a50620",
   "metadata": {},
   "source": [
    "### Lowercase the last element of the surprise list, reverse it, and then capitalize it."
   ]
  },
  {
   "cell_type": "code",
   "execution_count": 28,
   "id": "f4f5cd09",
   "metadata": {
    "ExecuteTime": {
     "end_time": "2022-02-02T04:26:34.948337Z",
     "start_time": "2022-02-02T04:26:34.933004Z"
    }
   },
   "outputs": [
    {
     "data": {
      "text/plain": [
       "'harpo'"
      ]
     },
     "execution_count": 28,
     "metadata": {},
     "output_type": "execute_result"
    }
   ],
   "source": [
    "surprise_list[-1].lower()"
   ]
  },
  {
   "cell_type": "code",
   "execution_count": 29,
   "id": "160b41a6",
   "metadata": {
    "ExecuteTime": {
     "end_time": "2022-02-02T04:26:41.342225Z",
     "start_time": "2022-02-02T04:26:41.326134Z"
    }
   },
   "outputs": [
    {
     "data": {
      "text/plain": [
       "'opraH'"
      ]
     },
     "execution_count": 29,
     "metadata": {},
     "output_type": "execute_result"
    }
   ],
   "source": [
    "surprise_list[-1][::-1]"
   ]
  },
  {
   "cell_type": "code",
   "execution_count": 30,
   "id": "97cece5f",
   "metadata": {
    "ExecuteTime": {
     "end_time": "2022-02-02T04:26:47.179177Z",
     "start_time": "2022-02-02T04:26:47.160100Z"
    }
   },
   "outputs": [
    {
     "data": {
      "text/plain": [
       "'OPRAH'"
      ]
     },
     "execution_count": 30,
     "metadata": {},
     "output_type": "execute_result"
    }
   ],
   "source": [
    "surprise_list[-1][::-1].upper()"
   ]
  },
  {
   "cell_type": "markdown",
   "id": "5d99e306",
   "metadata": {},
   "source": [
    "### Make an English-to-French dictionary called e2f and print it. Here are your starter words: dog is chien, cat is chat, and walrus is morse."
   ]
  },
  {
   "cell_type": "code",
   "execution_count": 33,
   "id": "3b07bd01",
   "metadata": {
    "ExecuteTime": {
     "end_time": "2022-02-02T04:27:48.442153Z",
     "start_time": "2022-02-02T04:27:48.436239Z"
    }
   },
   "outputs": [
    {
     "name": "stdout",
     "output_type": "stream",
     "text": [
      "{'dog': 'chien', 'cat': 'chat', 'walrus': 'morse'}\n"
     ]
    }
   ],
   "source": [
    "e2f = {'dog':'chien','cat':'chat','walrus':'morse'}\n",
    "print(e2f)"
   ]
  },
  {
   "cell_type": "markdown",
   "id": "049daacc",
   "metadata": {},
   "source": [
    "### Write the French word for walrus in your three-word dictionary e2f."
   ]
  },
  {
   "cell_type": "code",
   "execution_count": 32,
   "id": "c0712a46",
   "metadata": {
    "ExecuteTime": {
     "end_time": "2022-02-02T04:27:37.797367Z",
     "start_time": "2022-02-02T04:27:37.784034Z"
    }
   },
   "outputs": [
    {
     "data": {
      "text/plain": [
       "'morse'"
      ]
     },
     "execution_count": 32,
     "metadata": {},
     "output_type": "execute_result"
    }
   ],
   "source": [
    "e2f['walrus']"
   ]
  },
  {
   "cell_type": "markdown",
   "id": "b3e91bab",
   "metadata": {},
   "source": [
    "### Make a French-to-English dictionary called f2e from e2f. Use the items method."
   ]
  },
  {
   "cell_type": "code",
   "execution_count": 34,
   "id": "d72f6fcc",
   "metadata": {
    "ExecuteTime": {
     "end_time": "2022-02-02T04:28:16.834712Z",
     "start_time": "2022-02-02T04:28:16.814709Z"
    }
   },
   "outputs": [
    {
     "data": {
      "text/plain": [
       "{'chien': 'dog', 'chat': 'cat', 'morse': 'walrus'}"
      ]
     },
     "execution_count": 34,
     "metadata": {},
     "output_type": "execute_result"
    }
   ],
   "source": [
    "f2e = dict((key,value) for value,key in e2f.items())\n",
    "f2e"
   ]
  },
  {
   "cell_type": "markdown",
   "id": "431fa350",
   "metadata": {},
   "source": [
    "### Print the English version of the French word chien using f2e."
   ]
  },
  {
   "cell_type": "code",
   "execution_count": 35,
   "id": "b351090d",
   "metadata": {
    "ExecuteTime": {
     "end_time": "2022-02-02T04:28:32.187529Z",
     "start_time": "2022-02-02T04:28:32.178821Z"
    }
   },
   "outputs": [
    {
     "data": {
      "text/plain": [
       "'dog'"
      ]
     },
     "execution_count": 35,
     "metadata": {},
     "output_type": "execute_result"
    }
   ],
   "source": [
    "f2e['chien']"
   ]
  },
  {
   "cell_type": "markdown",
   "id": "67cf4895",
   "metadata": {
    "ExecuteTime": {
     "end_time": "2022-01-30T06:35:28.667039Z",
     "start_time": "2022-01-30T06:35:28.656104Z"
    }
   },
   "source": [
    "### Make and print a set of English words from the keys in e2f."
   ]
  },
  {
   "cell_type": "code",
   "execution_count": 36,
   "id": "dfe9557f",
   "metadata": {
    "ExecuteTime": {
     "end_time": "2022-02-02T04:28:47.192652Z",
     "start_time": "2022-02-02T04:28:47.182472Z"
    }
   },
   "outputs": [
    {
     "data": {
      "text/plain": [
       "dict_keys(['dog', 'cat', 'walrus'])"
      ]
     },
     "execution_count": 36,
     "metadata": {},
     "output_type": "execute_result"
    }
   ],
   "source": [
    "e2f.keys()"
   ]
  },
  {
   "cell_type": "markdown",
   "id": "e303fae7",
   "metadata": {},
   "source": [
    "### Make a multilevel dictionary called life. Use these strings for the topmost keys: 'animals', 'plants', and 'other'. Make the 'animals' key refer to another dictionary with the keys 'cats', 'octopi', and 'emus'. Make the 'cats' key refer to a list of strings with the values 'Henri', 'Grumpy', and 'Lucy'. Make all the other keys refer to empty dictionaries."
   ]
  },
  {
   "cell_type": "code",
   "execution_count": 37,
   "id": "7b2a5171",
   "metadata": {
    "ExecuteTime": {
     "end_time": "2022-02-02T04:29:19.463288Z",
     "start_time": "2022-02-02T04:29:19.455006Z"
    }
   },
   "outputs": [
    {
     "data": {
      "text/plain": [
       "{'animals': {'cat': ['Henri', 'Grumpy', 'Lucy'], 'octopi': '', 'emus': ''},\n",
       " 'plants': '',\n",
       " 'other': ''}"
      ]
     },
     "execution_count": 37,
     "metadata": {},
     "output_type": "execute_result"
    }
   ],
   "source": [
    "life ={'animals':{'cat':['Henri', 'Grumpy', 'Lucy'], 'octopi':'', 'emus':''},\n",
    "       'plants' :'',\n",
    "       'other' :'' }\n",
    "life"
   ]
  },
  {
   "cell_type": "markdown",
   "id": "25300b52",
   "metadata": {},
   "source": [
    "### Print the top-level keys of life."
   ]
  },
  {
   "cell_type": "code",
   "execution_count": 38,
   "id": "465320a2",
   "metadata": {
    "ExecuteTime": {
     "end_time": "2022-02-02T04:29:32.409700Z",
     "start_time": "2022-02-02T04:29:32.392342Z"
    }
   },
   "outputs": [
    {
     "data": {
      "text/plain": [
       "dict_keys(['animals', 'plants', 'other'])"
      ]
     },
     "execution_count": 38,
     "metadata": {},
     "output_type": "execute_result"
    }
   ],
   "source": [
    "life.keys()"
   ]
  },
  {
   "cell_type": "markdown",
   "id": "9fbd0e1b",
   "metadata": {},
   "source": [
    "### Print the keys for life['animals']."
   ]
  },
  {
   "cell_type": "code",
   "execution_count": 39,
   "id": "5e816c13",
   "metadata": {
    "ExecuteTime": {
     "end_time": "2022-02-02T04:29:44.573102Z",
     "start_time": "2022-02-02T04:29:44.560316Z"
    }
   },
   "outputs": [
    {
     "data": {
      "text/plain": [
       "dict_keys(['cat', 'octopi', 'emus'])"
      ]
     },
     "execution_count": 39,
     "metadata": {},
     "output_type": "execute_result"
    }
   ],
   "source": [
    "life['animals'].keys()"
   ]
  },
  {
   "cell_type": "markdown",
   "id": "146050df",
   "metadata": {},
   "source": [
    "### Print the values for life['animals']['cats']"
   ]
  },
  {
   "cell_type": "code",
   "execution_count": 40,
   "id": "63f734bc",
   "metadata": {
    "ExecuteTime": {
     "end_time": "2022-02-02T04:29:59.429929Z",
     "start_time": "2022-02-02T04:29:59.414662Z"
    }
   },
   "outputs": [
    {
     "data": {
      "text/plain": [
       "['Henri', 'Grumpy', 'Lucy']"
      ]
     },
     "execution_count": 40,
     "metadata": {},
     "output_type": "execute_result"
    }
   ],
   "source": [
    "life['animals']['cat']\n"
   ]
  }
 ],
 "metadata": {
  "kernelspec": {
   "display_name": "Python 3 (ipykernel)",
   "language": "python",
   "name": "python3"
  },
  "language_info": {
   "codemirror_mode": {
    "name": "ipython",
    "version": 3
   },
   "file_extension": ".py",
   "mimetype": "text/x-python",
   "name": "python",
   "nbconvert_exporter": "python",
   "pygments_lexer": "ipython3",
   "version": "3.10.2"
  },
  "toc": {
   "base_numbering": 1,
   "nav_menu": {},
   "number_sections": true,
   "sideBar": true,
   "skip_h1_title": false,
   "title_cell": "Table of Contents",
   "title_sidebar": "Contents",
   "toc_cell": false,
   "toc_position": {},
   "toc_section_display": true,
   "toc_window_display": false
  }
 },
 "nbformat": 4,
 "nbformat_minor": 5
}
