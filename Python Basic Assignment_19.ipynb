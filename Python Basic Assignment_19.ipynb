{
 "cells": [
  {
   "cell_type": "markdown",
   "id": "832548ab",
   "metadata": {},
   "source": [
    "### Make a class called Thing with no contents and print it. Then, create an object called example from this class and also print it. Are the printed values the same or different?"
   ]
  },
  {
   "cell_type": "code",
   "execution_count": 1,
   "id": "fc6231ce",
   "metadata": {
    "ExecuteTime": {
     "end_time": "2022-02-02T05:42:57.477088Z",
     "start_time": "2022-02-02T05:42:57.463674Z"
    }
   },
   "outputs": [
    {
     "name": "stdout",
     "output_type": "stream",
     "text": [
      "<class '__main__.Thing'>\n"
     ]
    }
   ],
   "source": [
    "class Thing:\n",
    "    pass\n",
    "print(Thing)"
   ]
  },
  {
   "cell_type": "code",
   "execution_count": 2,
   "id": "d31c7856",
   "metadata": {
    "ExecuteTime": {
     "end_time": "2022-02-02T05:43:21.563014Z",
     "start_time": "2022-02-02T05:43:21.549205Z"
    }
   },
   "outputs": [
    {
     "name": "stdout",
     "output_type": "stream",
     "text": [
      "<__main__.Thing object at 0x00000245ABCF41F0>\n"
     ]
    }
   ],
   "source": [
    "example = Thing()\n",
    "print(example)"
   ]
  },
  {
   "cell_type": "code",
   "execution_count": 4,
   "id": "2f253947",
   "metadata": {
    "ExecuteTime": {
     "end_time": "2022-02-02T05:43:59.877294Z",
     "start_time": "2022-02-02T05:43:59.870692Z"
    }
   },
   "outputs": [
    {
     "name": "stdout",
     "output_type": "stream",
     "text": [
      "Printed values are not the same\n"
     ]
    }
   ],
   "source": [
    "print(\"Printed values are not the same\")"
   ]
  },
  {
   "cell_type": "markdown",
   "id": "4e98e865",
   "metadata": {},
   "source": [
    "### Create a new class called Thing2 and add the value 'abc' to the letters class attribute. Letters should be printed."
   ]
  },
  {
   "cell_type": "code",
   "execution_count": 5,
   "id": "cd3d1032",
   "metadata": {
    "ExecuteTime": {
     "end_time": "2022-02-02T05:44:22.676801Z",
     "start_time": "2022-02-02T05:44:22.649702Z"
    }
   },
   "outputs": [
    {
     "data": {
      "text/plain": [
       "'abc'"
      ]
     },
     "execution_count": 5,
     "metadata": {},
     "output_type": "execute_result"
    }
   ],
   "source": [
    "class Thing2:\n",
    "    letters = 'abc'\n",
    "Thing2.letters"
   ]
  },
  {
   "cell_type": "markdown",
   "id": "88e038b8",
   "metadata": {},
   "source": [
    "###  Make yet another class called, of course, Thing3. This time, assign the value 'xyz' to an instance (object) attribute called letters. Print letters. Do you need to make an object from the class to do this?"
   ]
  },
  {
   "cell_type": "code",
   "execution_count": 8,
   "id": "51882483",
   "metadata": {
    "ExecuteTime": {
     "end_time": "2022-02-02T05:45:26.954468Z",
     "start_time": "2022-02-02T05:45:26.938916Z"
    }
   },
   "outputs": [
    {
     "name": "stdout",
     "output_type": "stream",
     "text": [
      "xyz\n"
     ]
    }
   ],
   "source": [
    "class Thing3:\n",
    "    def __init__(self,letter):\n",
    "        self.letter = letter\n",
    "    def letters(self):\n",
    "        print(self.letter)\n",
    "Thing3('xyz').letters()"
   ]
  },
  {
   "cell_type": "markdown",
   "id": "7217d621",
   "metadata": {},
   "source": [
    "### Create an Element class with the instance attributes name, symbol, and number. Create a class object with the values 'Hydrogen,' 'H,' and 1."
   ]
  },
  {
   "cell_type": "code",
   "execution_count": 10,
   "id": "ed4b3f6d",
   "metadata": {
    "ExecuteTime": {
     "end_time": "2022-02-02T05:47:00.940146Z",
     "start_time": "2022-02-02T05:47:00.932375Z"
    }
   },
   "outputs": [
    {
     "name": "stdout",
     "output_type": "stream",
     "text": [
      "Hydrogen H 1\n"
     ]
    }
   ],
   "source": [
    "class Element:\n",
    "    def __init__(self,name,symbol,number):\n",
    "        self.name = name\n",
    "        self.symbol = symbol\n",
    "        self.number = number\n",
    "    def values(self):\n",
    "        print(self.name,self.symbol,self.number)\n",
    "obj = Element('Hydrogen','H',1)\n",
    "obj.values()"
   ]
  },
  {
   "cell_type": "markdown",
   "id": "5177e3d8",
   "metadata": {},
   "source": [
    "###  Make a dictionary with these keys and values: 'name': 'Hydrogen', 'symbol': 'H', 'number': 1. Then, create an object called hydrogen from class Element using this dictionary."
   ]
  },
  {
   "cell_type": "code",
   "execution_count": 11,
   "id": "7292b34e",
   "metadata": {
    "ExecuteTime": {
     "end_time": "2022-02-02T05:48:01.941304Z",
     "start_time": "2022-02-02T05:48:01.921449Z"
    }
   },
   "outputs": [
    {
     "data": {
      "text/plain": [
       "'H'"
      ]
     },
     "execution_count": 11,
     "metadata": {},
     "output_type": "execute_result"
    }
   ],
   "source": [
    "dict = {'name':'Hydrogen', 'symbol':'H','number': 1}\n",
    "hydrogen = Element(**dict) \n",
    "hydrogen.symbol"
   ]
  },
  {
   "cell_type": "markdown",
   "id": "f4a4c435",
   "metadata": {},
   "source": [
    "### For the Element class, define a method called dump() that prints the values of the object’s attributes (name, symbol, and number). Create the hydrogen object from this new definition and use dump() to print its attributes."
   ]
  },
  {
   "cell_type": "code",
   "execution_count": 12,
   "id": "9a18c6de",
   "metadata": {
    "ExecuteTime": {
     "end_time": "2022-02-02T05:48:51.366062Z",
     "start_time": "2022-02-02T05:48:51.349404Z"
    }
   },
   "outputs": [
    {
     "name": "stdout",
     "output_type": "stream",
     "text": [
      "Hydrogen H 1\n"
     ]
    }
   ],
   "source": [
    "class Element:\n",
    "    def __init__(self,name,symbol,number):\n",
    "        self.name = name\n",
    "        self.symbol = symbol\n",
    "        self.number = number\n",
    "    def dump(self):\n",
    "        print(self.name,self.symbol,self.number)\n",
    "hydrogen = Element('Hydrogen','H',1)\n",
    "hydrogen.dump()"
   ]
  },
  {
   "cell_type": "markdown",
   "id": "26ea74a0",
   "metadata": {},
   "source": [
    "### Call print(hydrogen). In the definition of Element, change the name of method dump to __str__, create a new hydrogen object, and call print(hydrogen) again."
   ]
  },
  {
   "cell_type": "code",
   "execution_count": 13,
   "id": "4157d3e0",
   "metadata": {
    "ExecuteTime": {
     "end_time": "2022-02-02T05:49:06.676262Z",
     "start_time": "2022-02-02T05:49:06.665622Z"
    }
   },
   "outputs": [
    {
     "name": "stdout",
     "output_type": "stream",
     "text": [
      "name=Hydrogen, symbol=H, number=1\n"
     ]
    }
   ],
   "source": [
    "class Element:\n",
    "    def __init__(self,name,symbol,number):\n",
    "        self.name = name\n",
    "        self.symbol = symbol\n",
    "        self.number = number\n",
    "    def __str__(self):\n",
    "        return ('name=%s, symbol=%s, number=%s'% (self.name, self.symbol, self.number) )\n",
    "hydrogen = Element('Hydrogen','H',1)\n",
    "print(hydrogen)"
   ]
  },
  {
   "cell_type": "markdown",
   "id": "5ff7d34a",
   "metadata": {},
   "source": [
    "### Modify Element to make the attributes name, symbol, and number private. Define a getter property for each to return its value."
   ]
  },
  {
   "cell_type": "code",
   "execution_count": 14,
   "id": "b3c0a16f",
   "metadata": {
    "ExecuteTime": {
     "end_time": "2022-02-02T05:49:36.613637Z",
     "start_time": "2022-02-02T05:49:36.592192Z"
    }
   },
   "outputs": [
    {
     "data": {
      "text/plain": [
       "'Hydrogen'"
      ]
     },
     "execution_count": 14,
     "metadata": {},
     "output_type": "execute_result"
    }
   ],
   "source": [
    "class Element(): \n",
    "    def __init__(self ,name,symbol,number):\n",
    "        self.__name = name\n",
    "        self.__symbol = symbol\n",
    "        self.__number = number\n",
    "    @property\n",
    "    def name(self):\n",
    "        return (self.__name)\n",
    "    @property\n",
    "    def symbol(self):\n",
    "        return (self.__symbol)\n",
    "    @property\n",
    "    def number(self):\n",
    "        return (self.__number)\n",
    "hydrogen = Element('Hydrogen','H',1)\n",
    "hydrogen.name\n"
   ]
  },
  {
   "cell_type": "markdown",
   "id": "e1c69946",
   "metadata": {},
   "source": [
    "### Define three classes: Bear, Rabbit, and Octothorpe. For each, define only one method: eats(). This should return 'berries' (Bear), 'clover' (Rabbit), or 'campers' (Octothorpe). Create one object from each and print what it eats."
   ]
  },
  {
   "cell_type": "code",
   "execution_count": 15,
   "id": "e19a1cab",
   "metadata": {
    "ExecuteTime": {
     "end_time": "2022-02-02T05:50:00.902383Z",
     "start_time": "2022-02-02T05:50:00.895124Z"
    }
   },
   "outputs": [],
   "source": [
    "class Bear:\n",
    "    def eats():\n",
    "        print('berries')\n",
    "\n",
    "class Rabbit:\n",
    "    def eats():\n",
    "        print('clover')\n",
    "\n",
    "class Octothorpe:\n",
    "    def eats():\n",
    "        print('campers')"
   ]
  },
  {
   "cell_type": "code",
   "execution_count": 16,
   "id": "6d1f7b98",
   "metadata": {
    "ExecuteTime": {
     "end_time": "2022-02-02T05:50:39.977400Z",
     "start_time": "2022-02-02T05:50:39.951247Z"
    }
   },
   "outputs": [
    {
     "name": "stdout",
     "output_type": "stream",
     "text": [
      "berries\n"
     ]
    }
   ],
   "source": [
    "Bear.eats()"
   ]
  },
  {
   "cell_type": "code",
   "execution_count": 17,
   "id": "4867df4b",
   "metadata": {
    "ExecuteTime": {
     "end_time": "2022-02-02T05:50:41.034937Z",
     "start_time": "2022-02-02T05:50:41.029624Z"
    }
   },
   "outputs": [
    {
     "name": "stdout",
     "output_type": "stream",
     "text": [
      "clover\n"
     ]
    }
   ],
   "source": [
    "Rabbit.eats()"
   ]
  },
  {
   "cell_type": "code",
   "execution_count": 18,
   "id": "dc216f25",
   "metadata": {
    "ExecuteTime": {
     "end_time": "2022-02-02T05:50:41.807595Z",
     "start_time": "2022-02-02T05:50:41.794972Z"
    }
   },
   "outputs": [
    {
     "name": "stdout",
     "output_type": "stream",
     "text": [
      "campers\n"
     ]
    }
   ],
   "source": [
    "Octothorpe.eats()"
   ]
  },
  {
   "cell_type": "markdown",
   "id": "03c587ee",
   "metadata": {},
   "source": [
    "### Define these classes: Laser, Claw, and SmartPhone. Each has only one method: does(). This returns 'disintegrate' (Laser), 'crush' (Claw), or 'ring' (SmartPhone). Then, define the class Robot that has one instance (object) of each of these. Define a does() method for the Robot that prints what its component objects do."
   ]
  },
  {
   "cell_type": "code",
   "execution_count": 19,
   "id": "39bf1d31",
   "metadata": {
    "ExecuteTime": {
     "end_time": "2022-02-02T05:50:57.671521Z",
     "start_time": "2022-02-02T05:50:57.654247Z"
    }
   },
   "outputs": [],
   "source": [
    "class Laser:\n",
    "    def does(self):\n",
    "        return('disitegrate')\n",
    "class Claw:\n",
    "    def does(self):\n",
    "        return('crush')\n",
    "class SmartPhone:\n",
    "    def does(self):\n",
    "        return('ring')\n",
    "        \n",
    "class Robot:\n",
    "    def __init__(self):\n",
    "        self.laser = Laser()\n",
    "        self.claw = Claw()\n",
    "        self.smartphone = SmartPhone()\n",
    "    def does(self):\n",
    "        return ('Laser is %s, Claw is %s, SmartPhone is %s' % (self.laser.does(),self.claw.does(),self.smartphone.does()))\n",
    "robo = Robot()"
   ]
  },
  {
   "cell_type": "code",
   "execution_count": 20,
   "id": "da364e16",
   "metadata": {
    "ExecuteTime": {
     "end_time": "2022-02-02T05:51:08.342004Z",
     "start_time": "2022-02-02T05:51:08.318251Z"
    }
   },
   "outputs": [
    {
     "data": {
      "text/plain": [
       "'Laser is disitegrate, Claw is crush, SmartPhone is ring'"
      ]
     },
     "execution_count": 20,
     "metadata": {},
     "output_type": "execute_result"
    }
   ],
   "source": [
    "robo.does()"
   ]
  }
 ],
 "metadata": {
  "kernelspec": {
   "display_name": "Python 3 (ipykernel)",
   "language": "python",
   "name": "python3"
  },
  "language_info": {
   "codemirror_mode": {
    "name": "ipython",
    "version": 3
   },
   "file_extension": ".py",
   "mimetype": "text/x-python",
   "name": "python",
   "nbconvert_exporter": "python",
   "pygments_lexer": "ipython3",
   "version": "3.10.2"
  },
  "toc": {
   "base_numbering": 1,
   "nav_menu": {},
   "number_sections": true,
   "sideBar": true,
   "skip_h1_title": false,
   "title_cell": "Table of Contents",
   "title_sidebar": "Contents",
   "toc_cell": false,
   "toc_position": {},
   "toc_section_display": true,
   "toc_window_display": false
  }
 },
 "nbformat": 4,
 "nbformat_minor": 5
}
