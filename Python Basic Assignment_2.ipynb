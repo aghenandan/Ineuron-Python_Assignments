{
 "cells": [
  {
   "cell_type": "markdown",
   "id": "c85e48d3",
   "metadata": {},
   "source": [
    "1.What are the two values of the Boolean data type? How do you write them?\n",
    "\n",
    "Ans:\n",
    "\n",
    "True and False"
   ]
  },
  {
   "cell_type": "markdown",
   "id": "fd4ce76d",
   "metadata": {},
   "source": [
    "2. What are the three different types of Boolean operators?\n",
    "\n",
    "Ans:\n",
    "\n",
    "AND, OR, NOT"
   ]
  },
  {
   "cell_type": "markdown",
   "id": "4b408336",
   "metadata": {},
   "source": [
    "3. Make a list of each Boolean operator's truth tables (i.e. every possible combination of Boolean values for the operator and what it evaluate ).\n",
    "\n",
    "Ans:\n",
    "\n",
    "  A\t      B\t       A and B    \n",
    "  \n",
    "True\t True\t    True       \n",
    "True\t False\t    False     \n",
    "False    True\t    False     \n",
    "False    False\t    False     \n",
    "\n",
    "\n",
    "  A\t         B\t        A or B\n",
    "\n",
    "True    \tTrue\t     True\n",
    "True\t    False\t     True\n",
    "False\t    True\t     True\n",
    "False\t    False\t     False\n",
    "\n",
    "\n",
    "  A         NOT A\n",
    "  \n",
    "True        False\n",
    "False       True\n"
   ]
  },
  {
   "cell_type": "markdown",
   "id": "c9faee31",
   "metadata": {},
   "source": [
    "4. What are the values of the following expressions?\n",
    "(5 > 4) and (3 == 5)\n",
    "not (5 > 4)\n",
    "(5 > 4) or (3 == 5)\n",
    "not ((5 > 4) or (3 == 5))\n",
    "(True and True) and (True == False)\n",
    "(not False) or (not True)\n",
    "\n",
    "Ans:\n",
    "    \n",
    "(5 > 4) and (3 == 5)  --> False\n",
    "\n",
    "not (5 > 4)  --> False\n",
    "\n",
    "(5 > 4) or (3 == 5)  --> True\n",
    "\n",
    "not ((5 > 4) or (3 == 5))  --> False\n",
    "\n",
    "(True and True) and (True == False)  --> False\n",
    "\n",
    "(not False) or (not True)  --> True\n"
   ]
  },
  {
   "cell_type": "markdown",
   "id": "72ad097e",
   "metadata": {},
   "source": [
    "5. What are the six comparison operators?\n",
    "\n",
    "Ans:\n",
    "    \n",
    "< , > , <= , >= , != , =="
   ]
  },
  {
   "cell_type": "markdown",
   "id": "bab63eca",
   "metadata": {},
   "source": [
    "6. How do you tell the difference between the equal to and assignment operators?Describe a condition and when you would use one.\n",
    "\n",
    "Ans:\n",
    "    \n",
    "Equal to is denoted as '==' whereas '=' is used to assign. \n",
    "\n",
    "a == 3 checks whether a is equal to 3 and returns True or False whereas a = 3 assigns 3 to the variable a."
   ]
  },
  {
   "cell_type": "markdown",
   "id": "fdeed90a",
   "metadata": {},
   "source": [
    "7. Identify the three blocks in this code:\n",
    "spam = 0\n",
    "if spam == 10:\n",
    "print('eggs')\n",
    "if spam > 5:\n",
    "print('bacon')\n",
    "else:\n",
    "print('ham')\n",
    "print('spam')\n",
    "print('spam')\n",
    "\n",
    "Ans:\n",
    "\n",
    "block 1 --> if spam == 10: print('eggs')\n",
    "\n",
    "block 2 --> if spam > 5: print('bacon')\n",
    "\n",
    "block 3 --> else: print('ham')\n",
    "                  print('spam')\n",
    "                  print('spam')"
   ]
  },
  {
   "cell_type": "markdown",
   "id": "5b60d6c7",
   "metadata": {},
   "source": [
    "8. Write code that prints Hello if 1 is stored in spam, prints Howdy if 2 is stored in spam, and prints Greetings! if anything else is stored in spam.\n"
   ]
  },
  {
   "cell_type": "code",
   "execution_count": 2,
   "id": "6e5912af",
   "metadata": {
    "ExecuteTime": {
     "end_time": "2022-01-27T14:02:27.800827Z",
     "start_time": "2022-01-27T14:02:27.775906Z"
    }
   },
   "outputs": [
    {
     "name": "stdout",
     "output_type": "stream",
     "text": [
      "Hello\n",
      "Howdy\n",
      "Greetings\n"
     ]
    }
   ],
   "source": [
    "def spam(spam):\n",
    "    if spam==1:\n",
    "        print('Hello')\n",
    "    elif spam==2:\n",
    "        print('Howdy')\n",
    "    else:\n",
    "        print('Greetings')\n",
    "        \n",
    "spam(1) \n",
    "spam(2)\n",
    "spam(3)"
   ]
  },
  {
   "cell_type": "markdown",
   "id": "5553e2b0",
   "metadata": {},
   "source": [
    "9.If your programme is stuck in an endless loop, what keys you’ll press?\n",
    "\n",
    "Ans:\n",
    "\n",
    "Ctrl + c"
   ]
  },
  {
   "cell_type": "markdown",
   "id": "79fea35c",
   "metadata": {},
   "source": [
    "10. How can you tell the difference between break and continue?\n",
    "\n",
    "Ans:\n",
    "    \n",
    "break comes out of the enclosed loop when the break condition is satisfied.\n",
    "\n",
    "continue skips the rest of the statements in the current loop and moves to the start of the loop.\n"
   ]
  },
  {
   "cell_type": "markdown",
   "id": "ee24f97c",
   "metadata": {
    "ExecuteTime": {
     "end_time": "2022-01-27T14:55:54.775766Z",
     "start_time": "2022-01-27T14:55:54.761804Z"
    }
   },
   "source": [
    "11. In a for loop, what is the difference between range(10), range(0, 10), and range(0, 10, 1)?\n",
    "\n",
    "Ans:\n",
    "    \n",
    "range(10) , range(0,10) and range(0,10,1) gives the same range of output i.e 0 t0 9.\n",
    "\n",
    "Just the way it is represented is different. default start value is 0 and default step value is 1."
   ]
  },
  {
   "cell_type": "markdown",
   "id": "3b867eea",
   "metadata": {},
   "source": [
    "12. Write a short program that prints the numbers 1 to 10 using a for loop. Then write an equivalent program that prints the numbers 1 to 10 using a while loop.\n"
   ]
  },
  {
   "cell_type": "code",
   "execution_count": 6,
   "id": "0196347a",
   "metadata": {
    "ExecuteTime": {
     "end_time": "2022-01-27T14:58:10.374463Z",
     "start_time": "2022-01-27T14:58:10.357501Z"
    }
   },
   "outputs": [
    {
     "name": "stdout",
     "output_type": "stream",
     "text": [
      "Using For Loop\n",
      "1 2 3 4 5 6 7 8 9 10 \n",
      "\n",
      "Using While Loop\n",
      "1 2 3 4 5 6 7 8 9 10 "
     ]
    }
   ],
   "source": [
    "print(\"Using For Loop\")\n",
    "for i in range(1,11):\n",
    "    print(i, end=\" \")\n",
    "print('\\n')\n",
    "print(\"Using While Loop\") \n",
    "i=1\n",
    "while i<=10:\n",
    "    print(i, end=\" \")\n",
    "    i+=1"
   ]
  },
  {
   "cell_type": "markdown",
   "id": "bdffc91a",
   "metadata": {},
   "source": [
    "13. If you had a function named bacon() inside a module named spam, how would you call it after importing spam?\n",
    "\n",
    "Ans:\n",
    "    \n",
    "This function can be called with spam.bacon()\n"
   ]
  }
 ],
 "metadata": {
  "kernelspec": {
   "display_name": "Python 3 (ipykernel)",
   "language": "python",
   "name": "python3"
  },
  "language_info": {
   "codemirror_mode": {
    "name": "ipython",
    "version": 3
   },
   "file_extension": ".py",
   "mimetype": "text/x-python",
   "name": "python",
   "nbconvert_exporter": "python",
   "pygments_lexer": "ipython3",
   "version": "3.10.2"
  },
  "toc": {
   "base_numbering": 1,
   "nav_menu": {},
   "number_sections": true,
   "sideBar": true,
   "skip_h1_title": false,
   "title_cell": "Table of Contents",
   "title_sidebar": "Contents",
   "toc_cell": false,
   "toc_position": {},
   "toc_section_display": true,
   "toc_window_display": false
  }
 },
 "nbformat": 4,
 "nbformat_minor": 5
}
