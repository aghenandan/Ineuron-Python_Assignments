{
 "cells": [
  {
   "cell_type": "markdown",
   "id": "55795151",
   "metadata": {},
   "source": [
    "### What is the result of the code, and why?\n",
    "\n",
    "def func(a, b=6, c=8):\n",
    "\n",
    "print(a, b,c)\n",
    "\n",
    "func(1, 2)\n"
   ]
  },
  {
   "cell_type": "code",
   "execution_count": 2,
   "id": "cd04989e",
   "metadata": {
    "ExecuteTime": {
     "end_time": "2022-02-04T09:52:27.481487Z",
     "start_time": "2022-02-04T09:52:27.470520Z"
    }
   },
   "outputs": [
    {
     "name": "stdout",
     "output_type": "stream",
     "text": [
      "1 2 8\n"
     ]
    }
   ],
   "source": [
    "def func(a, b=6, c=8):\n",
    "    print(a, b, c)\n",
    "func(1, 2)"
   ]
  },
  {
   "cell_type": "markdown",
   "id": "2e97f90b",
   "metadata": {},
   "source": [
    "### What is the result of this code, and why?\n",
    "\n",
    "def func(a, b, c=5):\n",
    "    \n",
    "print(a, b, c)\n",
    "\n",
    "func(1, c=3, b=2)"
   ]
  },
  {
   "cell_type": "code",
   "execution_count": 3,
   "id": "76ddc380",
   "metadata": {
    "ExecuteTime": {
     "end_time": "2022-02-04T09:53:07.403976Z",
     "start_time": "2022-02-04T09:53:07.394036Z"
    }
   },
   "outputs": [
    {
     "name": "stdout",
     "output_type": "stream",
     "text": [
      "1 2 3\n"
     ]
    }
   ],
   "source": [
    "def func(a, b, c=5):\n",
    "    print(a, b, c)\n",
    "func(1, c=3, b=2)"
   ]
  },
  {
   "cell_type": "markdown",
   "id": "78bd9742",
   "metadata": {},
   "source": [
    "### How about this code: what is its result, and why?\n",
    "\n",
    "def func(a, *pargs):\n",
    "    \n",
    "print(a, pargs)\n",
    "\n",
    "func(1, 2, 3)"
   ]
  },
  {
   "cell_type": "code",
   "execution_count": 4,
   "id": "6dee22cb",
   "metadata": {
    "ExecuteTime": {
     "end_time": "2022-02-04T09:53:49.244526Z",
     "start_time": "2022-02-04T09:53:49.230565Z"
    }
   },
   "outputs": [
    {
     "name": "stdout",
     "output_type": "stream",
     "text": [
      "1 (2, 3)\n"
     ]
    }
   ],
   "source": [
    "def func(a, *pargs):\n",
    "    print(a, pargs)\n",
    "func(1, 2, 3)"
   ]
  },
  {
   "cell_type": "markdown",
   "id": "ec653a25",
   "metadata": {},
   "source": [
    "### What does this code print, and why?\n",
    "\n",
    "def func(a, **kargs):\n",
    "    \n",
    "print(a, kargs)\n",
    "\n",
    "func(a=1, c=3, b=2)"
   ]
  },
  {
   "cell_type": "code",
   "execution_count": 5,
   "id": "e19d7a2a",
   "metadata": {
    "ExecuteTime": {
     "end_time": "2022-02-04T09:54:30.305720Z",
     "start_time": "2022-02-04T09:54:30.288656Z"
    }
   },
   "outputs": [
    {
     "name": "stdout",
     "output_type": "stream",
     "text": [
      "1 {'c': 3, 'b': 2}\n"
     ]
    }
   ],
   "source": [
    "def func(a, **kargs):\n",
    "    print(a, kargs)\n",
    "func(a=1, c=3, b=2)"
   ]
  },
  {
   "cell_type": "markdown",
   "id": "e649cb07",
   "metadata": {},
   "source": [
    "### What gets printed by this, and explain?\n",
    "\n",
    "def func(a, b, c=8, d=5): print(a, b, c, d)\n",
    "    \n",
    "func(1, *(5, 6))"
   ]
  },
  {
   "cell_type": "code",
   "execution_count": 6,
   "id": "0f8a2035",
   "metadata": {
    "ExecuteTime": {
     "end_time": "2022-02-04T09:55:02.351065Z",
     "start_time": "2022-02-04T09:55:02.327081Z"
    }
   },
   "outputs": [
    {
     "name": "stdout",
     "output_type": "stream",
     "text": [
      "1 5 6 5\n"
     ]
    }
   ],
   "source": [
    "def func(a, b, c=8, d=5): print(a, b, c, d)\n",
    "    \n",
    "func(1, *(5, 6))"
   ]
  },
  {
   "cell_type": "markdown",
   "id": "5b592ce1",
   "metadata": {},
   "source": [
    "### what is the result of this, and explain?\n",
    "\n",
    "def func(a, b, c): a = 2; b[0] = 'x'; c['a'] = 'y'\n",
    "    \n",
    "l=1; m=[1]; n={'a':0}\n",
    "\n",
    "func(l, m, n)\n",
    "\n",
    "l, m, n"
   ]
  },
  {
   "cell_type": "code",
   "execution_count": 8,
   "id": "9a58765e",
   "metadata": {
    "ExecuteTime": {
     "end_time": "2022-02-04T09:56:38.976192Z",
     "start_time": "2022-02-04T09:56:38.953710Z"
    }
   },
   "outputs": [
    {
     "data": {
      "text/plain": [
       "(1, ['x'], {'a': 'y'})"
      ]
     },
     "execution_count": 8,
     "metadata": {},
     "output_type": "execute_result"
    }
   ],
   "source": [
    "def func(a, b, c): a = 2; b[0] = 'x'; c['a'] = 'y'\n",
    "l=1; m=[1]; n={'a':0}\n",
    "\n",
    "func(l, m, n)\n",
    "\n",
    "l, m, n"
   ]
  }
 ],
 "metadata": {
  "kernelspec": {
   "display_name": "Python 3 (ipykernel)",
   "language": "python",
   "name": "python3"
  },
  "language_info": {
   "codemirror_mode": {
    "name": "ipython",
    "version": 3
   },
   "file_extension": ".py",
   "mimetype": "text/x-python",
   "name": "python",
   "nbconvert_exporter": "python",
   "pygments_lexer": "ipython3",
   "version": "3.10.2"
  },
  "toc": {
   "base_numbering": 1,
   "nav_menu": {},
   "number_sections": true,
   "sideBar": true,
   "skip_h1_title": false,
   "title_cell": "Table of Contents",
   "title_sidebar": "Contents",
   "toc_cell": false,
   "toc_position": {},
   "toc_section_display": true,
   "toc_window_display": false
  }
 },
 "nbformat": 4,
 "nbformat_minor": 5
}
