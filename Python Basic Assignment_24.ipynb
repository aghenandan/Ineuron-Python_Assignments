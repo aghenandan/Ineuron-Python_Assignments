{
 "cells": [
  {
   "cell_type": "markdown",
   "id": "8134f63b",
   "metadata": {},
   "source": [
    "### What is the relationship between def statements and lambda expressions ?\n",
    "\n",
    "Ans:\n",
    "\n",
    "Def can hold multiple expressions while lambda is a uni-expression function.\n",
    "\n",
    "Def generates a function and designates a name to call it later. Lambda forms a function object and returns it.\n",
    "\n",
    "Def can have a return statement. Lambda can’t have return statements.\n",
    "\n",
    "Lambda supports to get used inside a list and dictionary."
   ]
  },
  {
   "cell_type": "markdown",
   "id": "b9cccde4",
   "metadata": {},
   "source": [
    "### What is the benefit of lambda?\n",
    "\n",
    "Ans:\n",
    "\n",
    "Can be used to create Nameless/Anonymous functions inside some complex functions if we are planning to use it only once.\n",
    "\n",
    "Moderate to small functions can be created in a single line.\n",
    "\n",
    "Fuctions created using lambda expressions can be assigned to a variable and can be used by simply calling the variable."
   ]
  },
  {
   "cell_type": "markdown",
   "id": "29a93477",
   "metadata": {},
   "source": [
    "### Compare and contrast map, filter, and reduce.\n",
    "\n",
    "Ans:\n",
    "\n",
    "The map() function iterates through all items in the given iterable and executes the function we passed as an argument on each of them.We can pass as many iterable objects as we want after passing the function we want to use. \n",
    "\n",
    "Similar to map(), filter() takes a function object and an iterable and creates a new list. As the name suggests, filter() forms a new list that contains only elements that satisfy a certain condition, i.e. the function we passed returns True.\n",
    "\n",
    "reduce() works differently than map() and filter(). It does not return a new list based on the function and iterable we've passed. Instead, it returns a single value.\n",
    "\n",
    "reduce() works by calling the function we passed for the first two items in the sequence. The result returned by the function is used in another call to function alongside with the next (third in this case), element. This process repeats until we've gone through all the elements in the sequence. "
   ]
  },
  {
   "cell_type": "markdown",
   "id": "d99d3f8c",
   "metadata": {},
   "source": [
    "### What are function annotations, and how are they used?\n",
    "\n",
    "Ans:\n",
    "\n",
    "Function annotations are arbitrary python expressions that are associated with various part of functions. \n",
    "\n",
    "These expressions are evaluated at compile time and have no life in python’s runtime environment. \n",
    "\n",
    "Python does not attach any meaning to these annotations. They take life when interpreted by third party libraries, for example, mypy."
   ]
  },
  {
   "cell_type": "markdown",
   "id": "b7da1fa5",
   "metadata": {},
   "source": [
    "### What are recursive functions, and how are they used?\n",
    "\n",
    "Ans:\n",
    "\n",
    "A recursive function is a function defined in terms of itself via self-referential expressions.\n",
    "\n",
    "This means that the function will continue to call itself and repeat its behavior until some condition is met to return a result. \n",
    "\n",
    "All recursive functions share a common structure made up of two parts: base case and recursive case."
   ]
  },
  {
   "cell_type": "markdown",
   "id": "7cf4ef20",
   "metadata": {},
   "source": [
    "### What are some general design guidelines for coding functions?\n",
    "\n",
    "Ans:\n",
    "\n",
    "Always use a docstring to explain the functionality of the function\n",
    "\n",
    "Avoid using or limited use of global variables\n",
    "\n",
    "Proper Identation to increase the code readability\n",
    "\n",
    "Try to follow a naming convention for function names (pascalCase or camelCase) and stick with the same convention throughout the application.\n",
    "\n",
    "Avoid using digits while choosing a variable name\n",
    "\n",
    "Try to use a name for the function which conveys the purpose of the function\n",
    "\n",
    "Local variables should be named using camelCase format (ex: localVariable) whereas Global variables names should be using PascalCase (ex:GlobalVariable).\n",
    "\n",
    "Constant should be represented in allcaps (ex:CONSTANT)."
   ]
  },
  {
   "cell_type": "markdown",
   "id": "2fb32743",
   "metadata": {},
   "source": [
    "### Name three or more ways that functions can communicate results to a caller.\n",
    "\n",
    "Ans:\n",
    "\n",
    "print\n",
    "\n",
    "return\n",
    "\n",
    "yield etc."
   ]
  }
 ],
 "metadata": {
  "kernelspec": {
   "display_name": "Python 3 (ipykernel)",
   "language": "python",
   "name": "python3"
  },
  "language_info": {
   "codemirror_mode": {
    "name": "ipython",
    "version": 3
   },
   "file_extension": ".py",
   "mimetype": "text/x-python",
   "name": "python",
   "nbconvert_exporter": "python",
   "pygments_lexer": "ipython3",
   "version": "3.10.2"
  },
  "toc": {
   "base_numbering": 1,
   "nav_menu": {},
   "number_sections": true,
   "sideBar": true,
   "skip_h1_title": false,
   "title_cell": "Table of Contents",
   "title_sidebar": "Contents",
   "toc_cell": false,
   "toc_position": {},
   "toc_section_display": true,
   "toc_window_display": false
  }
 },
 "nbformat": 4,
 "nbformat_minor": 5
}
