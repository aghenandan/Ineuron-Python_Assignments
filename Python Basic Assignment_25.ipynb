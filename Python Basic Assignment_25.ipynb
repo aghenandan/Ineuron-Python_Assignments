{
 "cells": [
  {
   "cell_type": "markdown",
   "id": "508398c1",
   "metadata": {},
   "source": [
    "### What is the difference between enclosing a list comprehension in square brackets and parentheses?\n",
    "\n",
    "Ans:\n",
    "\n",
    "Enclosing a list comprehension in square brackets returns a list.\n",
    "\n",
    "Enclosing a list comprehension in parentheses returns a generator object"
   ]
  },
  {
   "cell_type": "markdown",
   "id": "a9f1ff49",
   "metadata": {},
   "source": [
    "### What is the relationship between generators and iterators?\n",
    "\n",
    "Ans:\n",
    "\n",
    "In creating a python generator, we use a function. But in creating an iterator in python, we use the iter() and next() functions.\n",
    "\n",
    "A generator in python makes use of the ‘yield’ keyword. A python iterator doesn’t.\n",
    "\n",
    "Python generator saves the states of the local variables every time ‘yield’ pauses the loop in python. An iterator does not make use of local variables, all it needs is iterable to iterate on.\n",
    "\n",
    "A generator may have any number of ‘yield’ statements.\n",
    "\n",
    "You can implement your own iterator using a python class; a generator does not need a class in python.\n",
    "\n",
    "To write a python generator, you can either use a Python function or a comprehension. But for an iterator, you must use the iter() and next() functions.\n",
    "\n",
    "Generator in python let us write fast and compact code. This is an advantage over Python iterators. They are also simpler to code than do custom iterator.\n",
    "\n",
    "Python iterator is more memory-efficient. "
   ]
  },
  {
   "cell_type": "markdown",
   "id": "f021a980",
   "metadata": {},
   "source": [
    "### What are the signs that a function is a generator function?\n",
    "\n",
    "Ans:\n",
    "\n",
    "If a function contains at least one yield statement (it may contain other yield or return statements), it becomes a generator function."
   ]
  },
  {
   "cell_type": "markdown",
   "id": "3521b428",
   "metadata": {},
   "source": [
    "### What is the purpose of a yield statement?\n",
    "\n",
    "Ans:\n",
    "\n",
    "yield can be used like the return statement in a function. \n",
    "\n",
    "When done so, the function instead of returning the output, it returns a generator that can be iterated upon which can then iterate through the generator to extract items."
   ]
  },
  {
   "cell_type": "markdown",
   "id": "041f5fe0",
   "metadata": {},
   "source": [
    "### What is the relationship between map calls and list comprehensions? Make a comparison and contrast between the two.\n",
    "\n",
    "Ans:\n",
    "\n",
    "List comprehension is more concise and easier to read as compared to map.\n",
    "\n",
    "List comprehension allows filtering. In map, we have no such facility. There is no alternate for it in map.\n",
    "\n",
    "List comprehension are used when a list of results is required as map only returns a map object and does not return any list.\n",
    "\n",
    "List comprehension is faster than map when we need to evaluate expressions that are too long or complicated to express.\n",
    "\n",
    "Map is faster in case of calling an already defined function (as no lambda is required)."
   ]
  }
 ],
 "metadata": {
  "kernelspec": {
   "display_name": "Python 3 (ipykernel)",
   "language": "python",
   "name": "python3"
  },
  "language_info": {
   "codemirror_mode": {
    "name": "ipython",
    "version": 3
   },
   "file_extension": ".py",
   "mimetype": "text/x-python",
   "name": "python",
   "nbconvert_exporter": "python",
   "pygments_lexer": "ipython3",
   "version": "3.10.2"
  },
  "toc": {
   "base_numbering": 1,
   "nav_menu": {},
   "number_sections": true,
   "sideBar": true,
   "skip_h1_title": false,
   "title_cell": "Table of Contents",
   "title_sidebar": "Contents",
   "toc_cell": false,
   "toc_position": {},
   "toc_section_display": true,
   "toc_window_display": false
  }
 },
 "nbformat": 4,
 "nbformat_minor": 5
}
