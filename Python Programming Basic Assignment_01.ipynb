{
 "cells": [
  {
   "cell_type": "markdown",
   "id": "f4368784",
   "metadata": {},
   "source": [
    "### Write a Python program to print \"Hello Python\"?"
   ]
  },
  {
   "cell_type": "code",
   "execution_count": 1,
   "id": "6a18ee7b",
   "metadata": {
    "ExecuteTime": {
     "end_time": "2022-01-29T16:32:58.467112Z",
     "start_time": "2022-01-29T16:32:58.440168Z"
    }
   },
   "outputs": [
    {
     "name": "stdout",
     "output_type": "stream",
     "text": [
      "Hello Python\n"
     ]
    }
   ],
   "source": [
    "print(\"Hello Python\")"
   ]
  },
  {
   "cell_type": "markdown",
   "id": "5a6750fc",
   "metadata": {},
   "source": [
    "### Write a Python program to do arithmetical operations addition and division.?"
   ]
  },
  {
   "cell_type": "code",
   "execution_count": 7,
   "id": "a74fdb82",
   "metadata": {
    "ExecuteTime": {
     "end_time": "2022-01-29T16:42:15.469466Z",
     "start_time": "2022-01-29T16:42:15.456464Z"
    }
   },
   "outputs": [],
   "source": [
    "def arithmetic(*args):\n",
    "    print(\"Addition\\n\")\n",
    "    sum = args[0] + args[1]\n",
    "    print(\"Sum is \",sum)\n",
    "    print(\"\\nDivision\\n\")\n",
    "    rem = args[0] % args[1]\n",
    "    quo = args[0] // args[1]\n",
    "    print(\"Remainder is \",rem)\n",
    "    print(\"Quotient is \",quo)"
   ]
  },
  {
   "cell_type": "code",
   "execution_count": 8,
   "id": "08fcfcba",
   "metadata": {
    "ExecuteTime": {
     "end_time": "2022-01-29T16:42:18.027384Z",
     "start_time": "2022-01-29T16:42:18.020434Z"
    }
   },
   "outputs": [
    {
     "name": "stdout",
     "output_type": "stream",
     "text": [
      "Addition\n",
      "\n",
      "Sum is  30\n",
      "\n",
      "Division\n",
      "\n",
      "Remainder is  0\n",
      "Quotient is  5\n"
     ]
    }
   ],
   "source": [
    "arithmetic(25,5)"
   ]
  },
  {
   "cell_type": "code",
   "execution_count": 9,
   "id": "62186fbf",
   "metadata": {
    "ExecuteTime": {
     "end_time": "2022-01-29T16:42:22.680885Z",
     "start_time": "2022-01-29T16:42:22.667920Z"
    }
   },
   "outputs": [
    {
     "name": "stdout",
     "output_type": "stream",
     "text": [
      "Addition\n",
      "\n",
      "Sum is  82\n",
      "\n",
      "Division\n",
      "\n",
      "Remainder is  5\n",
      "Quotient is  10\n"
     ]
    }
   ],
   "source": [
    "arithmetic(75,7)"
   ]
  },
  {
   "cell_type": "markdown",
   "id": "5443651d",
   "metadata": {},
   "source": [
    "###  Write a Python program to find the area of a triangle?"
   ]
  },
  {
   "cell_type": "code",
   "execution_count": 10,
   "id": "2f8aed81",
   "metadata": {
    "ExecuteTime": {
     "end_time": "2022-01-29T16:47:17.803084Z",
     "start_time": "2022-01-29T16:47:12.150118Z"
    }
   },
   "outputs": [
    {
     "name": "stdout",
     "output_type": "stream",
     "text": [
      "Enter the breadth of the triangle: 45\n",
      "Enter the height of the triangle: 23\n",
      "\n",
      "Area of the triangle is  517.5\n"
     ]
    }
   ],
   "source": [
    "b = int(input(\"Enter the breadth of the triangle: \"))\n",
    "h = int(input(\"Enter the height of the triangle: \"))\n",
    "def area(b,h):\n",
    "    area = 0.5*b*h\n",
    "    print(\"\\nArea of the triangle is \",area)\n",
    "area(b,h)"
   ]
  },
  {
   "cell_type": "markdown",
   "id": "d3b0a236",
   "metadata": {},
   "source": [
    "### Write a Python program to swap two variables?"
   ]
  },
  {
   "cell_type": "code",
   "execution_count": 12,
   "id": "4b09bc86",
   "metadata": {
    "ExecuteTime": {
     "end_time": "2022-01-29T16:52:44.632675Z",
     "start_time": "2022-01-29T16:52:37.413836Z"
    }
   },
   "outputs": [
    {
     "name": "stdout",
     "output_type": "stream",
     "text": [
      "Enter the first variable: 24\n",
      "Enter the second variable: 78\n",
      "\n",
      "Swapped Output\n",
      "First variable:  78\n",
      "Second variable:  24\n"
     ]
    }
   ],
   "source": [
    "n1 = int(input(\"Enter the first variable: \"))\n",
    "n2 = int(input(\"Enter the second variable: \"))\n",
    "def swap(n1,n2):\n",
    "    temp = n1\n",
    "    n1 = n2\n",
    "    n2 = temp\n",
    "    print(\"\\nSwapped Output\")\n",
    "    print(\"First variable: \",n1)\n",
    "    print(\"Second variable: \",n2)\n",
    "swap(n1,n2)"
   ]
  },
  {
   "cell_type": "markdown",
   "id": "6410a6c3",
   "metadata": {},
   "source": [
    "### Write a Python program to generate a random number?"
   ]
  },
  {
   "cell_type": "code",
   "execution_count": 15,
   "id": "18575f2f",
   "metadata": {
    "ExecuteTime": {
     "end_time": "2022-01-29T16:55:41.531158Z",
     "start_time": "2022-01-29T16:55:41.513181Z"
    }
   },
   "outputs": [
    {
     "name": "stdout",
     "output_type": "stream",
     "text": [
      "90\n"
     ]
    }
   ],
   "source": [
    "import random as rd\n",
    "def genran():\n",
    "    print(rd.randint(0,100))\n",
    "genran()"
   ]
  }
 ],
 "metadata": {
  "kernelspec": {
   "display_name": "Python 3 (ipykernel)",
   "language": "python",
   "name": "python3"
  },
  "language_info": {
   "codemirror_mode": {
    "name": "ipython",
    "version": 3
   },
   "file_extension": ".py",
   "mimetype": "text/x-python",
   "name": "python",
   "nbconvert_exporter": "python",
   "pygments_lexer": "ipython3",
   "version": "3.10.2"
  },
  "toc": {
   "base_numbering": 1,
   "nav_menu": {},
   "number_sections": true,
   "sideBar": true,
   "skip_h1_title": false,
   "title_cell": "Table of Contents",
   "title_sidebar": "Contents",
   "toc_cell": false,
   "toc_position": {},
   "toc_section_display": true,
   "toc_window_display": false
  }
 },
 "nbformat": 4,
 "nbformat_minor": 5
}
