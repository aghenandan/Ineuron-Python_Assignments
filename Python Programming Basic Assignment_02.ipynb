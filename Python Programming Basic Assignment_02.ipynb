{
 "cells": [
  {
   "cell_type": "markdown",
   "id": "084718b5",
   "metadata": {},
   "source": [
    "### Write a Python program to convert kilometers to miles?"
   ]
  },
  {
   "cell_type": "code",
   "execution_count": 1,
   "id": "49c2d7ff",
   "metadata": {
    "ExecuteTime": {
     "end_time": "2022-01-29T17:52:43.676827Z",
     "start_time": "2022-01-29T17:52:39.958894Z"
    }
   },
   "outputs": [
    {
     "name": "stdout",
     "output_type": "stream",
     "text": [
      "Enter kilometer: 34\n",
      "34.0 kilometer is equal to 21.126614 miles\n"
     ]
    }
   ],
   "source": [
    "def km2miles():\n",
    "    km = float(input(\"Enter kilometer: \"))\n",
    "    print(\"{} kilometer is equal to {} miles\".format(km,km*0.621371))\n",
    "km2miles()"
   ]
  },
  {
   "cell_type": "markdown",
   "id": "c77b53a6",
   "metadata": {},
   "source": [
    "### Write a Python program to convert Celsius to Fahrenheit?"
   ]
  },
  {
   "cell_type": "code",
   "execution_count": 2,
   "id": "2b0ae143",
   "metadata": {
    "ExecuteTime": {
     "end_time": "2022-01-29T17:52:48.087757Z",
     "start_time": "2022-01-29T17:52:43.678831Z"
    }
   },
   "outputs": [
    {
     "name": "stdout",
     "output_type": "stream",
     "text": [
      "Enter Celsius: 76\n",
      "76.0 celsius is equal to 168.8 fahrenheit\n"
     ]
    }
   ],
   "source": [
    "def cel2fah():\n",
    "    cel = float(input(\"Enter Celsius: \"))\n",
    "    print(\"{} celsius is equal to {} fahrenheit\".format(cel,cel*1.8+32))\n",
    "cel2fah()"
   ]
  },
  {
   "cell_type": "markdown",
   "id": "6b310cc0",
   "metadata": {},
   "source": [
    "### Write a Python program to display calendar?"
   ]
  },
  {
   "cell_type": "code",
   "execution_count": 3,
   "id": "833430e4",
   "metadata": {
    "ExecuteTime": {
     "end_time": "2022-01-29T17:53:03.624498Z",
     "start_time": "2022-01-29T17:52:48.088753Z"
    }
   },
   "outputs": [
    {
     "name": "stdout",
     "output_type": "stream",
     "text": [
      "Enter Calendar year: 1946\n",
      "Enter Calendar month: \n",
      "05\n",
      "      May 1946\n",
      "Mo Tu We Th Fr Sa Su\n",
      "       1  2  3  4  5\n",
      " 6  7  8  9 10 11 12\n",
      "13 14 15 16 17 18 19\n",
      "20 21 22 23 24 25 26\n",
      "27 28 29 30 31\n",
      "\n",
      "Enter Calendar year: \n",
      "2022\n",
      "                                  2022\n",
      "\n",
      "      January                   February                   March\n",
      "Mo Tu We Th Fr Sa Su      Mo Tu We Th Fr Sa Su      Mo Tu We Th Fr Sa Su\n",
      "                1  2          1  2  3  4  5  6          1  2  3  4  5  6\n",
      " 3  4  5  6  7  8  9       7  8  9 10 11 12 13       7  8  9 10 11 12 13\n",
      "10 11 12 13 14 15 16      14 15 16 17 18 19 20      14 15 16 17 18 19 20\n",
      "17 18 19 20 21 22 23      21 22 23 24 25 26 27      21 22 23 24 25 26 27\n",
      "24 25 26 27 28 29 30      28                        28 29 30 31\n",
      "31\n",
      "\n",
      "       April                      May                       June\n",
      "Mo Tu We Th Fr Sa Su      Mo Tu We Th Fr Sa Su      Mo Tu We Th Fr Sa Su\n",
      "             1  2  3                         1             1  2  3  4  5\n",
      " 4  5  6  7  8  9 10       2  3  4  5  6  7  8       6  7  8  9 10 11 12\n",
      "11 12 13 14 15 16 17       9 10 11 12 13 14 15      13 14 15 16 17 18 19\n",
      "18 19 20 21 22 23 24      16 17 18 19 20 21 22      20 21 22 23 24 25 26\n",
      "25 26 27 28 29 30         23 24 25 26 27 28 29      27 28 29 30\n",
      "                          30 31\n",
      "\n",
      "        July                     August                  September\n",
      "Mo Tu We Th Fr Sa Su      Mo Tu We Th Fr Sa Su      Mo Tu We Th Fr Sa Su\n",
      "             1  2  3       1  2  3  4  5  6  7                1  2  3  4\n",
      " 4  5  6  7  8  9 10       8  9 10 11 12 13 14       5  6  7  8  9 10 11\n",
      "11 12 13 14 15 16 17      15 16 17 18 19 20 21      12 13 14 15 16 17 18\n",
      "18 19 20 21 22 23 24      22 23 24 25 26 27 28      19 20 21 22 23 24 25\n",
      "25 26 27 28 29 30 31      29 30 31                  26 27 28 29 30\n",
      "\n",
      "      October                   November                  December\n",
      "Mo Tu We Th Fr Sa Su      Mo Tu We Th Fr Sa Su      Mo Tu We Th Fr Sa Su\n",
      "                1  2          1  2  3  4  5  6                1  2  3  4\n",
      " 3  4  5  6  7  8  9       7  8  9 10 11 12 13       5  6  7  8  9 10 11\n",
      "10 11 12 13 14 15 16      14 15 16 17 18 19 20      12 13 14 15 16 17 18\n",
      "17 18 19 20 21 22 23      21 22 23 24 25 26 27      19 20 21 22 23 24 25\n",
      "24 25 26 27 28 29 30      28 29 30                  26 27 28 29 30 31\n",
      "31\n",
      "\n"
     ]
    }
   ],
   "source": [
    "import calendar\n",
    "def monthwise():\n",
    "    yy = int(input(\"Enter Calendar year: \"))\n",
    "    mm = int(input(\"Enter Calendar month: \\n\"))\n",
    "    print(calendar.month(yy,mm))\n",
    "def yearwise():\n",
    "    yy = int(input(\"Enter Calendar year: \\n\"))\n",
    "    print(calendar.calendar(yy))\n",
    "monthwise()\n",
    "yearwise()"
   ]
  },
  {
   "cell_type": "markdown",
   "id": "3bbf6956",
   "metadata": {},
   "source": [
    "### Write a Python program to solve quadratic equation?"
   ]
  },
  {
   "cell_type": "code",
   "execution_count": 9,
   "id": "2feadf98",
   "metadata": {
    "ExecuteTime": {
     "end_time": "2022-01-29T18:02:02.602495Z",
     "start_time": "2022-01-29T18:01:56.496919Z"
    }
   },
   "outputs": [
    {
     "name": "stdout",
     "output_type": "stream",
     "text": [
      "Enter a: 2\n",
      "Enter b: -4\n",
      "Enter c: 5\n",
      "The roots are\n",
      "1.0\n",
      "1.0\n",
      "Roots are Imaginary\n"
     ]
    }
   ],
   "source": [
    "import cmath\n",
    "import math\n",
    "\n",
    "def quad_equ():\n",
    "    a = int(input(\"Enter a: \"))\n",
    "    b = int(input(\"Enter b: \"))\n",
    "    c = int(input(\"Enter c: \"))\n",
    "    d = b*b-4*a*c\n",
    "    sqrt = math.sqrt(abs(d))\n",
    "    \n",
    "    if d == 0:\n",
    "        r1 = -b/2*a\n",
    "        r2 = -b/2*a\n",
    "        print(\"The roots are\")\n",
    "        print(r1)\n",
    "        print(r2)\n",
    "        print(\"Roots are Real\")\n",
    "    elif d > 0:\n",
    "        r1 = (-b-sqrt)/(2 * a)\n",
    "        r2 = (-b+sqrt)/(2 * a)\n",
    "        print(\"The roots are\")\n",
    "        print(r1)\n",
    "        print(r2)\n",
    "        print(\"Roots are Real and different\")\n",
    "    else:\n",
    "        r1 = -b/(2 * a)\n",
    "        r2 = -b/(2 * a)\n",
    "        print(\"The roots are\")\n",
    "        print(r1)\n",
    "        print(r2)\n",
    "        print(\"Roots are Imaginary\")\n",
    "\n",
    "quad_equ()"
   ]
  },
  {
   "cell_type": "markdown",
   "id": "155df446",
   "metadata": {},
   "source": [
    "### Write a Python program to swap two variables without temp variable ?"
   ]
  },
  {
   "cell_type": "code",
   "execution_count": 5,
   "id": "8130d45e",
   "metadata": {
    "ExecuteTime": {
     "end_time": "2022-01-29T17:54:06.042234Z",
     "start_time": "2022-01-29T17:53:40.131310Z"
    }
   },
   "outputs": [
    {
     "name": "stdout",
     "output_type": "stream",
     "text": [
      "Enter first variable: 45\n",
      "Enter second variable: 67\n",
      "Before swapping, first variable 45 second variable 67\n",
      "After swapping, first variable 67 second variable 45\n"
     ]
    }
   ],
   "source": [
    "def swap():\n",
    "    n1 = int(input(\"Enter first variable: \"))\n",
    "    n2 = int(input(\"Enter second variable: \"))\n",
    "    print(\"Before swapping, first variable {} second variable {}\".format(n1,n2))\n",
    "    n1 = n1 + n2\n",
    "    n2 = n1 - n2\n",
    "    n1 = n1 - n2\n",
    "    print(\"After swapping, first variable {} second variable {}\".format(n1,n2))\n",
    "swap()"
   ]
  }
 ],
 "metadata": {
  "kernelspec": {
   "display_name": "Python 3 (ipykernel)",
   "language": "python",
   "name": "python3"
  },
  "language_info": {
   "codemirror_mode": {
    "name": "ipython",
    "version": 3
   },
   "file_extension": ".py",
   "mimetype": "text/x-python",
   "name": "python",
   "nbconvert_exporter": "python",
   "pygments_lexer": "ipython3",
   "version": "3.10.2"
  },
  "toc": {
   "base_numbering": 1,
   "nav_menu": {},
   "number_sections": true,
   "sideBar": true,
   "skip_h1_title": false,
   "title_cell": "Table of Contents",
   "title_sidebar": "Contents",
   "toc_cell": false,
   "toc_position": {},
   "toc_section_display": true,
   "toc_window_display": false
  }
 },
 "nbformat": 4,
 "nbformat_minor": 5
}
