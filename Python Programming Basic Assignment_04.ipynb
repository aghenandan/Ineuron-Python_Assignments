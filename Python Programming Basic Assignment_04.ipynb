{
 "cells": [
  {
   "cell_type": "markdown",
   "id": "3aac199c",
   "metadata": {},
   "source": [
    "### Write a Python Program to find the factorial of a number ? "
   ]
  },
  {
   "cell_type": "code",
   "execution_count": 5,
   "id": "454079a8",
   "metadata": {
    "ExecuteTime": {
     "end_time": "2022-02-01T08:45:08.160974Z",
     "start_time": "2022-02-01T08:45:05.913183Z"
    }
   },
   "outputs": [
    {
     "name": "stdout",
     "output_type": "stream",
     "text": [
      "Enter the number: 6\n",
      "Factorial of 6 is 720\n"
     ]
    }
   ],
   "source": [
    "def fact():\n",
    "    n = int(input(\"Enter the number: \"))\n",
    "    f = 1\n",
    "    for i in range (n,0,-1):\n",
    "        f = f * i\n",
    "    print(\"Factorial of {} is {}\".format(n,f))\n",
    "fact()"
   ]
  },
  {
   "cell_type": "markdown",
   "id": "0057393c",
   "metadata": {},
   "source": [
    "### Write a Python Program to display the multiplication table ?"
   ]
  },
  {
   "cell_type": "code",
   "execution_count": 9,
   "id": "f639f5d1",
   "metadata": {
    "ExecuteTime": {
     "end_time": "2022-02-01T08:50:05.926047Z",
     "start_time": "2022-02-01T08:50:03.818057Z"
    }
   },
   "outputs": [
    {
     "name": "stdout",
     "output_type": "stream",
     "text": [
      "Enter the number: 6\n",
      "\n",
      "Multiplication table of  6\n",
      "6  *  1  =  6\n",
      "6  *  2  =  12\n",
      "6  *  3  =  18\n",
      "6  *  4  =  24\n",
      "6  *  5  =  30\n",
      "6  *  6  =  36\n",
      "6  *  7  =  42\n",
      "6  *  8  =  48\n",
      "6  *  9  =  54\n",
      "6  *  10  =  60\n"
     ]
    }
   ],
   "source": [
    "def multiplication_table():\n",
    "    n = int(input(\"Enter the number: \"))\n",
    "    print(\"\\nMultiplication table of \",n)\n",
    "    for i in range(1,11):\n",
    "        print(n, ' * ',i, \" = \",n*i)\n",
    "multiplication_table()\n",
    "    "
   ]
  },
  {
   "cell_type": "markdown",
   "id": "7aa23963",
   "metadata": {},
   "source": [
    "### Write a Python Program to Print the Fibonacci sequence?"
   ]
  },
  {
   "cell_type": "code",
   "execution_count": 13,
   "id": "ed68e103",
   "metadata": {
    "ExecuteTime": {
     "end_time": "2022-02-01T08:57:03.944639Z",
     "start_time": "2022-02-01T08:56:55.109011Z"
    }
   },
   "outputs": [
    {
     "name": "stdout",
     "output_type": "stream",
     "text": [
      "Enter the number: 9\n",
      "[0, 1, 1, 2, 3, 5, 8, 13, 21, 34]\n"
     ]
    }
   ],
   "source": [
    "def fib():\n",
    "    n = int(input(\"Enter the number: \"))\n",
    "    f = 0\n",
    "    list1 = [0,1]\n",
    "    for i in range (2,n+1):\n",
    "        f = f + i\n",
    "        list1.append(list1[i-1] + list1[i-2])\n",
    "    print(list1)\n",
    "fib()"
   ]
  },
  {
   "cell_type": "markdown",
   "id": "bcca624a",
   "metadata": {},
   "source": [
    "### Write a Python Program to Check Armstrong Number?"
   ]
  },
  {
   "cell_type": "code",
   "execution_count": 25,
   "id": "99564c44",
   "metadata": {
    "ExecuteTime": {
     "end_time": "2022-02-01T12:52:59.175864Z",
     "start_time": "2022-02-01T12:52:55.249145Z"
    }
   },
   "outputs": [
    {
     "name": "stdout",
     "output_type": "stream",
     "text": [
      "Enter the number: 1634\n",
      "1634 is an armstrong number\n"
     ]
    }
   ],
   "source": [
    "def armstrong():\n",
    "    n = int(input(\"Enter the number: \"))\n",
    "    l = len(str(n))\n",
    "    s = 0\n",
    "    n1 = n\n",
    "    while n1>0:\n",
    "        a = n1 % 10\n",
    "        s = s+ a**l\n",
    "        n1 = n1//10\n",
    "    if n == s:\n",
    "        print(\"{} is an armstrong number\".format(n))\n",
    "    else:\n",
    "        print(\"{} is not an armstrong number\".format(n))\n",
    "armstrong()"
   ]
  },
  {
   "cell_type": "markdown",
   "id": "0fc4eccc",
   "metadata": {},
   "source": [
    "### Write a Python Program to Find Armstrong Number in an Interval?"
   ]
  },
  {
   "cell_type": "code",
   "execution_count": 36,
   "id": "44a99945",
   "metadata": {
    "ExecuteTime": {
     "end_time": "2022-02-01T13:04:39.183830Z",
     "start_time": "2022-02-01T13:04:35.243966Z"
    }
   },
   "outputs": [
    {
     "name": "stdout",
     "output_type": "stream",
     "text": [
      "Enter the lower limit: 1\n",
      "Enter the upper limit: 500\n",
      "153 is an armstrong number\n",
      "370 is an armstrong number\n",
      "371 is an armstrong number\n",
      "407 is an armstrong number\n"
     ]
    }
   ],
   "source": [
    "def armstrong():\n",
    "    lower = int(input(\"Enter the lower limit: \"))\n",
    "    upper = int(input(\"Enter the upper limit: \"))\n",
    "    for i in range (lower,upper+1) :\n",
    "        l = len(str(i))\n",
    "        s = 0\n",
    "        n1 = i\n",
    "        while n1>0 :\n",
    "            if l == 1:\n",
    "                break\n",
    "            a = n1 % 10\n",
    "            s = s+ a**l\n",
    "            n1 = n1//10\n",
    "        if i == s :\n",
    "            print(\"{} is an armstrong number\".format(i))\n",
    "    \n",
    "armstrong()"
   ]
  },
  {
   "cell_type": "markdown",
   "id": "90b67907",
   "metadata": {},
   "source": [
    "### Write a Python Program to Find the Sum of Natural Numbers?"
   ]
  },
  {
   "cell_type": "code",
   "execution_count": 40,
   "id": "28605c7d",
   "metadata": {
    "ExecuteTime": {
     "end_time": "2022-02-01T13:08:23.819999Z",
     "start_time": "2022-02-01T13:08:21.162587Z"
    }
   },
   "outputs": [
    {
     "name": "stdout",
     "output_type": "stream",
     "text": [
      "Enter the number: 10\n",
      "Sum of 10 natural numbers is 55\n"
     ]
    }
   ],
   "source": [
    "def sum():\n",
    "    n = int(input(\"Enter the number: \"))\n",
    "    s = 0\n",
    "    for i in range (n,0,-1):\n",
    "        s = s + i\n",
    "    print(\"Sum of {} natural numbers is {}\".format(n,s))\n",
    "sum()"
   ]
  }
 ],
 "metadata": {
  "kernelspec": {
   "display_name": "Python 3 (ipykernel)",
   "language": "python",
   "name": "python3"
  },
  "language_info": {
   "codemirror_mode": {
    "name": "ipython",
    "version": 3
   },
   "file_extension": ".py",
   "mimetype": "text/x-python",
   "name": "python",
   "nbconvert_exporter": "python",
   "pygments_lexer": "ipython3",
   "version": "3.10.2"
  },
  "toc": {
   "base_numbering": 1,
   "nav_menu": {},
   "number_sections": true,
   "sideBar": true,
   "skip_h1_title": false,
   "title_cell": "Table of Contents",
   "title_sidebar": "Contents",
   "toc_cell": false,
   "toc_position": {},
   "toc_section_display": true,
   "toc_window_display": false
  }
 },
 "nbformat": 4,
 "nbformat_minor": 5
}
