{
 "cells": [
  {
   "cell_type": "markdown",
   "id": "7e6dfc25",
   "metadata": {},
   "source": [
    "### Write a Python Program to Find LCM?"
   ]
  },
  {
   "cell_type": "code",
   "execution_count": 10,
   "id": "3732c154",
   "metadata": {
    "ExecuteTime": {
     "end_time": "2022-02-01T14:50:04.122479Z",
     "start_time": "2022-02-01T14:49:59.721963Z"
    }
   },
   "outputs": [
    {
     "name": "stdout",
     "output_type": "stream",
     "text": [
      "Enter first number: 54\n",
      "Enter second number: 24\n",
      "The L.C.M. of 54 and 24 is 216\n"
     ]
    }
   ],
   "source": [
    "def lcm():\n",
    "    x = int(input(\"Enter first number: \"))\n",
    "    y = int(input(\"Enter second number: \"))\n",
    "    if x > y:\n",
    "        g = x\n",
    "    else:\n",
    "        g = y\n",
    "    while(True):\n",
    "        if((g % x == 0) and (g % y == 0)):\n",
    "            lcm = g\n",
    "            break\n",
    "        g += 1\n",
    "    print(\"The L.C.M. of {} and {} is {}\".format(x,y,lcm))\n",
    "lcm()"
   ]
  },
  {
   "cell_type": "markdown",
   "id": "de88527f",
   "metadata": {},
   "source": [
    "### Write a Python Program to Find HCF?"
   ]
  },
  {
   "cell_type": "code",
   "execution_count": 12,
   "id": "013860bb",
   "metadata": {
    "ExecuteTime": {
     "end_time": "2022-02-01T14:52:40.955324Z",
     "start_time": "2022-02-01T14:52:35.357144Z"
    }
   },
   "outputs": [
    {
     "name": "stdout",
     "output_type": "stream",
     "text": [
      "Enter first number: 54\n",
      "Enter second number: 24\n",
      "The H.C.F of 54 and 24 is 6\n"
     ]
    }
   ],
   "source": [
    "def hcf():\n",
    "    x = int(input(\"Enter first number: \"))\n",
    "    y = int(input(\"Enter second number: \"))\n",
    "    if x > y:\n",
    "        s = y\n",
    "    else:\n",
    "        s = x\n",
    "    for i in range(1, s+1):\n",
    "        if((x % i == 0) and (y % i == 0)):\n",
    "            hcf = i \n",
    "    print(\"The H.C.F of {} and {} is {}\".format(x,y,hcf))\n",
    "hcf()"
   ]
  },
  {
   "cell_type": "markdown",
   "id": "ffcc7eb3",
   "metadata": {},
   "source": [
    "###  Write a Python Program to Convert Decimal to Binary, Octal and Hexadecimal?"
   ]
  },
  {
   "cell_type": "code",
   "execution_count": 13,
   "id": "f3dd8872",
   "metadata": {
    "ExecuteTime": {
     "end_time": "2022-02-01T15:00:23.297158Z",
     "start_time": "2022-02-01T15:00:10.156634Z"
    }
   },
   "outputs": [
    {
     "name": "stdout",
     "output_type": "stream",
     "text": [
      "Enter a decimal number: 7\n",
      "Binary of 7 is: 111\n"
     ]
    }
   ],
   "source": [
    "#Decimal to Binary\n",
    "n = int(input(\"Enter a decimal number: \"))\n",
    "b = 0\n",
    "i = 0\n",
    "temp = n  \n",
    "while(temp > 0):\n",
    "    b = ((temp%2)*(10**i)) + b\n",
    "    temp = int(temp/2)\n",
    "    i += 1\n",
    "print(\"Binary of {} is: {}\".format(n,b))"
   ]
  },
  {
   "cell_type": "code",
   "execution_count": 14,
   "id": "665939ed",
   "metadata": {
    "ExecuteTime": {
     "end_time": "2022-02-01T15:08:42.831201Z",
     "start_time": "2022-02-01T15:08:26.065231Z"
    }
   },
   "outputs": [
    {
     "name": "stdout",
     "output_type": "stream",
     "text": [
      "Enter an octal number: 7123\n",
      "\n",
      "Hexadecimal value of octal value 0 is E53\n"
     ]
    }
   ],
   "source": [
    "#Octal to Hexadecimal\n",
    "n = int(input(\"Enter an octal number: \"))\n",
    "\n",
    "chk = i = d = 0\n",
    "while n!=0:\n",
    "    r = n % 10\n",
    "    if r>7:\n",
    "        chk = 1\n",
    "        break\n",
    "    d = d + (r * (8 ** i))\n",
    "    i = i+1\n",
    "    n = int(n / 10)\n",
    "\n",
    "if chk == 0:\n",
    "    h = \"\"\n",
    "    while d != 0:\n",
    "        r = d % 16\n",
    "        if r < 10:\n",
    "            r = r + 48\n",
    "        else:\n",
    "            r = r + 55\n",
    "        r = chr(r)\n",
    "        h = h + r\n",
    "        d = int(d / 16)\n",
    "    h = h[::-1]\n",
    "    print(\"\\nHexadecimal value of octal value {} is {}\".format(n,h))\n",
    "\n",
    "else:\n",
    "    print(\"\\nInvalid Input!\")"
   ]
  },
  {
   "cell_type": "markdown",
   "id": "d53dee3c",
   "metadata": {},
   "source": [
    "### Write a Python Program To Find ASCII value of a character?"
   ]
  },
  {
   "cell_type": "code",
   "execution_count": 16,
   "id": "7d65f7fc",
   "metadata": {
    "ExecuteTime": {
     "end_time": "2022-02-01T15:11:40.532102Z",
     "start_time": "2022-02-01T15:11:40.516173Z"
    }
   },
   "outputs": [
    {
     "name": "stdout",
     "output_type": "stream",
     "text": [
      "The ASCII value of 'P' is 80\n"
     ]
    }
   ],
   "source": [
    "str = 'P'\n",
    "print(\"The ASCII value of '\" + str + \"' is\", ord(str))"
   ]
  },
  {
   "cell_type": "markdown",
   "id": "b52dfd02",
   "metadata": {},
   "source": [
    "### Write a Python Program to Make a Simple Calculator with 4 basic mathematical operations?"
   ]
  },
  {
   "cell_type": "code",
   "execution_count": 20,
   "id": "882ea383",
   "metadata": {
    "ExecuteTime": {
     "end_time": "2022-02-01T15:24:34.538506Z",
     "start_time": "2022-02-01T15:24:22.763482Z"
    }
   },
   "outputs": [
    {
     "name": "stdout",
     "output_type": "stream",
     "text": [
      "Please select operation -\n",
      "1. Add\n",
      "2. Subtract\n",
      "3. Multiply\n",
      "4. Divide\n",
      "\n",
      "Choose from 1, 2, 3, 4 : 4\n",
      "Enter first number: 601\n",
      "Enter second number: 6\n",
      "Quotient of 601 and 6 is 100\n",
      "Remainder of 601 and 6 is 1\n"
     ]
    }
   ],
   "source": [
    "print(\"Please select operation -\\n\" \\\n",
    "        \"1. Add\\n\" \\\n",
    "        \"2. Subtract\\n\" \\\n",
    "        \"3. Multiply\\n\" \\\n",
    "        \"4. Divide\\n\")\n",
    "  \n",
    "choice = int(input(\"Choose from 1, 2, 3, 4 : \"))\n",
    "  \n",
    "x = int(input(\"Enter first number: \"))\n",
    "y = int(input(\"Enter second number: \"))\n",
    "  \n",
    "if choice == 1:\n",
    "    print(\"Sum of {} and {} is {}\".format(x,y,x+y))\n",
    "elif choice == 2:\n",
    "    print(\"Difference of {} and {} is {}\".format(x,y,x-y))\n",
    "elif choice == 3:\n",
    "    print(\"Product of {} and {} is {}\".format(x,y,x*y))\n",
    "elif choice == 4:\n",
    "    print(\"Quotient of {} and {} is {}\".format(x,y,x//y))\n",
    "    print(\"Remainder of {} and {} is {}\".format(x,y,x%y))\n",
    "else:\n",
    "    print(\"Invalid input\")"
   ]
  },
  {
   "cell_type": "code",
   "execution_count": null,
   "id": "a6b52466",
   "metadata": {},
   "outputs": [],
   "source": []
  }
 ],
 "metadata": {
  "kernelspec": {
   "display_name": "Python 3 (ipykernel)",
   "language": "python",
   "name": "python3"
  },
  "language_info": {
   "codemirror_mode": {
    "name": "ipython",
    "version": 3
   },
   "file_extension": ".py",
   "mimetype": "text/x-python",
   "name": "python",
   "nbconvert_exporter": "python",
   "pygments_lexer": "ipython3",
   "version": "3.10.2"
  },
  "toc": {
   "base_numbering": 1,
   "nav_menu": {},
   "number_sections": true,
   "sideBar": true,
   "skip_h1_title": false,
   "title_cell": "Table of Contents",
   "title_sidebar": "Contents",
   "toc_cell": false,
   "toc_position": {},
   "toc_section_display": true,
   "toc_window_display": false
  }
 },
 "nbformat": 4,
 "nbformat_minor": 5
}
