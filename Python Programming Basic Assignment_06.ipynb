{
 "cells": [
  {
   "cell_type": "markdown",
   "id": "11321dfb",
   "metadata": {},
   "source": [
    "### Write a Python Program to Display Fibonacci Sequence Using Recursion?"
   ]
  },
  {
   "cell_type": "code",
   "execution_count": 2,
   "id": "08613027",
   "metadata": {
    "ExecuteTime": {
     "end_time": "2022-02-08T11:38:39.782663Z",
     "start_time": "2022-02-08T11:38:32.472511Z"
    }
   },
   "outputs": [
    {
     "name": "stdout",
     "output_type": "stream",
     "text": [
      "Enter the sequence number: 15\n",
      "Fibonacci sequence:\n",
      "0\n",
      "1\n",
      "1\n",
      "2\n",
      "3\n",
      "5\n",
      "8\n",
      "13\n",
      "21\n",
      "34\n",
      "55\n",
      "89\n",
      "144\n",
      "233\n",
      "377\n"
     ]
    }
   ],
   "source": [
    "def fibo_recur(n):  \n",
    "   if n <= 1:  \n",
    "       return n  \n",
    "   else:  \n",
    "       return(fibo_recur(n-1) + fibo_recur(n-2))  \n",
    "seq = int(input(\"Enter the sequence number: \"))  \n",
    "if seq <= 0:  \n",
    "   print(\"Please enter a positive integer\")  \n",
    "else:  \n",
    "   print(\"Fibonacci sequence:\")  \n",
    "   for i in range(seq):  \n",
    "       print(fibo_recur(i))  "
   ]
  },
  {
   "cell_type": "markdown",
   "id": "10447958",
   "metadata": {
    "ExecuteTime": {
     "end_time": "2022-01-30T04:00:03.193293Z",
     "start_time": "2022-01-30T04:00:03.184318Z"
    }
   },
   "source": [
    "### Write a Python Program to Find Factorial of Number Using Recursion?"
   ]
  },
  {
   "cell_type": "code",
   "execution_count": 5,
   "id": "b74cbeb5",
   "metadata": {
    "ExecuteTime": {
     "end_time": "2022-02-08T11:44:05.468717Z",
     "start_time": "2022-02-08T11:43:56.396559Z"
    }
   },
   "outputs": [
    {
     "name": "stdout",
     "output_type": "stream",
     "text": [
      "Enter the number: 7\n",
      "The factorial of 7 is 5040\n"
     ]
    }
   ],
   "source": [
    "def fact_recur(n):\n",
    "   if n == 1:\n",
    "       return n\n",
    "   else:\n",
    "       return n*fact_recur(n-1)\n",
    "\n",
    "num = int(input(\"Enter the number: \"))\n",
    "if num < 0:\n",
    "   print(\"Sorry, factorial does not exist for negative numbers\")\n",
    "elif num == 0:\n",
    "   print(\"The factorial of 0 is 1\")\n",
    "else:\n",
    "   print(\"The factorial of {} is {}\".format(num, fact_recur(num)))"
   ]
  },
  {
   "cell_type": "markdown",
   "id": "ca169f16",
   "metadata": {},
   "source": [
    "### Write a Python Program to calculate your Body Mass Index?"
   ]
  },
  {
   "cell_type": "code",
   "execution_count": 9,
   "id": "e5223588",
   "metadata": {
    "ExecuteTime": {
     "end_time": "2022-02-08T11:51:26.831093Z",
     "start_time": "2022-02-08T11:51:18.776778Z"
    }
   },
   "outputs": [
    {
     "name": "stdout",
     "output_type": "stream",
     "text": [
      "Enter your height in metres: 1.75\n",
      "Enter your weight in kgs: 72\n",
      "\n",
      "The BMI is 23.510204081632654\n",
      "\n",
      "Healthy\n"
     ]
    }
   ],
   "source": [
    "def BMI(height, weight):\n",
    "    bmi = weight/(height**2)\n",
    "    return bmi\n",
    " \n",
    "height = float(input(\"Enter your height in metres: \"))\n",
    "weight = float(input(\"Enter your weight in kgs: \"))\n",
    " \n",
    "bmi = BMI(height, weight)\n",
    "print(\"\\nThe BMI is\", bmi)\n",
    " \n",
    "if (bmi < 18.5):\n",
    "    print(\"\\nunderweight\")\n",
    " \n",
    "elif ( bmi >= 18.5 and bmi < 24.9):\n",
    "    print(\"\\nHealthy\")\n",
    " \n",
    "elif ( bmi >= 24.9 and bmi < 30):\n",
    "    print(\"\\noverweight\")\n",
    " \n",
    "elif ( bmi >=30):\n",
    "    print(\"\\nSuffering from Obesity\")"
   ]
  },
  {
   "cell_type": "markdown",
   "id": "bea52a8d",
   "metadata": {},
   "source": [
    "### Write a Python Program to calculate the natural logarithm of any number?"
   ]
  },
  {
   "cell_type": "code",
   "execution_count": 12,
   "id": "6c8ca4b8",
   "metadata": {
    "ExecuteTime": {
     "end_time": "2022-02-08T11:57:14.909852Z",
     "start_time": "2022-02-08T11:57:10.702290Z"
    }
   },
   "outputs": [
    {
     "name": "stdout",
     "output_type": "stream",
     "text": [
      "Enter the number: 14\n",
      "Enter base number: 5\n",
      "\n",
      "Natural logarithm of  14  is \n",
      "2.6390573296152584\n",
      "\n",
      "Logarithm base  5  of  14  is \n",
      "1.6397385131955606\n"
     ]
    }
   ],
   "source": [
    "import math\n",
    "\n",
    "num = int(input(\"Enter the number: \")) \n",
    "base = int(input(\"Enter base number: \"))\n",
    "print (\"\\nNatural logarithm of \",num,\" is \")\n",
    "print (math.log(num))\n",
    " \n",
    "print (\"\\nLogarithm base \",base,\" of \",num,\" is \")\n",
    "print (math.log(num,base))"
   ]
  },
  {
   "cell_type": "markdown",
   "id": "b9d44f29",
   "metadata": {},
   "source": [
    "### Write a Python Program for cube sum of first n natural numbers?"
   ]
  },
  {
   "cell_type": "code",
   "execution_count": 13,
   "id": "bef6ae8a",
   "metadata": {
    "ExecuteTime": {
     "end_time": "2022-02-08T11:58:51.374069Z",
     "start_time": "2022-02-08T11:58:47.647610Z"
    }
   },
   "outputs": [
    {
     "name": "stdout",
     "output_type": "stream",
     "text": [
      "Enter the number: 5\n",
      "225\n"
     ]
    }
   ],
   "source": [
    "def sumOfSeries(n):\n",
    "    sum = 0\n",
    "    for i in range(1, n+1):\n",
    "        sum +=i*i*i\n",
    "    return sum\n",
    "n = int(input(\"Enter the number: \"))\n",
    "print(sumOfSeries(n))"
   ]
  }
 ],
 "metadata": {
  "kernelspec": {
   "display_name": "Python 3 (ipykernel)",
   "language": "python",
   "name": "python3"
  },
  "language_info": {
   "codemirror_mode": {
    "name": "ipython",
    "version": 3
   },
   "file_extension": ".py",
   "mimetype": "text/x-python",
   "name": "python",
   "nbconvert_exporter": "python",
   "pygments_lexer": "ipython3",
   "version": "3.10.2"
  },
  "toc": {
   "base_numbering": 1,
   "nav_menu": {},
   "number_sections": true,
   "sideBar": true,
   "skip_h1_title": false,
   "title_cell": "Table of Contents",
   "title_sidebar": "Contents",
   "toc_cell": false,
   "toc_position": {},
   "toc_section_display": true,
   "toc_window_display": false
  }
 },
 "nbformat": 4,
 "nbformat_minor": 5
}
