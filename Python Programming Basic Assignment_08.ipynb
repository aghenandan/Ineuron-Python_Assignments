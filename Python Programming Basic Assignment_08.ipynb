{
 "cells": [
  {
   "cell_type": "markdown",
   "id": "b3b9a87f",
   "metadata": {},
   "source": [
    "### Write a Python Program to Add Two Matrices?"
   ]
  },
  {
   "cell_type": "code",
   "execution_count": 4,
   "id": "73c7b2c8",
   "metadata": {
    "ExecuteTime": {
     "end_time": "2022-02-09T12:28:56.364985Z",
     "start_time": "2022-02-09T12:28:56.351252Z"
    }
   },
   "outputs": [
    {
     "name": "stdout",
     "output_type": "stream",
     "text": [
      "[2, 6, 10]\n",
      "[6, 10, 14]\n",
      "[10, 14, 18]\n"
     ]
    }
   ],
   "source": [
    "X = [[1,2,3],\n",
    "    [4 ,5,6],\n",
    "    [7 ,8,9]]\n",
    " \n",
    "Y = [[1,4,7],\n",
    "    [2,5,8],\n",
    "    [3,6,9]]\n",
    " \n",
    "result = [[0,0,0],\n",
    "        [0,0,0],\n",
    "        [0,0,0]]\n",
    " \n",
    "for i in range(len(X)):  \n",
    "    for j in range(len(X[0])):\n",
    "        result[i][j] = X[i][j] + Y[i][j]\n",
    "for r in result:\n",
    "    print(r)"
   ]
  },
  {
   "cell_type": "markdown",
   "id": "a9b07a31",
   "metadata": {},
   "source": [
    "### Write a Python Program to Multiply Two Matrices?"
   ]
  },
  {
   "cell_type": "code",
   "execution_count": 5,
   "id": "e2bd9788",
   "metadata": {
    "ExecuteTime": {
     "end_time": "2022-02-09T12:30:46.593852Z",
     "start_time": "2022-02-09T12:30:46.578433Z"
    }
   },
   "outputs": [
    {
     "name": "stdout",
     "output_type": "stream",
     "text": [
      "[114, 160, 60, 27]\n",
      "[74, 97, 73, 14]\n",
      "[119, 157, 112, 23]\n"
     ]
    }
   ],
   "source": [
    "A = [[12, 7, 3],\n",
    "    [4, 5, 6],\n",
    "    [7, 8, 9]]\n",
    " \n",
    "B = [[5, 8, 1, 2],\n",
    "    [6, 7, 3, 0],\n",
    "    [4, 5, 9, 1]]\n",
    "     \n",
    "result = [[0, 0, 0, 0],\n",
    "        [0, 0, 0, 0],\n",
    "        [0, 0, 0, 0]]\n",
    " \n",
    "for i in range(len(A)):\n",
    "    for j in range(len(B[0])):\n",
    "        for k in range(len(B)):\n",
    "            result[i][j] += A[i][k] * B[k][j]\n",
    "for r in result:\n",
    "    print(r)"
   ]
  },
  {
   "cell_type": "markdown",
   "id": "095bff57",
   "metadata": {},
   "source": [
    "### Write a Python Program to Transpose a Matrix?"
   ]
  },
  {
   "cell_type": "code",
   "execution_count": 7,
   "id": "513498c9",
   "metadata": {
    "ExecuteTime": {
     "end_time": "2022-02-09T12:32:45.934694Z",
     "start_time": "2022-02-09T12:32:45.914777Z"
    }
   },
   "outputs": [
    {
     "name": "stdout",
     "output_type": "stream",
     "text": [
      "Result matrix is\n",
      "1  2  3  \n",
      "1  2  3  \n",
      "1  2  3  \n",
      "1  2  3  \n"
     ]
    }
   ],
   "source": [
    "M = 3\n",
    "N = 4\n",
    "def transpose(A, B):\n",
    "    for i in range(N):\n",
    "        for j in range(M):\n",
    "            B[i][j] = A[j][i]\n",
    "A = [ [1, 1, 1, 1],\n",
    "    [2, 2, 2, 2],\n",
    "    [3, 3, 3, 3]]\n",
    "  \n",
    "B = [[0 for x in range(M)] for y in range(N)] \n",
    "  \n",
    "transpose(A, B)\n",
    "  \n",
    "print(\"Result matrix is\")\n",
    "for i in range(N):\n",
    "    for j in range(M):\n",
    "        print(B[i][j], \" \", end='')\n",
    "    print()  "
   ]
  },
  {
   "cell_type": "markdown",
   "id": "21fad131",
   "metadata": {},
   "source": [
    "### Write a Python Program to Sort Words in Alphabetic Order?"
   ]
  },
  {
   "cell_type": "code",
   "execution_count": 19,
   "id": "8625dfdb",
   "metadata": {
    "ExecuteTime": {
     "end_time": "2022-02-09T12:38:55.122293Z",
     "start_time": "2022-02-09T12:38:35.444219Z"
    }
   },
   "outputs": [
    {
     "name": "stdout",
     "output_type": "stream",
     "text": [
      "Enter a string: full stack data science online class\n",
      "The sorted words are:\n",
      "class\n",
      "data\n",
      "full\n",
      "online\n",
      "science\n",
      "stack\n"
     ]
    }
   ],
   "source": [
    "my_str = input(\"Enter a string: \")\n",
    "\n",
    "words = [word.lower() for word in my_str.split()]\n",
    "words.sort()\n",
    "\n",
    "print(\"The sorted words are:\")\n",
    "for word in words:\n",
    "    print(word)"
   ]
  },
  {
   "cell_type": "markdown",
   "id": "ccfda8a3",
   "metadata": {},
   "source": [
    "### Write a Python Program to Remove Punctuation From a String?"
   ]
  },
  {
   "cell_type": "code",
   "execution_count": 22,
   "id": "5d7d6e0c",
   "metadata": {
    "ExecuteTime": {
     "end_time": "2022-02-09T12:42:28.647998Z",
     "start_time": "2022-02-09T12:41:58.327785Z"
    }
   },
   "outputs": [
    {
     "name": "stdout",
     "output_type": "stream",
     "text": [
      "Enter a string: full,stack.data!science%class\"\n",
      "fullstackdatascienceclass\n"
     ]
    }
   ],
   "source": [
    "my_str = input(\"Enter a string: \")\n",
    "punctuations = '''!()-[]{};:'\"\\,<>./?@#$%^&*_~'''\n",
    "\n",
    "no_punct = \"\"\n",
    "for char in my_str:\n",
    "    if char not in punctuations:\n",
    "        no_punct = no_punct + char\n",
    "\n",
    "print(no_punct)"
   ]
  }
 ],
 "metadata": {
  "kernelspec": {
   "display_name": "Python 3 (ipykernel)",
   "language": "python",
   "name": "python3"
  },
  "language_info": {
   "codemirror_mode": {
    "name": "ipython",
    "version": 3
   },
   "file_extension": ".py",
   "mimetype": "text/x-python",
   "name": "python",
   "nbconvert_exporter": "python",
   "pygments_lexer": "ipython3",
   "version": "3.10.2"
  },
  "toc": {
   "base_numbering": 1,
   "nav_menu": {},
   "number_sections": true,
   "sideBar": true,
   "skip_h1_title": false,
   "title_cell": "Table of Contents",
   "title_sidebar": "Contents",
   "toc_cell": false,
   "toc_position": {},
   "toc_section_display": true,
   "toc_window_display": false
  }
 },
 "nbformat": 4,
 "nbformat_minor": 5
}
